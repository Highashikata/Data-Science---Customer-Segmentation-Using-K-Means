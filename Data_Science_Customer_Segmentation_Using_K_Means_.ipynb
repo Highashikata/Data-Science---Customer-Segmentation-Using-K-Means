{
  "cells": [
    {
      "cell_type": "markdown",
      "metadata": {
        "id": "view-in-github",
        "colab_type": "text"
      },
      "source": [
        "<a href=\"https://colab.research.google.com/github/Highashikata/Data-Science---Customer-Segmentation-Using-K-Means/blob/main/Data_Science_Customer_Segmentation_Using_K_Means_.ipynb\" target=\"_parent\"><img src=\"https://colab.research.google.com/assets/colab-badge.svg\" alt=\"Open In Colab\"/></a>"
      ]
    },
    {
      "cell_type": "markdown",
      "metadata": {
        "id": "MAGLvKWclP6V"
      },
      "source": [
        "**Customer Segmentation**\n",
        "<p>In this project we have a Customer DataSet as an inoput, and through this project we will be creating a Segementation with customers who behave the same and we will put them into clusters.</p>\n",
        "\n",
        "<p>After that we will be deploying our results into a Power BI report for business uses.</p>"
      ]
    },
    {
      "cell_type": "markdown",
      "metadata": {
        "id": "4epDpbJZl6_C"
      },
      "source": [
        "#### **Step 1 : Importing Useful libraries**\n"
      ]
    },
    {
      "cell_type": "code",
      "execution_count": null,
      "metadata": {
        "id": "oTAhDMCAkpVn"
      },
      "outputs": [],
      "source": [
        "# Packages\n",
        "import os \n",
        "import numpy as np\n",
        "import matplotlib.pyplot as plt\n",
        "import pandas as pd\n",
        "import seaborn as sns\n"
      ]
    },
    {
      "cell_type": "code",
      "execution_count": null,
      "metadata": {
        "colab": {
          "base_uri": "https://localhost:8080/",
          "height": 74,
          "resources": {
            "http://localhost:8080/nbextensions/google.colab/files.js": {
              "data": "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",
              "headers": [
                [
                  "content-type",
                  "application/javascript"
                ]
              ],
              "ok": true,
              "status": 200,
              "status_text": ""
            }
          }
        },
        "id": "5F7uRpjck3s8",
        "outputId": "cbf2cbb4-af12-4096-d668-602d2da70bf6"
      },
      "outputs": [
        {
          "data": {
            "text/html": [
              "\n",
              "     <input type=\"file\" id=\"files-399f507f-a7c1-4568-a251-209b92211a9e\" name=\"files[]\" multiple disabled\n",
              "        style=\"border:none\" />\n",
              "     <output id=\"result-399f507f-a7c1-4568-a251-209b92211a9e\">\n",
              "      Upload widget is only available when the cell has been executed in the\n",
              "      current browser session. Please rerun this cell to enable.\n",
              "      </output>\n",
              "      <script src=\"/nbextensions/google.colab/files.js\"></script> "
            ],
            "text/plain": [
              "<IPython.core.display.HTML object>"
            ]
          },
          "metadata": {},
          "output_type": "display_data"
        },
        {
          "name": "stdout",
          "output_type": "stream",
          "text": [
            "Saving Customers_Raw_Data.xlsx to Customers_Raw_Data.xlsx\n"
          ]
        }
      ],
      "source": [
        "# Load the Data into Google Colab\n",
        "from google.colab import files\n",
        "uploaded = files.upload()"
      ]
    },
    {
      "cell_type": "code",
      "execution_count": 82,
      "metadata": {
        "colab": {
          "base_uri": "https://localhost:8080/",
          "height": 880
        },
        "id": "H_83DE4ptFe9",
        "outputId": "8f1112e7-6de8-4487-a9f1-b05512b932c4"
      },
      "outputs": [
        {
          "output_type": "display_data",
          "data": {
            "application/vnd.google.colaboratory.intrinsic+json": {
              "type": "string"
            },
            "text/plain": [
              "'The Shape of The DataSet is (11852, 19)'"
            ]
          },
          "metadata": {}
        },
        {
          "output_type": "display_data",
          "data": {
            "text/html": [
              "\n",
              "  <div id=\"df-fbade0e9-b804-4264-a000-441e768b656f\">\n",
              "    <div class=\"colab-df-container\">\n",
              "      <div>\n",
              "<style scoped>\n",
              "    .dataframe tbody tr th:only-of-type {\n",
              "        vertical-align: middle;\n",
              "    }\n",
              "\n",
              "    .dataframe tbody tr th {\n",
              "        vertical-align: top;\n",
              "    }\n",
              "\n",
              "    .dataframe thead th {\n",
              "        text-align: right;\n",
              "    }\n",
              "</style>\n",
              "<table border=\"1\" class=\"dataframe\">\n",
              "  <thead>\n",
              "    <tr style=\"text-align: right;\">\n",
              "      <th></th>\n",
              "      <th>CUSTOMER</th>\n",
              "      <th>Age</th>\n",
              "      <th>Gender</th>\n",
              "      <th>Postcode</th>\n",
              "      <th>District</th>\n",
              "      <th>Constituency</th>\n",
              "      <th>latitude</th>\n",
              "      <th>longitude</th>\n",
              "      <th>Current_Status</th>\n",
              "      <th>Total_Household_Income</th>\n",
              "      <th>How often you attend Entertaining events in a year?</th>\n",
              "      <th>Social_Media</th>\n",
              "      <th>How many hours are you willing to travel to attend an event?</th>\n",
              "      <th>Do you enjoy adrenaline-rush activities?</th>\n",
              "      <th>Are food areas, coffee areas, bars &amp; toilets important to you?</th>\n",
              "      <th>What is your favourite attraction from below:</th>\n",
              "      <th>Were you satisfied with the last event you attended with us?</th>\n",
              "      <th>Would you recommend our events to other people?</th>\n",
              "      <th>Did you find our events value for money?</th>\n",
              "    </tr>\n",
              "  </thead>\n",
              "  <tbody>\n",
              "    <tr>\n",
              "      <th>0</th>\n",
              "      <td>1</td>\n",
              "      <td>40-49</td>\n",
              "      <td>Female</td>\n",
              "      <td>AL9 7BN</td>\n",
              "      <td>Welwyn Hatfield</td>\n",
              "      <td>Welwyn Hatfield</td>\n",
              "      <td>51.727429</td>\n",
              "      <td>-0.183648</td>\n",
              "      <td>Married with children</td>\n",
              "      <td>50,000 to 74,999</td>\n",
              "      <td>4 Times a Year</td>\n",
              "      <td>Up to 1 hour</td>\n",
              "      <td>3 hours</td>\n",
              "      <td>Entirely disagree</td>\n",
              "      <td>Entirely agree</td>\n",
              "      <td>Ice Bar</td>\n",
              "      <td>Somewhat agree</td>\n",
              "      <td>Somewhat Unlikely</td>\n",
              "      <td>Somewhat disagree</td>\n",
              "    </tr>\n",
              "    <tr>\n",
              "      <th>1</th>\n",
              "      <td>2</td>\n",
              "      <td>60-64</td>\n",
              "      <td>Male</td>\n",
              "      <td>AL7 1ZW</td>\n",
              "      <td>Welwyn Hatfield</td>\n",
              "      <td>Welwyn Hatfield</td>\n",
              "      <td>51.804482</td>\n",
              "      <td>-0.195898</td>\n",
              "      <td>Married with children</td>\n",
              "      <td>35,000 to 49,999</td>\n",
              "      <td>3 Times a Year</td>\n",
              "      <td>Up to 1 hour</td>\n",
              "      <td>5 hours</td>\n",
              "      <td>Somewhat disagree</td>\n",
              "      <td>Entirely agree</td>\n",
              "      <td>Happy Rollercoaster</td>\n",
              "      <td>Mostly agree</td>\n",
              "      <td>Somewhat Likely</td>\n",
              "      <td>Entirely disagree</td>\n",
              "    </tr>\n",
              "    <tr>\n",
              "      <th>2</th>\n",
              "      <td>3</td>\n",
              "      <td>50-59</td>\n",
              "      <td>Male</td>\n",
              "      <td>AB4 5JX</td>\n",
              "      <td>Aberdeenshire</td>\n",
              "      <td>Banff and Buchan</td>\n",
              "      <td>57.692200</td>\n",
              "      <td>-2.022295</td>\n",
              "      <td>Married with children</td>\n",
              "      <td>75,000 to 99,999</td>\n",
              "      <td>3 Times a Year</td>\n",
              "      <td>I don't spend any time at all</td>\n",
              "      <td>5 hours</td>\n",
              "      <td>Somewhat disagree</td>\n",
              "      <td>Somewhat agree</td>\n",
              "      <td>Happy Rollercoaster</td>\n",
              "      <td>Mostly agree</td>\n",
              "      <td>Mostly Unlikely</td>\n",
              "      <td>Entirely disagree</td>\n",
              "    </tr>\n",
              "    <tr>\n",
              "      <th>3</th>\n",
              "      <td>4</td>\n",
              "      <td>50-59</td>\n",
              "      <td>Female</td>\n",
              "      <td>B24 0DL</td>\n",
              "      <td>Birmingham</td>\n",
              "      <td>Birmingham, Erdington</td>\n",
              "      <td>52.526595</td>\n",
              "      <td>-1.822211</td>\n",
              "      <td>Married without children</td>\n",
              "      <td>35,000 to 49,999</td>\n",
              "      <td>1 Times a Year</td>\n",
              "      <td>Half a day</td>\n",
              "      <td>1 hour</td>\n",
              "      <td>Entirely agree</td>\n",
              "      <td>Neither agree nor disagree</td>\n",
              "      <td>Crazy rollercoaster ride</td>\n",
              "      <td>Somewhat agree</td>\n",
              "      <td>Somewhat Likely</td>\n",
              "      <td>Somewhat disagree</td>\n",
              "    </tr>\n",
              "    <tr>\n",
              "      <th>4</th>\n",
              "      <td>5</td>\n",
              "      <td>60-64</td>\n",
              "      <td>Male</td>\n",
              "      <td>E17 5QP</td>\n",
              "      <td>Waltham Forest</td>\n",
              "      <td>Walthamstow</td>\n",
              "      <td>51.593979</td>\n",
              "      <td>-0.040803</td>\n",
              "      <td>Married with children</td>\n",
              "      <td>100,000 to 149,999</td>\n",
              "      <td>3 Times a Year</td>\n",
              "      <td>Up to 1 hour</td>\n",
              "      <td>6 hours plus</td>\n",
              "      <td>Mostly disagree</td>\n",
              "      <td>Neither agree nor disagree</td>\n",
              "      <td>Kids Playground</td>\n",
              "      <td>Entirely agree</td>\n",
              "      <td>Very Unlikely</td>\n",
              "      <td>Entirely agree</td>\n",
              "    </tr>\n",
              "    <tr>\n",
              "      <th>5</th>\n",
              "      <td>6</td>\n",
              "      <td>65 or older</td>\n",
              "      <td>Male</td>\n",
              "      <td>AL7 9AJ</td>\n",
              "      <td>Welwyn Hatfield</td>\n",
              "      <td>Welwyn Hatfield</td>\n",
              "      <td>51.804196</td>\n",
              "      <td>-0.205381</td>\n",
              "      <td>Married with children</td>\n",
              "      <td>35,000 to 49,999</td>\n",
              "      <td>3 Times a Year</td>\n",
              "      <td>Up to 1 hour</td>\n",
              "      <td>4 hours</td>\n",
              "      <td>Mostly disagree</td>\n",
              "      <td>Neither agree nor disagree</td>\n",
              "      <td>Wooden Bar</td>\n",
              "      <td>Mostly agree</td>\n",
              "      <td>Somewhat Unlikely</td>\n",
              "      <td>Somewhat agree</td>\n",
              "    </tr>\n",
              "    <tr>\n",
              "      <th>6</th>\n",
              "      <td>7</td>\n",
              "      <td>50-59</td>\n",
              "      <td>Female</td>\n",
              "      <td>BL1 4NW</td>\n",
              "      <td>Bolton</td>\n",
              "      <td>Bolton West</td>\n",
              "      <td>53.581008</td>\n",
              "      <td>-2.455316</td>\n",
              "      <td>Living with partner</td>\n",
              "      <td>50,000 to 74,999</td>\n",
              "      <td>4 Times a Year</td>\n",
              "      <td>Up to 1 hour</td>\n",
              "      <td>4 hours</td>\n",
              "      <td>Mostly disagree</td>\n",
              "      <td>Mostly agree</td>\n",
              "      <td>Ice Bar</td>\n",
              "      <td>Mostly agree</td>\n",
              "      <td>Mostly Unlikely</td>\n",
              "      <td>Somewhat agree</td>\n",
              "    </tr>\n",
              "    <tr>\n",
              "      <th>7</th>\n",
              "      <td>8</td>\n",
              "      <td>33-39</td>\n",
              "      <td>Male</td>\n",
              "      <td>DA1 9GL</td>\n",
              "      <td>Dartford</td>\n",
              "      <td>Dartford</td>\n",
              "      <td>51.444500</td>\n",
              "      <td>0.209755</td>\n",
              "      <td>Married with children</td>\n",
              "      <td>100,000 to 149,999</td>\n",
              "      <td>3 Times a Year</td>\n",
              "      <td>Up to 1 hour</td>\n",
              "      <td>6 hours plus</td>\n",
              "      <td>Mostly disagree</td>\n",
              "      <td>Entirely agree</td>\n",
              "      <td>Kids Playground</td>\n",
              "      <td>Entirely agree</td>\n",
              "      <td>Very Unlikely</td>\n",
              "      <td>Entirely agree</td>\n",
              "    </tr>\n",
              "    <tr>\n",
              "      <th>8</th>\n",
              "      <td>9</td>\n",
              "      <td>33-39</td>\n",
              "      <td>Female</td>\n",
              "      <td>BL9 9GP</td>\n",
              "      <td>Bury</td>\n",
              "      <td>Bury North</td>\n",
              "      <td>53.580693</td>\n",
              "      <td>-2.283884</td>\n",
              "      <td>Divorced</td>\n",
              "      <td>35,000 to 49,999</td>\n",
              "      <td>1 Times a Year</td>\n",
              "      <td>Half a day</td>\n",
              "      <td>1 hour</td>\n",
              "      <td>Entirely agree</td>\n",
              "      <td>Neither agree nor disagree</td>\n",
              "      <td>Crazy rollercoaster ride</td>\n",
              "      <td>Somewhat agree</td>\n",
              "      <td>Somewhat Likely</td>\n",
              "      <td>Somewhat disagree</td>\n",
              "    </tr>\n",
              "    <tr>\n",
              "      <th>9</th>\n",
              "      <td>10</td>\n",
              "      <td>33-39</td>\n",
              "      <td>Male</td>\n",
              "      <td>HP22 5ZF</td>\n",
              "      <td>Aylesbury Vale</td>\n",
              "      <td>Aylesbury</td>\n",
              "      <td>51.803390</td>\n",
              "      <td>-0.724381</td>\n",
              "      <td>Married with children</td>\n",
              "      <td>50,000 to 74,999</td>\n",
              "      <td>3 Times a Year</td>\n",
              "      <td>Up to 1 hour</td>\n",
              "      <td>6 hours plus</td>\n",
              "      <td>Somewhat disagree</td>\n",
              "      <td>Mostly agree</td>\n",
              "      <td>Ice Bar</td>\n",
              "      <td>Neither agree nor disagree</td>\n",
              "      <td>Mostly Unlikely</td>\n",
              "      <td>Somewhat disagree</td>\n",
              "    </tr>\n",
              "  </tbody>\n",
              "</table>\n",
              "</div>\n",
              "      <button class=\"colab-df-convert\" onclick=\"convertToInteractive('df-fbade0e9-b804-4264-a000-441e768b656f')\"\n",
              "              title=\"Convert this dataframe to an interactive table.\"\n",
              "              style=\"display:none;\">\n",
              "        \n",
              "  <svg xmlns=\"http://www.w3.org/2000/svg\" height=\"24px\"viewBox=\"0 0 24 24\"\n",
              "       width=\"24px\">\n",
              "    <path d=\"M0 0h24v24H0V0z\" fill=\"none\"/>\n",
              "    <path d=\"M18.56 5.44l.94 2.06.94-2.06 2.06-.94-2.06-.94-.94-2.06-.94 2.06-2.06.94zm-11 1L8.5 8.5l.94-2.06 2.06-.94-2.06-.94L8.5 2.5l-.94 2.06-2.06.94zm10 10l.94 2.06.94-2.06 2.06-.94-2.06-.94-.94-2.06-.94 2.06-2.06.94z\"/><path d=\"M17.41 7.96l-1.37-1.37c-.4-.4-.92-.59-1.43-.59-.52 0-1.04.2-1.43.59L10.3 9.45l-7.72 7.72c-.78.78-.78 2.05 0 2.83L4 21.41c.39.39.9.59 1.41.59.51 0 1.02-.2 1.41-.59l7.78-7.78 2.81-2.81c.8-.78.8-2.07 0-2.86zM5.41 20L4 18.59l7.72-7.72 1.47 1.35L5.41 20z\"/>\n",
              "  </svg>\n",
              "      </button>\n",
              "      \n",
              "  <style>\n",
              "    .colab-df-container {\n",
              "      display:flex;\n",
              "      flex-wrap:wrap;\n",
              "      gap: 12px;\n",
              "    }\n",
              "\n",
              "    .colab-df-convert {\n",
              "      background-color: #E8F0FE;\n",
              "      border: none;\n",
              "      border-radius: 50%;\n",
              "      cursor: pointer;\n",
              "      display: none;\n",
              "      fill: #1967D2;\n",
              "      height: 32px;\n",
              "      padding: 0 0 0 0;\n",
              "      width: 32px;\n",
              "    }\n",
              "\n",
              "    .colab-df-convert:hover {\n",
              "      background-color: #E2EBFA;\n",
              "      box-shadow: 0px 1px 2px rgba(60, 64, 67, 0.3), 0px 1px 3px 1px rgba(60, 64, 67, 0.15);\n",
              "      fill: #174EA6;\n",
              "    }\n",
              "\n",
              "    [theme=dark] .colab-df-convert {\n",
              "      background-color: #3B4455;\n",
              "      fill: #D2E3FC;\n",
              "    }\n",
              "\n",
              "    [theme=dark] .colab-df-convert:hover {\n",
              "      background-color: #434B5C;\n",
              "      box-shadow: 0px 1px 3px 1px rgba(0, 0, 0, 0.15);\n",
              "      filter: drop-shadow(0px 1px 2px rgba(0, 0, 0, 0.3));\n",
              "      fill: #FFFFFF;\n",
              "    }\n",
              "  </style>\n",
              "\n",
              "      <script>\n",
              "        const buttonEl =\n",
              "          document.querySelector('#df-fbade0e9-b804-4264-a000-441e768b656f button.colab-df-convert');\n",
              "        buttonEl.style.display =\n",
              "          google.colab.kernel.accessAllowed ? 'block' : 'none';\n",
              "\n",
              "        async function convertToInteractive(key) {\n",
              "          const element = document.querySelector('#df-fbade0e9-b804-4264-a000-441e768b656f');\n",
              "          const dataTable =\n",
              "            await google.colab.kernel.invokeFunction('convertToInteractive',\n",
              "                                                     [key], {});\n",
              "          if (!dataTable) return;\n",
              "\n",
              "          const docLinkHtml = 'Like what you see? Visit the ' +\n",
              "            '<a target=\"_blank\" href=https://colab.research.google.com/notebooks/data_table.ipynb>data table notebook</a>'\n",
              "            + ' to learn more about interactive tables.';\n",
              "          element.innerHTML = '';\n",
              "          dataTable['output_type'] = 'display_data';\n",
              "          await google.colab.output.renderOutput(dataTable, element);\n",
              "          const docLink = document.createElement('div');\n",
              "          docLink.innerHTML = docLinkHtml;\n",
              "          element.appendChild(docLink);\n",
              "        }\n",
              "      </script>\n",
              "    </div>\n",
              "  </div>\n",
              "  "
            ],
            "text/plain": [
              "   CUSTOMER  ... Did you find our events value for money?\n",
              "0         1  ...                        Somewhat disagree\n",
              "1         2  ...                        Entirely disagree\n",
              "2         3  ...                        Entirely disagree\n",
              "3         4  ...                        Somewhat disagree\n",
              "4         5  ...                           Entirely agree\n",
              "5         6  ...                           Somewhat agree\n",
              "6         7  ...                           Somewhat agree\n",
              "7         8  ...                           Entirely agree\n",
              "8         9  ...                        Somewhat disagree\n",
              "9        10  ...                        Somewhat disagree\n",
              "\n",
              "[10 rows x 19 columns]"
            ]
          },
          "metadata": {}
        }
      ],
      "source": [
        "# Reading the Data With Pandas\n",
        "Raw_Data = pd.read_excel(\"Customers_Raw_Data.xlsx\")\n",
        "\n",
        "# Viewing the First 5 rows of the DataSet & Its Shape\n",
        "display(\"The Shape of The DataSet is {}\".format(Raw_Data.shape), Raw_Data.head(10))"
      ]
    },
    {
      "cell_type": "code",
      "execution_count": null,
      "metadata": {
        "colab": {
          "base_uri": "https://localhost:8080/"
        },
        "id": "-j4McghqPIa4",
        "outputId": "e01fc927-b236-4e67-bcbd-24383e342ee6"
      },
      "outputs": [
        {
          "name": "stdout",
          "output_type": "stream",
          "text": [
            "Requirement already satisfied: pyodbc in /usr/local/lib/python3.7/dist-packages (4.0.32)\n"
          ]
        }
      ],
      "source": [
        "pip install pyodbc"
      ]
    },
    {
      "cell_type": "code",
      "execution_count": 83,
      "metadata": {
        "id": "CaveEe1AtFiu"
      },
      "outputs": [],
      "source": [
        "# ### Getting The Data Using SQL Server\n",
        "# import pyodbc as podbc\n",
        "\n",
        "# connection = podbc.connect(\"Driver = {SQL Server Native Client 11.0};\"\n",
        "#                            \"Server = LAPTOP-A5MD8D65\\SQLEXPRESS;\"\n",
        "#                            \"Database = CustomerSegmentationDB;\"\n",
        "#                            \"Trusted_Connection = yes;\")\n",
        "\n",
        "# # Running SQL Queries we are needing\n",
        "# SQL_Query = pd.read_sql_query('''SELECT *\n",
        "# FROM CustomerSegmentationDB.dbo.Customers_Raw_Data''', connection)\n",
        "\n",
        "# # Connection Close\n",
        "\n",
        "\n",
        "# # Viz The Data\n",
        "# SQL_Query.head()"
      ]
    },
    {
      "cell_type": "markdown",
      "metadata": {
        "id": "5YUEItXhT_yR"
      },
      "source": [
        "#### Copying The Data for Security"
      ]
    },
    {
      "cell_type": "code",
      "execution_count": 84,
      "metadata": {
        "colab": {
          "base_uri": "https://localhost:8080/",
          "height": 433
        },
        "id": "gTea1KLTtFly",
        "outputId": "53b30907-2685-4a57-d696-1fff0894edd3"
      },
      "outputs": [
        {
          "output_type": "execute_result",
          "data": {
            "text/html": [
              "\n",
              "  <div id=\"df-36fce72a-dc3e-4dec-8d03-9df5f9b90798\">\n",
              "    <div class=\"colab-df-container\">\n",
              "      <div>\n",
              "<style scoped>\n",
              "    .dataframe tbody tr th:only-of-type {\n",
              "        vertical-align: middle;\n",
              "    }\n",
              "\n",
              "    .dataframe tbody tr th {\n",
              "        vertical-align: top;\n",
              "    }\n",
              "\n",
              "    .dataframe thead th {\n",
              "        text-align: right;\n",
              "    }\n",
              "</style>\n",
              "<table border=\"1\" class=\"dataframe\">\n",
              "  <thead>\n",
              "    <tr style=\"text-align: right;\">\n",
              "      <th></th>\n",
              "      <th>CUSTOMER</th>\n",
              "      <th>Age</th>\n",
              "      <th>Gender</th>\n",
              "      <th>Postcode</th>\n",
              "      <th>District</th>\n",
              "      <th>Constituency</th>\n",
              "      <th>latitude</th>\n",
              "      <th>longitude</th>\n",
              "      <th>Current_Status</th>\n",
              "      <th>Total_Household_Income</th>\n",
              "      <th>How often you attend Entertaining events in a year?</th>\n",
              "      <th>Social_Media</th>\n",
              "      <th>How many hours are you willing to travel to attend an event?</th>\n",
              "      <th>Do you enjoy adrenaline-rush activities?</th>\n",
              "      <th>Are food areas, coffee areas, bars &amp; toilets important to you?</th>\n",
              "      <th>What is your favourite attraction from below:</th>\n",
              "      <th>Were you satisfied with the last event you attended with us?</th>\n",
              "      <th>Would you recommend our events to other people?</th>\n",
              "      <th>Did you find our events value for money?</th>\n",
              "    </tr>\n",
              "  </thead>\n",
              "  <tbody>\n",
              "    <tr>\n",
              "      <th>0</th>\n",
              "      <td>1</td>\n",
              "      <td>40-49</td>\n",
              "      <td>Female</td>\n",
              "      <td>AL9 7BN</td>\n",
              "      <td>Welwyn Hatfield</td>\n",
              "      <td>Welwyn Hatfield</td>\n",
              "      <td>51.727429</td>\n",
              "      <td>-0.183648</td>\n",
              "      <td>Married with children</td>\n",
              "      <td>50,000 to 74,999</td>\n",
              "      <td>4 Times a Year</td>\n",
              "      <td>Up to 1 hour</td>\n",
              "      <td>3 hours</td>\n",
              "      <td>Entirely disagree</td>\n",
              "      <td>Entirely agree</td>\n",
              "      <td>Ice Bar</td>\n",
              "      <td>Somewhat agree</td>\n",
              "      <td>Somewhat Unlikely</td>\n",
              "      <td>Somewhat disagree</td>\n",
              "    </tr>\n",
              "    <tr>\n",
              "      <th>1</th>\n",
              "      <td>2</td>\n",
              "      <td>60-64</td>\n",
              "      <td>Male</td>\n",
              "      <td>AL7 1ZW</td>\n",
              "      <td>Welwyn Hatfield</td>\n",
              "      <td>Welwyn Hatfield</td>\n",
              "      <td>51.804482</td>\n",
              "      <td>-0.195898</td>\n",
              "      <td>Married with children</td>\n",
              "      <td>35,000 to 49,999</td>\n",
              "      <td>3 Times a Year</td>\n",
              "      <td>Up to 1 hour</td>\n",
              "      <td>5 hours</td>\n",
              "      <td>Somewhat disagree</td>\n",
              "      <td>Entirely agree</td>\n",
              "      <td>Happy Rollercoaster</td>\n",
              "      <td>Mostly agree</td>\n",
              "      <td>Somewhat Likely</td>\n",
              "      <td>Entirely disagree</td>\n",
              "    </tr>\n",
              "    <tr>\n",
              "      <th>2</th>\n",
              "      <td>3</td>\n",
              "      <td>50-59</td>\n",
              "      <td>Male</td>\n",
              "      <td>AB4 5JX</td>\n",
              "      <td>Aberdeenshire</td>\n",
              "      <td>Banff and Buchan</td>\n",
              "      <td>57.692200</td>\n",
              "      <td>-2.022295</td>\n",
              "      <td>Married with children</td>\n",
              "      <td>75,000 to 99,999</td>\n",
              "      <td>3 Times a Year</td>\n",
              "      <td>I don't spend any time at all</td>\n",
              "      <td>5 hours</td>\n",
              "      <td>Somewhat disagree</td>\n",
              "      <td>Somewhat agree</td>\n",
              "      <td>Happy Rollercoaster</td>\n",
              "      <td>Mostly agree</td>\n",
              "      <td>Mostly Unlikely</td>\n",
              "      <td>Entirely disagree</td>\n",
              "    </tr>\n",
              "  </tbody>\n",
              "</table>\n",
              "</div>\n",
              "      <button class=\"colab-df-convert\" onclick=\"convertToInteractive('df-36fce72a-dc3e-4dec-8d03-9df5f9b90798')\"\n",
              "              title=\"Convert this dataframe to an interactive table.\"\n",
              "              style=\"display:none;\">\n",
              "        \n",
              "  <svg xmlns=\"http://www.w3.org/2000/svg\" height=\"24px\"viewBox=\"0 0 24 24\"\n",
              "       width=\"24px\">\n",
              "    <path d=\"M0 0h24v24H0V0z\" fill=\"none\"/>\n",
              "    <path d=\"M18.56 5.44l.94 2.06.94-2.06 2.06-.94-2.06-.94-.94-2.06-.94 2.06-2.06.94zm-11 1L8.5 8.5l.94-2.06 2.06-.94-2.06-.94L8.5 2.5l-.94 2.06-2.06.94zm10 10l.94 2.06.94-2.06 2.06-.94-2.06-.94-.94-2.06-.94 2.06-2.06.94z\"/><path d=\"M17.41 7.96l-1.37-1.37c-.4-.4-.92-.59-1.43-.59-.52 0-1.04.2-1.43.59L10.3 9.45l-7.72 7.72c-.78.78-.78 2.05 0 2.83L4 21.41c.39.39.9.59 1.41.59.51 0 1.02-.2 1.41-.59l7.78-7.78 2.81-2.81c.8-.78.8-2.07 0-2.86zM5.41 20L4 18.59l7.72-7.72 1.47 1.35L5.41 20z\"/>\n",
              "  </svg>\n",
              "      </button>\n",
              "      \n",
              "  <style>\n",
              "    .colab-df-container {\n",
              "      display:flex;\n",
              "      flex-wrap:wrap;\n",
              "      gap: 12px;\n",
              "    }\n",
              "\n",
              "    .colab-df-convert {\n",
              "      background-color: #E8F0FE;\n",
              "      border: none;\n",
              "      border-radius: 50%;\n",
              "      cursor: pointer;\n",
              "      display: none;\n",
              "      fill: #1967D2;\n",
              "      height: 32px;\n",
              "      padding: 0 0 0 0;\n",
              "      width: 32px;\n",
              "    }\n",
              "\n",
              "    .colab-df-convert:hover {\n",
              "      background-color: #E2EBFA;\n",
              "      box-shadow: 0px 1px 2px rgba(60, 64, 67, 0.3), 0px 1px 3px 1px rgba(60, 64, 67, 0.15);\n",
              "      fill: #174EA6;\n",
              "    }\n",
              "\n",
              "    [theme=dark] .colab-df-convert {\n",
              "      background-color: #3B4455;\n",
              "      fill: #D2E3FC;\n",
              "    }\n",
              "\n",
              "    [theme=dark] .colab-df-convert:hover {\n",
              "      background-color: #434B5C;\n",
              "      box-shadow: 0px 1px 3px 1px rgba(0, 0, 0, 0.15);\n",
              "      filter: drop-shadow(0px 1px 2px rgba(0, 0, 0, 0.3));\n",
              "      fill: #FFFFFF;\n",
              "    }\n",
              "  </style>\n",
              "\n",
              "      <script>\n",
              "        const buttonEl =\n",
              "          document.querySelector('#df-36fce72a-dc3e-4dec-8d03-9df5f9b90798 button.colab-df-convert');\n",
              "        buttonEl.style.display =\n",
              "          google.colab.kernel.accessAllowed ? 'block' : 'none';\n",
              "\n",
              "        async function convertToInteractive(key) {\n",
              "          const element = document.querySelector('#df-36fce72a-dc3e-4dec-8d03-9df5f9b90798');\n",
              "          const dataTable =\n",
              "            await google.colab.kernel.invokeFunction('convertToInteractive',\n",
              "                                                     [key], {});\n",
              "          if (!dataTable) return;\n",
              "\n",
              "          const docLinkHtml = 'Like what you see? Visit the ' +\n",
              "            '<a target=\"_blank\" href=https://colab.research.google.com/notebooks/data_table.ipynb>data table notebook</a>'\n",
              "            + ' to learn more about interactive tables.';\n",
              "          element.innerHTML = '';\n",
              "          dataTable['output_type'] = 'display_data';\n",
              "          await google.colab.output.renderOutput(dataTable, element);\n",
              "          const docLink = document.createElement('div');\n",
              "          docLink.innerHTML = docLinkHtml;\n",
              "          element.appendChild(docLink);\n",
              "        }\n",
              "      </script>\n",
              "    </div>\n",
              "  </div>\n",
              "  "
            ],
            "text/plain": [
              "   CUSTOMER  ... Did you find our events value for money?\n",
              "0         1  ...                        Somewhat disagree\n",
              "1         2  ...                        Entirely disagree\n",
              "2         3  ...                        Entirely disagree\n",
              "\n",
              "[3 rows x 19 columns]"
            ]
          },
          "metadata": {},
          "execution_count": 84
        }
      ],
      "source": [
        "# Copy of the DataSet\n",
        "df = Raw_Data.copy()\n",
        "\n",
        "# Checking the New Data\n",
        "df.head(3)"
      ]
    },
    {
      "cell_type": "markdown",
      "metadata": {
        "id": "sEUy_WPbUVpE"
      },
      "source": [
        "#### Step 2 : Data Pre-processing"
      ]
    },
    {
      "cell_type": "markdown",
      "source": [
        "Another useful function provided by pandas is describe() which provides the count, mean, standard deviation, minimum and maximum values and the quantities of the data"
      ],
      "metadata": {
        "id": "2LDJbws-YRhu"
      }
    },
    {
      "cell_type": "code",
      "execution_count": null,
      "metadata": {
        "colab": {
          "background_save": true,
          "base_uri": "https://localhost:8080/",
          "height": 300
        },
        "id": "_Mpf9YL9tFo6",
        "outputId": "a275b239-a89a-4a68-eb1e-00fc4caec79e"
      },
      "outputs": [
        {
          "data": {
            "text/html": [
              "\n",
              "  <div id=\"df-4bff1906-a8db-4368-8c72-5d0f95a4546b\">\n",
              "    <div class=\"colab-df-container\">\n",
              "      <div>\n",
              "<style scoped>\n",
              "    .dataframe tbody tr th:only-of-type {\n",
              "        vertical-align: middle;\n",
              "    }\n",
              "\n",
              "    .dataframe tbody tr th {\n",
              "        vertical-align: top;\n",
              "    }\n",
              "\n",
              "    .dataframe thead th {\n",
              "        text-align: right;\n",
              "    }\n",
              "</style>\n",
              "<table border=\"1\" class=\"dataframe\">\n",
              "  <thead>\n",
              "    <tr style=\"text-align: right;\">\n",
              "      <th></th>\n",
              "      <th>CUSTOMER</th>\n",
              "      <th>latitude</th>\n",
              "      <th>longitude</th>\n",
              "    </tr>\n",
              "  </thead>\n",
              "  <tbody>\n",
              "    <tr>\n",
              "      <th>count</th>\n",
              "      <td>11852.000000</td>\n",
              "      <td>11852.000000</td>\n",
              "      <td>11852.000000</td>\n",
              "    </tr>\n",
              "    <tr>\n",
              "      <th>mean</th>\n",
              "      <td>6533.609349</td>\n",
              "      <td>52.688012</td>\n",
              "      <td>-1.985162</td>\n",
              "    </tr>\n",
              "    <tr>\n",
              "      <th>std</th>\n",
              "      <td>3770.698812</td>\n",
              "      <td>3.955425</td>\n",
              "      <td>1.800613</td>\n",
              "    </tr>\n",
              "    <tr>\n",
              "      <th>min</th>\n",
              "      <td>1.000000</td>\n",
              "      <td>0.000000</td>\n",
              "      <td>-8.140132</td>\n",
              "    </tr>\n",
              "    <tr>\n",
              "      <th>25%</th>\n",
              "      <td>3265.750000</td>\n",
              "      <td>51.503408</td>\n",
              "      <td>-2.981688</td>\n",
              "    </tr>\n",
              "    <tr>\n",
              "      <th>50%</th>\n",
              "      <td>6551.500000</td>\n",
              "      <td>52.401214</td>\n",
              "      <td>-1.931265</td>\n",
              "    </tr>\n",
              "    <tr>\n",
              "      <th>75%</th>\n",
              "      <td>9818.250000</td>\n",
              "      <td>54.057439</td>\n",
              "      <td>-0.409754</td>\n",
              "    </tr>\n",
              "    <tr>\n",
              "      <th>max</th>\n",
              "      <td>13042.000000</td>\n",
              "      <td>58.241169</td>\n",
              "      <td>12.496366</td>\n",
              "    </tr>\n",
              "  </tbody>\n",
              "</table>\n",
              "</div>\n",
              "      <button class=\"colab-df-convert\" onclick=\"convertToInteractive('df-4bff1906-a8db-4368-8c72-5d0f95a4546b')\"\n",
              "              title=\"Convert this dataframe to an interactive table.\"\n",
              "              style=\"display:none;\">\n",
              "        \n",
              "  <svg xmlns=\"http://www.w3.org/2000/svg\" height=\"24px\"viewBox=\"0 0 24 24\"\n",
              "       width=\"24px\">\n",
              "    <path d=\"M0 0h24v24H0V0z\" fill=\"none\"/>\n",
              "    <path d=\"M18.56 5.44l.94 2.06.94-2.06 2.06-.94-2.06-.94-.94-2.06-.94 2.06-2.06.94zm-11 1L8.5 8.5l.94-2.06 2.06-.94-2.06-.94L8.5 2.5l-.94 2.06-2.06.94zm10 10l.94 2.06.94-2.06 2.06-.94-2.06-.94-.94-2.06-.94 2.06-2.06.94z\"/><path d=\"M17.41 7.96l-1.37-1.37c-.4-.4-.92-.59-1.43-.59-.52 0-1.04.2-1.43.59L10.3 9.45l-7.72 7.72c-.78.78-.78 2.05 0 2.83L4 21.41c.39.39.9.59 1.41.59.51 0 1.02-.2 1.41-.59l7.78-7.78 2.81-2.81c.8-.78.8-2.07 0-2.86zM5.41 20L4 18.59l7.72-7.72 1.47 1.35L5.41 20z\"/>\n",
              "  </svg>\n",
              "      </button>\n",
              "      \n",
              "  <style>\n",
              "    .colab-df-container {\n",
              "      display:flex;\n",
              "      flex-wrap:wrap;\n",
              "      gap: 12px;\n",
              "    }\n",
              "\n",
              "    .colab-df-convert {\n",
              "      background-color: #E8F0FE;\n",
              "      border: none;\n",
              "      border-radius: 50%;\n",
              "      cursor: pointer;\n",
              "      display: none;\n",
              "      fill: #1967D2;\n",
              "      height: 32px;\n",
              "      padding: 0 0 0 0;\n",
              "      width: 32px;\n",
              "    }\n",
              "\n",
              "    .colab-df-convert:hover {\n",
              "      background-color: #E2EBFA;\n",
              "      box-shadow: 0px 1px 2px rgba(60, 64, 67, 0.3), 0px 1px 3px 1px rgba(60, 64, 67, 0.15);\n",
              "      fill: #174EA6;\n",
              "    }\n",
              "\n",
              "    [theme=dark] .colab-df-convert {\n",
              "      background-color: #3B4455;\n",
              "      fill: #D2E3FC;\n",
              "    }\n",
              "\n",
              "    [theme=dark] .colab-df-convert:hover {\n",
              "      background-color: #434B5C;\n",
              "      box-shadow: 0px 1px 3px 1px rgba(0, 0, 0, 0.15);\n",
              "      filter: drop-shadow(0px 1px 2px rgba(0, 0, 0, 0.3));\n",
              "      fill: #FFFFFF;\n",
              "    }\n",
              "  </style>\n",
              "\n",
              "      <script>\n",
              "        const buttonEl =\n",
              "          document.querySelector('#df-4bff1906-a8db-4368-8c72-5d0f95a4546b button.colab-df-convert');\n",
              "        buttonEl.style.display =\n",
              "          google.colab.kernel.accessAllowed ? 'block' : 'none';\n",
              "\n",
              "        async function convertToInteractive(key) {\n",
              "          const element = document.querySelector('#df-4bff1906-a8db-4368-8c72-5d0f95a4546b');\n",
              "          const dataTable =\n",
              "            await google.colab.kernel.invokeFunction('convertToInteractive',\n",
              "                                                     [key], {});\n",
              "          if (!dataTable) return;\n",
              "\n",
              "          const docLinkHtml = 'Like what you see? Visit the ' +\n",
              "            '<a target=\"_blank\" href=https://colab.research.google.com/notebooks/data_table.ipynb>data table notebook</a>'\n",
              "            + ' to learn more about interactive tables.';\n",
              "          element.innerHTML = '';\n",
              "          dataTable['output_type'] = 'display_data';\n",
              "          await google.colab.output.renderOutput(dataTable, element);\n",
              "          const docLink = document.createElement('div');\n",
              "          docLink.innerHTML = docLinkHtml;\n",
              "          element.appendChild(docLink);\n",
              "        }\n",
              "      </script>\n",
              "    </div>\n",
              "  </div>\n",
              "  "
            ],
            "text/plain": [
              "           CUSTOMER      latitude     longitude\n",
              "count  11852.000000  11852.000000  11852.000000\n",
              "mean    6533.609349     52.688012     -1.985162\n",
              "std     3770.698812      3.955425      1.800613\n",
              "min        1.000000      0.000000     -8.140132\n",
              "25%     3265.750000     51.503408     -2.981688\n",
              "50%     6551.500000     52.401214     -1.931265\n",
              "75%     9818.250000     54.057439     -0.409754\n",
              "max    13042.000000     58.241169     12.496366"
            ]
          },
          "execution_count": null,
          "metadata": {},
          "output_type": "execute_result"
        }
      ],
      "source": [
        "df.describe()"
      ]
    },
    {
      "cell_type": "code",
      "execution_count": null,
      "metadata": {
        "colab": {
          "base_uri": "https://localhost:8080/"
        },
        "id": "Gt8TwQJatFsF",
        "outputId": "ecd66523-38bf-4b92-82cd-b5c6b9a65f62"
      },
      "outputs": [
        {
          "data": {
            "text/plain": [
              "CUSTOMER                                                          0\n",
              "Age                                                               0\n",
              "Gender                                                            0\n",
              "Postcode                                                          0\n",
              "District                                                          0\n",
              "Constituency                                                      0\n",
              "latitude                                                          0\n",
              "longitude                                                         0\n",
              "Current_Status                                                    0\n",
              "Total_Household_Income                                            5\n",
              "How often you attend Entertaining events in a year?               5\n",
              "Social_Media                                                      5\n",
              "How many hours are you willing to travel to attend an event?      5\n",
              "Do you enjoy adrenaline-rush activities?                          5\n",
              "Are food areas, coffee areas, bars & toilets important to you?    5\n",
              "What is your favourite attraction from below:                     5\n",
              "Were you satisfied with the last event you attended with us?      5\n",
              "Would you recommend our events to other people?                   5\n",
              "Did you find our events value for money?                          6\n",
              "dtype: int64"
            ]
          },
          "execution_count": 12,
          "metadata": {},
          "output_type": "execute_result"
        }
      ],
      "source": [
        "### Checking for missing data\n",
        "df.isnull().sum()"
      ]
    },
    {
      "cell_type": "markdown",
      "metadata": {
        "id": "0CJXe8OkKjXk"
      },
      "source": [
        "**Comment : ** By looking at the precedent output, we have a bunch of missing data in the DataSet, in the following fields:\n",
        "       *'How often you attend Entertaining events in a year?', 'Social_Media',\n",
        "       'How many hours are you willing to travel to attend an event?',\n",
        "       'Do you enjoy adrenaline-rush activities?',\n",
        "       'Are food areas, coffee areas, bars & toilets important to you?',\n",
        "       'What is your favourite attraction from below:',\n",
        "       'Were you satisfied with the last event you attended with us?',\n",
        "       'Would you recommend our events to other people?',\n",
        "       'Did you find our events value for money?'*"
      ]
    },
    {
      "cell_type": "code",
      "execution_count": null,
      "metadata": {
        "colab": {
          "base_uri": "https://localhost:8080/"
        },
        "id": "qNeAr-Y-tFva",
        "outputId": "eb6f226f-16bc-4d44-eabe-9b619e44796d"
      },
      "outputs": [
        {
          "data": {
            "text/plain": [
              "Index(['CUSTOMER', 'Age', 'Gender', 'Postcode', 'District', 'Constituency',\n",
              "       'latitude', 'longitude', 'Current_Status', 'Total_Household_Income',\n",
              "       'How often you attend Entertaining events in a year?', 'Social_Media',\n",
              "       'How many hours are you willing to travel to attend an event?',\n",
              "       'Do you enjoy adrenaline-rush activities?',\n",
              "       'Are food areas, coffee areas, bars & toilets important to you?',\n",
              "       'What is your favourite attraction from below:',\n",
              "       'Were you satisfied with the last event you attended with us?',\n",
              "       'Would you recommend our events to other people?',\n",
              "       'Did you find our events value for money?'],\n",
              "      dtype='object')"
            ]
          },
          "execution_count": 11,
          "metadata": {},
          "output_type": "execute_result"
        }
      ],
      "source": [
        "df.columns"
      ]
    },
    {
      "cell_type": "code",
      "execution_count": null,
      "metadata": {
        "colab": {
          "base_uri": "https://localhost:8080/"
        },
        "id": "v9EwK-4BtFzZ",
        "outputId": "62d668a1-d7a6-424d-e26e-93dcda145728"
      },
      "outputs": [
        {
          "name": "stdout",
          "output_type": "stream",
          "text": [
            "<class 'pandas.core.frame.DataFrame'>\n",
            "RangeIndex: 11852 entries, 0 to 11851\n",
            "Data columns (total 19 columns):\n",
            " #   Column                                                          Non-Null Count  Dtype  \n",
            "---  ------                                                          --------------  -----  \n",
            " 0   CUSTOMER                                                        11852 non-null  int64  \n",
            " 1   Age                                                             11852 non-null  object \n",
            " 2   Gender                                                          11852 non-null  object \n",
            " 3   Postcode                                                        11852 non-null  object \n",
            " 4   District                                                        11852 non-null  object \n",
            " 5   Constituency                                                    11852 non-null  object \n",
            " 6   latitude                                                        11852 non-null  float64\n",
            " 7   longitude                                                       11852 non-null  float64\n",
            " 8   Current_Status                                                  11852 non-null  object \n",
            " 9   Total_Household_Income                                          11847 non-null  object \n",
            " 10  How often you attend Entertaining events in a year?             11847 non-null  object \n",
            " 11  Social_Media                                                    11847 non-null  object \n",
            " 12  How many hours are you willing to travel to attend an event?    11847 non-null  object \n",
            " 13  Do you enjoy adrenaline-rush activities?                        11847 non-null  object \n",
            " 14  Are food areas, coffee areas, bars & toilets important to you?  11847 non-null  object \n",
            " 15  What is your favourite attraction from below:                   11847 non-null  object \n",
            " 16  Were you satisfied with the last event you attended with us?    11847 non-null  object \n",
            " 17  Would you recommend our events to other people?                 11847 non-null  object \n",
            " 18  Did you find our events value for money?                        11846 non-null  object \n",
            "dtypes: float64(2), int64(1), object(16)\n",
            "memory usage: 1.7+ MB\n",
            "********************************************************************************\n"
          ]
        },
        {
          "data": {
            "text/plain": [
              "CUSTOMER                                                            int64\n",
              "Age                                                                object\n",
              "Gender                                                             object\n",
              "Postcode                                                           object\n",
              "District                                                           object\n",
              "Constituency                                                       object\n",
              "latitude                                                          float64\n",
              "longitude                                                         float64\n",
              "Current_Status                                                     object\n",
              "Total_Household_Income                                             object\n",
              "How often you attend Entertaining events in a year?                object\n",
              "Social_Media                                                       object\n",
              "How many hours are you willing to travel to attend an event?       object\n",
              "Do you enjoy adrenaline-rush activities?                           object\n",
              "Are food areas, coffee areas, bars & toilets important to you?     object\n",
              "What is your favourite attraction from below:                      object\n",
              "Were you satisfied with the last event you attended with us?       object\n",
              "Would you recommend our events to other people?                    object\n",
              "Did you find our events value for money?                           object\n",
              "dtype: object"
            ]
          },
          "execution_count": 17,
          "metadata": {},
          "output_type": "execute_result"
        }
      ],
      "source": [
        "### Cheking the Data Types\n",
        "df.info()\n",
        "\n",
        "### Organize the outputs\n",
        "print('****'*20)\n",
        "\n",
        "### OR \n",
        "df.dtypes"
      ]
    },
    {
      "cell_type": "markdown",
      "metadata": {
        "id": "Li3CMVd-Lirq"
      },
      "source": [
        "**Dropping Duplicate Rows**"
      ]
    },
    {
      "cell_type": "code",
      "execution_count": null,
      "metadata": {
        "colab": {
          "base_uri": "https://localhost:8080/",
          "height": 54
        },
        "id": "tpdaKXELk3xZ",
        "outputId": "23882aff-6cad-4d1c-f974-38193a380a5f"
      },
      "outputs": [
        {
          "name": "stdout",
          "output_type": "stream",
          "text": [
            "The Shape of the Data Before removing duplicate rows is (11852, 19)\n"
          ]
        },
        {
          "data": {
            "application/vnd.google.colaboratory.intrinsic+json": {
              "type": "string"
            },
            "text/plain": [
              "'The Shape of the Duplicate Rows DataFrame is (0, 19)'"
            ]
          },
          "metadata": {},
          "output_type": "display_data"
        }
      ],
      "source": [
        "### Checking for the DataSet shape before removing the Data\n",
        "print(\"The Shape of the Data Before removing duplicate rows is {}\".format(df.shape))\n",
        "\n",
        "### The Code to remove the duplicate rows\n",
        "duplicate_rows_df = df[df.duplicated()]\n",
        "\n",
        "### Displaying the Duplicate rows DataFrame\n",
        "display(\"The Shape of the Duplicate Rows DataFrame is {}\".format(duplicate_rows_df.shape))"
      ]
    },
    {
      "cell_type": "markdown",
      "metadata": {
        "id": "7pCHcQqpMnVZ"
      },
      "source": [
        "**Comment:** So the DataFrame doesn't contain any duplicate rows.\n",
        "BAAM!!"
      ]
    },
    {
      "cell_type": "code",
      "execution_count": 67,
      "metadata": {
        "id": "RQahDUygk37B",
        "colab": {
          "base_uri": "https://localhost:8080/"
        },
        "outputId": "05bccc8d-4cc0-4fc5-edad-d39a5d981433"
      },
      "outputs": [
        {
          "output_type": "stream",
          "name": "stdout",
          "text": [
            "The Number of values for the Feature CUSTOMER : 11847\n",
            "The Number of values for the Feature Age : 14\n",
            "The Number of Values for the Feature Gender : ['Female' 'Male'] ---- 2\n",
            "The Number of values for the Feature Postcode : 11785\n",
            "The Number of values for the Feature District : 221\n",
            "The Number of values for the Feature Constituency : 355\n",
            "The Number of values for the Feature latitude : 10731\n",
            "The Number of values for the Feature longitude : 10752\n",
            "The Number of Values for the Feature Current_Status : ['Married with children' 'Married without children' 'Living with partner'\n",
            " 'Divorced' 'Single, never married' 'Separated' 'Widowed' 'Step parent'] ---- 8\n",
            "The Number of Values for the Feature Total_Household_Income : ['50,000 to 74,999' '35,000 to 49,999' '75,000 to 99,999'\n",
            " '100,000 to 149,999' '150,000 to 199,999' '200,000 or more' nan\n",
            " '20,000 to 34,999' 'Less than 20,000'] ---- 9\n",
            "The Number of Values for the Feature How often you attend Entertaining events in a year? : ['4 Times a Year' '3 Times a Year' '1 Times a Year' '2 Times a Year' nan\n",
            " '5+ Times a Year'] ---- 6\n",
            "The Number of Values for the Feature Social_Media : ['Up to 1 hour' \"I don't spend any time at all\" 'Half a day' nan\n",
            " 'Up to 2 hours' 'More than half a day'] ---- 6\n",
            "The Number of Values for the Feature How many hours are you willing to travel to attend an event? : ['3 hours' '5 hours' '1 hour' '6 hours plus' '4 hours' nan '2 hours'\n",
            " 'Depends from the Event'] ---- 8\n",
            "The Number of Values for the Feature Do you enjoy adrenaline-rush activities? : ['Entirely disagree' 'Somewhat disagree' 'Entirely agree'\n",
            " 'Mostly disagree' 'Neither agree nor disagree' nan 'Somewhat agree'\n",
            " 'Mostly agree'] ---- 8\n",
            "The Number of Values for the Feature Are food areas, coffee areas, bars & toilets important to you? : ['Entirely agree' 'Somewhat agree' 'Neither agree nor disagree'\n",
            " 'Mostly agree' nan 'Mostly disagree' 'Somewhat disagree'\n",
            " 'Entirely disagree'] ---- 8\n",
            "The Number of Values for the Feature What is your favourite attraction from below: : ['Ice Bar' 'Happy Rollercoaster' 'Crazy rollercoaster ride'\n",
            " 'Kids Playground' 'Wooden Bar' nan 'Ice skating' 'Tree climbing'] ---- 8\n",
            "The Number of Values for the Feature Were you satisfied with the last event you attended with us? : ['Somewhat agree' 'Mostly agree' 'Entirely agree'\n",
            " 'Neither agree nor disagree' 'Mostly disagree' 'Entirely disagree' nan\n",
            " 'Somewhat disagree'] ---- 8\n",
            "The Number of Values for the Feature Would you recommend our events to other people? : ['Somewhat Unlikely' 'Somewhat Likely' 'Mostly Unlikely' 'Very Unlikely'\n",
            " 'Very Likely' nan 'Mostly Likely' 'Neither agree nor disagree'\n",
            " 'Somewhat Lik'] ---- 9\n",
            "The Number of Values for the Feature Did you find our events value for money? : ['Somewhat disagree' 'Entirely disagree' 'Entirely agree' 'Somewhat agree'\n",
            " 'Mostly disagree' 'Mostly agree' nan 'Neither agree nor disagree'] ---- 8\n"
          ]
        }
      ],
      "source": [
        "### Data Pre-processing\n",
        "## Determining the Unique Values in the Dataset\n",
        "\n",
        "for column in df:\n",
        "  if len(df[column].unique()) < 11:\n",
        "    print('The Number of Values for the Feature {} : {} ---- {}'.format(column, df[column].unique(), len(df[column].unique())))\n",
        "  else:\n",
        "    print('The Number of values for the Feature {} : {}'.format(column, len(df[column].unique())))\n",
        "\n"
      ]
    },
    {
      "cell_type": "markdown",
      "source": [
        "##### **Finding out Outliers**\n",
        "\n",
        "Find out Outliers: We know Q3 AND Q1 AND IQR=Q3-Q1, any data point which is less than Q1–1.5IQR or Q3+1.5IQR are consider as outlier"
      ],
      "metadata": {
        "id": "TIy0D5jdZPsn"
      }
    },
    {
      "cell_type": "code",
      "execution_count": 91,
      "metadata": {
        "id": "wpVSyb3zk3-2",
        "colab": {
          "base_uri": "https://localhost:8080/",
          "height": 327
        },
        "outputId": "cfb63b10-e677-4d78-b643-6adbc58c5077"
      },
      "outputs": [
        {
          "output_type": "display_data",
          "data": {
            "text/plain": [
              "0    51.727429\n",
              "1    51.804482\n",
              "2    57.692200\n",
              "3    52.526595\n",
              "4    51.593979\n",
              "Name: latitude, dtype: float64"
            ]
          },
          "metadata": {}
        },
        {
          "output_type": "display_data",
          "data": {
            "text/plain": [
              "0   -0.183648\n",
              "1   -0.195898\n",
              "2   -2.022295\n",
              "3   -1.822211\n",
              "4   -0.040803\n",
              "Name: longitude, dtype: float64"
            ]
          },
          "metadata": {}
        },
        {
          "output_type": "stream",
          "name": "stdout",
          "text": [
            "The Max Value 58.24116899999999\n",
            "The Min Value 0.0\n",
            "Q1 50.726950949999996\n",
            "Q3 50.726950949999996\n",
            "InterQuartile Range IQR 3.3304885499999983\n"
          ]
        }
      ],
      "source": [
        "display(df.latitude.head(), df.longitude.head())\n",
        "\n",
        "### defining the IQR of the Latitude\n",
        "Q1_latitude = df.latitude.quantile(.025)\n",
        "Q3_latitude = df.latitude.quantile(.75)\n",
        "IQR_Latitude = Q3_latitude - Q1_latitude\n",
        "lower_limit = Q1_latitude - 1.5*IQR_Latitude\n",
        "upper_limit = Q3_latitude + 1.5*IQR_Latitude\n",
        "\n",
        "### Printing the Statistical Values\n",
        "print(\"The Max Value\", df.latitude.max())\n",
        "print(\"The Min Value\", df.latitude.min())\n",
        "print(\"Q1\", Q1_latitude)\n",
        "print(\"Q3\", Q1_latitude)\n",
        "print(\"InterQuartile Range IQR\", IQR_Latitude)"
      ]
    },
    {
      "cell_type": "markdown",
      "source": [
        "Here is the function which will return outliers values given column"
      ],
      "metadata": {
        "id": "LK4hY78fc9rd"
      }
    },
    {
      "cell_type": "code",
      "execution_count": 99,
      "metadata": {
        "id": "tADK2M7-k4Cs",
        "colab": {
          "base_uri": "https://localhost:8080/"
        },
        "outputId": "f0009534-a53c-4c43-8970-6f5a91e02362"
      },
      "outputs": [
        {
          "output_type": "stream",
          "name": "stdout",
          "text": [
            "The Number of rows containing outliers 958\n",
            "The Remaining Data Which is not considered as outlier is 10894\n"
          ]
        }
      ],
      "source": [
        "def OutiliersDetection(column):\n",
        "  outliers = []\n",
        "  Q1 = column.quantile(.25)\n",
        "  Q3 = column.quantile(.75)\n",
        "  IQR = Q3 - Q1\n",
        "  lower_limit = Q1 - 0.25*IQR\n",
        "  upper_limit = Q3 + 1.5*IQR\n",
        "  for value in column:\n",
        "    if value < lower_limit or value > upper_limit:\n",
        "      outliers.append(value)\n",
        "  return list(outliers)\n",
        "\n",
        "# Checking the function with the Latitude column\n",
        "OutiliersDetection(df.latitude)\n",
        "\n",
        "print(\"The Number of rows containing outliers\", len(OutiliersDetection(df.latitude)))\n",
        "print(\"The Remaining Data Which is not considered as outlier is\", len(df.latitude) - len(OutiliersDetection(df.latitude)))"
      ]
    },
    {
      "cell_type": "markdown",
      "source": [
        "#### **Step 3 : Data Visualization**"
      ],
      "metadata": {
        "id": "O4QqGbx2fC01"
      }
    },
    {
      "cell_type": "markdown",
      "source": [
        "##### Check for missing values visually"
      ],
      "metadata": {
        "id": "v4qG2MfLfP9F"
      }
    },
    {
      "cell_type": "code",
      "execution_count": 104,
      "metadata": {
        "id": "3KmVdHiYk4G_",
        "colab": {
          "base_uri": "https://localhost:8080/",
          "height": 797
        },
        "outputId": "395acd25-8793-4635-eb27-0f20bcb87642"
      },
      "outputs": [
        {
          "output_type": "execute_result",
          "data": {
            "text/plain": [
              "<matplotlib.axes._subplots.AxesSubplot at 0x7fd291142d50>"
            ]
          },
          "metadata": {},
          "execution_count": 104
        },
        {
          "output_type": "display_data",
          "data": {
            "image/png": "[encoded data removed]",
            "text/plain": [
              "<Figure size 576x576 with 1 Axes>"
            ]
          },
          "metadata": {
            "needs_background": "light"
          }
        }
      ],
      "source": [
        "import seaborn as sns\n",
        "fig, ax = plt.subplots(figsize=(8,8))\n",
        "sns.heatmap(df.isnull(), cbar = False, yticklabels = False, cmap = 'viridis', ax = ax)"
      ]
    },
    {
      "cell_type": "markdown",
      "source": [
        "**Comment** : From above we can see there is no missing values in the dataset. Incase if there is any, we would have seen figure represented by different color shade on purple background."
      ],
      "metadata": {
        "id": "8wspe6QnkvIH"
      }
    },
    {
      "cell_type": "markdown",
      "source": [
        "##### Categorical Variables Analysis: \n",
        "Categorical variable analysis — Now we will understand how data is distributed in categorical feature."
      ],
      "metadata": {
        "id": "bxeZcpIemrJx"
      }
    },
    {
      "cell_type": "code",
      "source": [
        "### Defining a new DataFrame with only categorical variables"
      ],
      "metadata": {
        "id": "s5v4bwLscyz4"
      },
      "execution_count": 105,
      "outputs": []
    },
    {
      "cell_type": "code",
      "source": [
        "categorical_df = df.select_dtypes(\"object\")\n",
        "display(categorical_df.info(), categorical_df.head())"
      ],
      "metadata": {
        "colab": {
          "base_uri": "https://localhost:8080/",
          "height": 965
        },
        "id": "tVKyuC4ucy2h",
        "outputId": "0a5ad8ac-32fd-4ebd-850e-1dcf7fd3c7d3"
      },
      "execution_count": 108,
      "outputs": [
        {
          "output_type": "stream",
          "name": "stdout",
          "text": [
            "<class 'pandas.core.frame.DataFrame'>\n",
            "RangeIndex: 11852 entries, 0 to 11851\n",
            "Data columns (total 16 columns):\n",
            " #   Column                                                          Non-Null Count  Dtype \n",
            "---  ------                                                          --------------  ----- \n",
            " 0   Age                                                             11852 non-null  object\n",
            " 1   Gender                                                          11852 non-null  object\n",
            " 2   Postcode                                                        11852 non-null  object\n",
            " 3   District                                                        11852 non-null  object\n",
            " 4   Constituency                                                    11852 non-null  object\n",
            " 5   Current_Status                                                  11852 non-null  object\n",
            " 6   Total_Household_Income                                          11847 non-null  object\n",
            " 7   How often you attend Entertaining events in a year?             11847 non-null  object\n",
            " 8   Social_Media                                                    11847 non-null  object\n",
            " 9   How many hours are you willing to travel to attend an event?    11847 non-null  object\n",
            " 10  Do you enjoy adrenaline-rush activities?                        11847 non-null  object\n",
            " 11  Are food areas, coffee areas, bars & toilets important to you?  11847 non-null  object\n",
            " 12  What is your favourite attraction from below:                   11847 non-null  object\n",
            " 13  Were you satisfied with the last event you attended with us?    11847 non-null  object\n",
            " 14  Would you recommend our events to other people?                 11847 non-null  object\n",
            " 15  Did you find our events value for money?                        11846 non-null  object\n",
            "dtypes: object(16)\n",
            "memory usage: 1.4+ MB\n"
          ]
        },
        {
          "output_type": "display_data",
          "data": {
            "text/plain": [
              "None"
            ]
          },
          "metadata": {}
        },
        {
          "output_type": "display_data",
          "data": {
            "text/html": [
              "\n",
              "  <div id=\"df-6c332a12-de44-41a9-a723-754c86835045\">\n",
              "    <div class=\"colab-df-container\">\n",
              "      <div>\n",
              "<style scoped>\n",
              "    .dataframe tbody tr th:only-of-type {\n",
              "        vertical-align: middle;\n",
              "    }\n",
              "\n",
              "    .dataframe tbody tr th {\n",
              "        vertical-align: top;\n",
              "    }\n",
              "\n",
              "    .dataframe thead th {\n",
              "        text-align: right;\n",
              "    }\n",
              "</style>\n",
              "<table border=\"1\" class=\"dataframe\">\n",
              "  <thead>\n",
              "    <tr style=\"text-align: right;\">\n",
              "      <th></th>\n",
              "      <th>Age</th>\n",
              "      <th>Gender</th>\n",
              "      <th>Postcode</th>\n",
              "      <th>District</th>\n",
              "      <th>Constituency</th>\n",
              "      <th>Current_Status</th>\n",
              "      <th>Total_Household_Income</th>\n",
              "      <th>How often you attend Entertaining events in a year?</th>\n",
              "      <th>Social_Media</th>\n",
              "      <th>How many hours are you willing to travel to attend an event?</th>\n",
              "      <th>Do you enjoy adrenaline-rush activities?</th>\n",
              "      <th>Are food areas, coffee areas, bars &amp; toilets important to you?</th>\n",
              "      <th>What is your favourite attraction from below:</th>\n",
              "      <th>Were you satisfied with the last event you attended with us?</th>\n",
              "      <th>Would you recommend our events to other people?</th>\n",
              "      <th>Did you find our events value for money?</th>\n",
              "    </tr>\n",
              "  </thead>\n",
              "  <tbody>\n",
              "    <tr>\n",
              "      <th>0</th>\n",
              "      <td>40-49</td>\n",
              "      <td>Female</td>\n",
              "      <td>AL9 7BN</td>\n",
              "      <td>Welwyn Hatfield</td>\n",
              "      <td>Welwyn Hatfield</td>\n",
              "      <td>Married with children</td>\n",
              "      <td>50,000 to 74,999</td>\n",
              "      <td>4 Times a Year</td>\n",
              "      <td>Up to 1 hour</td>\n",
              "      <td>3 hours</td>\n",
              "      <td>Entirely disagree</td>\n",
              "      <td>Entirely agree</td>\n",
              "      <td>Ice Bar</td>\n",
              "      <td>Somewhat agree</td>\n",
              "      <td>Somewhat Unlikely</td>\n",
              "      <td>Somewhat disagree</td>\n",
              "    </tr>\n",
              "    <tr>\n",
              "      <th>1</th>\n",
              "      <td>60-64</td>\n",
              "      <td>Male</td>\n",
              "      <td>AL7 1ZW</td>\n",
              "      <td>Welwyn Hatfield</td>\n",
              "      <td>Welwyn Hatfield</td>\n",
              "      <td>Married with children</td>\n",
              "      <td>35,000 to 49,999</td>\n",
              "      <td>3 Times a Year</td>\n",
              "      <td>Up to 1 hour</td>\n",
              "      <td>5 hours</td>\n",
              "      <td>Somewhat disagree</td>\n",
              "      <td>Entirely agree</td>\n",
              "      <td>Happy Rollercoaster</td>\n",
              "      <td>Mostly agree</td>\n",
              "      <td>Somewhat Likely</td>\n",
              "      <td>Entirely disagree</td>\n",
              "    </tr>\n",
              "    <tr>\n",
              "      <th>2</th>\n",
              "      <td>50-59</td>\n",
              "      <td>Male</td>\n",
              "      <td>AB4 5JX</td>\n",
              "      <td>Aberdeenshire</td>\n",
              "      <td>Banff and Buchan</td>\n",
              "      <td>Married with children</td>\n",
              "      <td>75,000 to 99,999</td>\n",
              "      <td>3 Times a Year</td>\n",
              "      <td>I don't spend any time at all</td>\n",
              "      <td>5 hours</td>\n",
              "      <td>Somewhat disagree</td>\n",
              "      <td>Somewhat agree</td>\n",
              "      <td>Happy Rollercoaster</td>\n",
              "      <td>Mostly agree</td>\n",
              "      <td>Mostly Unlikely</td>\n",
              "      <td>Entirely disagree</td>\n",
              "    </tr>\n",
              "    <tr>\n",
              "      <th>3</th>\n",
              "      <td>50-59</td>\n",
              "      <td>Female</td>\n",
              "      <td>B24 0DL</td>\n",
              "      <td>Birmingham</td>\n",
              "      <td>Birmingham, Erdington</td>\n",
              "      <td>Married without children</td>\n",
              "      <td>35,000 to 49,999</td>\n",
              "      <td>1 Times a Year</td>\n",
              "      <td>Half a day</td>\n",
              "      <td>1 hour</td>\n",
              "      <td>Entirely agree</td>\n",
              "      <td>Neither agree nor disagree</td>\n",
              "      <td>Crazy rollercoaster ride</td>\n",
              "      <td>Somewhat agree</td>\n",
              "      <td>Somewhat Likely</td>\n",
              "      <td>Somewhat disagree</td>\n",
              "    </tr>\n",
              "    <tr>\n",
              "      <th>4</th>\n",
              "      <td>60-64</td>\n",
              "      <td>Male</td>\n",
              "      <td>E17 5QP</td>\n",
              "      <td>Waltham Forest</td>\n",
              "      <td>Walthamstow</td>\n",
              "      <td>Married with children</td>\n",
              "      <td>100,000 to 149,999</td>\n",
              "      <td>3 Times a Year</td>\n",
              "      <td>Up to 1 hour</td>\n",
              "      <td>6 hours plus</td>\n",
              "      <td>Mostly disagree</td>\n",
              "      <td>Neither agree nor disagree</td>\n",
              "      <td>Kids Playground</td>\n",
              "      <td>Entirely agree</td>\n",
              "      <td>Very Unlikely</td>\n",
              "      <td>Entirely agree</td>\n",
              "    </tr>\n",
              "  </tbody>\n",
              "</table>\n",
              "</div>\n",
              "      <button class=\"colab-df-convert\" onclick=\"convertToInteractive('df-6c332a12-de44-41a9-a723-754c86835045')\"\n",
              "              title=\"Convert this dataframe to an interactive table.\"\n",
              "              style=\"display:none;\">\n",
              "        \n",
              "  <svg xmlns=\"http://www.w3.org/2000/svg\" height=\"24px\"viewBox=\"0 0 24 24\"\n",
              "       width=\"24px\">\n",
              "    <path d=\"M0 0h24v24H0V0z\" fill=\"none\"/>\n",
              "    <path d=\"M18.56 5.44l.94 2.06.94-2.06 2.06-.94-2.06-.94-.94-2.06-.94 2.06-2.06.94zm-11 1L8.5 8.5l.94-2.06 2.06-.94-2.06-.94L8.5 2.5l-.94 2.06-2.06.94zm10 10l.94 2.06.94-2.06 2.06-.94-2.06-.94-.94-2.06-.94 2.06-2.06.94z\"/><path d=\"M17.41 7.96l-1.37-1.37c-.4-.4-.92-.59-1.43-.59-.52 0-1.04.2-1.43.59L10.3 9.45l-7.72 7.72c-.78.78-.78 2.05 0 2.83L4 21.41c.39.39.9.59 1.41.59.51 0 1.02-.2 1.41-.59l7.78-7.78 2.81-2.81c.8-.78.8-2.07 0-2.86zM5.41 20L4 18.59l7.72-7.72 1.47 1.35L5.41 20z\"/>\n",
              "  </svg>\n",
              "      </button>\n",
              "      \n",
              "  <style>\n",
              "    .colab-df-container {\n",
              "      display:flex;\n",
              "      flex-wrap:wrap;\n",
              "      gap: 12px;\n",
              "    }\n",
              "\n",
              "    .colab-df-convert {\n",
              "      background-color: #E8F0FE;\n",
              "      border: none;\n",
              "      border-radius: 50%;\n",
              "      cursor: pointer;\n",
              "      display: none;\n",
              "      fill: #1967D2;\n",
              "      height: 32px;\n",
              "      padding: 0 0 0 0;\n",
              "      width: 32px;\n",
              "    }\n",
              "\n",
              "    .colab-df-convert:hover {\n",
              "      background-color: #E2EBFA;\n",
              "      box-shadow: 0px 1px 2px rgba(60, 64, 67, 0.3), 0px 1px 3px 1px rgba(60, 64, 67, 0.15);\n",
              "      fill: #174EA6;\n",
              "    }\n",
              "\n",
              "    [theme=dark] .colab-df-convert {\n",
              "      background-color: #3B4455;\n",
              "      fill: #D2E3FC;\n",
              "    }\n",
              "\n",
              "    [theme=dark] .colab-df-convert:hover {\n",
              "      background-color: #434B5C;\n",
              "      box-shadow: 0px 1px 3px 1px rgba(0, 0, 0, 0.15);\n",
              "      filter: drop-shadow(0px 1px 2px rgba(0, 0, 0, 0.3));\n",
              "      fill: #FFFFFF;\n",
              "    }\n",
              "  </style>\n",
              "\n",
              "      <script>\n",
              "        const buttonEl =\n",
              "          document.querySelector('#df-6c332a12-de44-41a9-a723-754c86835045 button.colab-df-convert');\n",
              "        buttonEl.style.display =\n",
              "          google.colab.kernel.accessAllowed ? 'block' : 'none';\n",
              "\n",
              "        async function convertToInteractive(key) {\n",
              "          const element = document.querySelector('#df-6c332a12-de44-41a9-a723-754c86835045');\n",
              "          const dataTable =\n",
              "            await google.colab.kernel.invokeFunction('convertToInteractive',\n",
              "                                                     [key], {});\n",
              "          if (!dataTable) return;\n",
              "\n",
              "          const docLinkHtml = 'Like what you see? Visit the ' +\n",
              "            '<a target=\"_blank\" href=https://colab.research.google.com/notebooks/data_table.ipynb>data table notebook</a>'\n",
              "            + ' to learn more about interactive tables.';\n",
              "          element.innerHTML = '';\n",
              "          dataTable['output_type'] = 'display_data';\n",
              "          await google.colab.output.renderOutput(dataTable, element);\n",
              "          const docLink = document.createElement('div');\n",
              "          docLink.innerHTML = docLinkHtml;\n",
              "          element.appendChild(docLink);\n",
              "        }\n",
              "      </script>\n",
              "    </div>\n",
              "  </div>\n",
              "  "
            ],
            "text/plain": [
              "     Age  ... Did you find our events value for money?\n",
              "0  40-49  ...                        Somewhat disagree\n",
              "1  60-64  ...                        Entirely disagree\n",
              "2  50-59  ...                        Entirely disagree\n",
              "3  50-59  ...                        Somewhat disagree\n",
              "4  60-64  ...                           Entirely agree\n",
              "\n",
              "[5 rows x 16 columns]"
            ]
          },
          "metadata": {}
        }
      ]
    },
    {
      "cell_type": "code",
      "source": [
        "## Checking for The Gender Count\n",
        "fields = ['Age', 'Gender', 'Postcode', 'District', 'Constituency']\n",
        "for field in fields:\n",
        "  sns.factorplot(field, data = categorical_df, kind = 'count')"
      ],
      "metadata": {
        "colab": {
          "base_uri": "https://localhost:8080/",
          "height": 1000
        },
        "id": "4GHmEhgCcy5C",
        "outputId": "0a9ee405-9102-482b-936f-a10d2a085222"
      },
      "execution_count": 115,
      "outputs": [
        {
          "output_type": "stream",
          "name": "stderr",
          "text": [
            "/usr/local/lib/python3.7/dist-packages/seaborn/categorical.py:3717: UserWarning: The `factorplot` function has been renamed to `catplot`. The original name will be removed in a future release. Please update your code. Note that the default `kind` in `factorplot` (`'point'`) has changed `'strip'` in `catplot`.\n",
            "  warnings.warn(msg)\n",
            "/usr/local/lib/python3.7/dist-packages/seaborn/_decorators.py:43: FutureWarning: Pass the following variable as a keyword arg: x. From version 0.12, the only valid positional argument will be `data`, and passing other arguments without an explicit keyword will result in an error or misinterpretation.\n",
            "  FutureWarning\n",
            "/usr/local/lib/python3.7/dist-packages/seaborn/categorical.py:3717: UserWarning: The `factorplot` function has been renamed to `catplot`. The original name will be removed in a future release. Please update your code. Note that the default `kind` in `factorplot` (`'point'`) has changed `'strip'` in `catplot`.\n",
            "  warnings.warn(msg)\n",
            "/usr/local/lib/python3.7/dist-packages/seaborn/_decorators.py:43: FutureWarning: Pass the following variable as a keyword arg: x. From version 0.12, the only valid positional argument will be `data`, and passing other arguments without an explicit keyword will result in an error or misinterpretation.\n",
            "  FutureWarning\n",
            "/usr/local/lib/python3.7/dist-packages/seaborn/categorical.py:3717: UserWarning: The `factorplot` function has been renamed to `catplot`. The original name will be removed in a future release. Please update your code. Note that the default `kind` in `factorplot` (`'point'`) has changed `'strip'` in `catplot`.\n",
            "  warnings.warn(msg)\n",
            "/usr/local/lib/python3.7/dist-packages/seaborn/_decorators.py:43: FutureWarning: Pass the following variable as a keyword arg: x. From version 0.12, the only valid positional argument will be `data`, and passing other arguments without an explicit keyword will result in an error or misinterpretation.\n",
            "  FutureWarning\n",
            "/usr/local/lib/python3.7/dist-packages/seaborn/categorical.py:3717: UserWarning: The `factorplot` function has been renamed to `catplot`. The original name will be removed in a future release. Please update your code. Note that the default `kind` in `factorplot` (`'point'`) has changed `'strip'` in `catplot`.\n",
            "  warnings.warn(msg)\n",
            "/usr/local/lib/python3.7/dist-packages/seaborn/_decorators.py:43: FutureWarning: Pass the following variable as a keyword arg: x. From version 0.12, the only valid positional argument will be `data`, and passing other arguments without an explicit keyword will result in an error or misinterpretation.\n",
            "  FutureWarning\n",
            "/usr/local/lib/python3.7/dist-packages/seaborn/categorical.py:3717: UserWarning: The `factorplot` function has been renamed to `catplot`. The original name will be removed in a future release. Please update your code. Note that the default `kind` in `factorplot` (`'point'`) has changed `'strip'` in `catplot`.\n",
            "  warnings.warn(msg)\n",
            "/usr/local/lib/python3.7/dist-packages/seaborn/_decorators.py:43: FutureWarning: Pass the following variable as a keyword arg: x. From version 0.12, the only valid positional argument will be `data`, and passing other arguments without an explicit keyword will result in an error or misinterpretation.\n",
            "  FutureWarning\n"
          ]
        },
        {
          "output_type": "display_data",
          "data": {
            "image/png": "[encoded data removed]",
            "text/plain": [
              "<Figure size 360x360 with 1 Axes>"
            ]
          },
          "metadata": {
            "needs_background": "light"
          }
        },
        {
          "output_type": "display_data",
          "data": {
            "image/png": "[encoded data removed]",
            "text/plain": [
              "<Figure size 360x360 with 1 Axes>"
            ]
          },
          "metadata": {
            "needs_background": "light"
          }
        },
        {
          "output_type": "display_data",
          "data": {
            "image/png": "[encoded data removed]",
            "text/plain": [
              "<Figure size 360x360 with 1 Axes>"
            ]
          },
          "metadata": {
            "needs_background": "light"
          }
        },
        {
          "output_type": "display_data",
          "data": {
            "image/png": "[encoded data removed]",
            "text/plain": [
              "<Figure size 360x360 with 1 Axes>"
            ]
          },
          "metadata": {
            "needs_background": "light"
          }
        },
        {
          "output_type": "display_data",
          "data": {
            "image/png": "[encoded data removed]",
            "text/plain": [
              "<Figure size 360x360 with 1 Axes>"
            ]
          },
          "metadata": {
            "needs_background": "light"
          }
        }
      ]
    },
    {
      "cell_type": "code",
      "source": [
        ""
      ],
      "metadata": {
        "id": "fwdyev3ocy7j"
      },
      "execution_count": 115,
      "outputs": []
    },
    {
      "cell_type": "code",
      "source": [
        ""
      ],
      "metadata": {
        "id": "2P4bb3xlcy-V"
      },
      "execution_count": null,
      "outputs": []
    },
    {
      "cell_type": "code",
      "source": [
        ""
      ],
      "metadata": {
        "id": "wjm31VAnczBT"
      },
      "execution_count": null,
      "outputs": []
    }
  ],
  "metadata": {
    "colab": {
      "collapsed_sections": [],
      "name": "Data Science - Customer Segmentation Using K-Means .ipynb",
      "provenance": [],
      "authorship_tag": "ABX9TyNmMNFk157OVYpliTNJpa6r",
      "include_colab_link": true
    },
    "kernelspec": {
      "display_name": "Python 3",
      "name": "python3"
    },
    "language_info": {
      "name": "python"
    }
  },
  "nbformat": 4,
  "nbformat_minor": 0
}