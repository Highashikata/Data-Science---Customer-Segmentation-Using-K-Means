{
  "cells": [
    {
      "cell_type": "markdown",
      "metadata": {
        "id": "view-in-github",
        "colab_type": "text"
      },
      "source": [
        "<a href=\"https://colab.research.google.com/github/Highashikata/Data-Science---Customer-Segmentation-Using-K-Means/blob/main/Data_Science_Customer_Segmentation_Using_K_Means_.ipynb\" target=\"_parent\"><img src=\"https://colab.research.google.com/assets/colab-badge.svg\" alt=\"Open In Colab\"/></a>"
      ]
    },
    {
      "cell_type": "markdown",
      "metadata": {
        "id": "MAGLvKWclP6V"
      },
      "source": [
        "**Customer Segmentation**\n",
        "<p>In this project we have a Customer DataSet as an inoput, and through this project we will be creating a Segementation with customers who behave the same and we will put them into clusters.</p>\n",
        "\n",
        "<p>After that we will be deploying our results into a Power BI report for business uses.</p>"
      ]
    },
    {
      "cell_type": "markdown",
      "metadata": {
        "id": "4epDpbJZl6_C"
      },
      "source": [
        "#### **Step 1 : Importing Useful libraries**\n"
      ]
    },
    {
      "cell_type": "code",
      "execution_count": 3,
      "metadata": {
        "id": "oTAhDMCAkpVn"
      },
      "outputs": [],
      "source": [
        "# Packages\n",
        "import os \n",
        "import numpy as np\n",
        "import matplotlib.pyplot as plt\n",
        "import pandas as pd\n",
        "import seaborn as sns\n"
      ]
    },
    {
      "cell_type": "code",
      "execution_count": 4,
      "metadata": {
        "colab": {
          "base_uri": "https://localhost:8080/",
          "height": 74,
          "resources": {
            "http://localhost:8080/nbextensions/google.colab/files.js": {
              "data": "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",
              "headers": [
                [
                  "content-type",
                  "application/javascript"
                ]
              ],
              "ok": true,
              "status": 200,
              "status_text": ""
            }
          }
        },
        "id": "5F7uRpjck3s8",
        "outputId": "d82c3645-3a87-4228-8a84-ffdb336c60b9"
      },
      "outputs": [
        {
          "output_type": "display_data",
          "data": {
            "text/html": [
              "\n",
              "     <input type=\"file\" id=\"files-7494e6f4-6234-46cc-9cbc-6fbff06ac865\" name=\"files[]\" multiple disabled\n",
              "        style=\"border:none\" />\n",
              "     <output id=\"result-7494e6f4-6234-46cc-9cbc-6fbff06ac865\">\n",
              "      Upload widget is only available when the cell has been executed in the\n",
              "      current browser session. Please rerun this cell to enable.\n",
              "      </output>\n",
              "      <script src=\"/nbextensions/google.colab/files.js\"></script> "
            ],
            "text/plain": [
              "<IPython.core.display.HTML object>"
            ]
          },
          "metadata": {}
        },
        {
          "output_type": "stream",
          "name": "stdout",
          "text": [
            "Saving Customers_Raw_Data.xlsx to Customers_Raw_Data.xlsx\n"
          ]
        }
      ],
      "source": [
        "# Load the Data into Google Colab\n",
        "from google.colab import files\n",
        "uploaded = files.upload()"
      ]
    },
    {
      "cell_type": "code",
      "execution_count": 5,
      "metadata": {
        "id": "H_83DE4ptFe9",
        "colab": {
          "base_uri": "https://localhost:8080/",
          "height": 880
        },
        "outputId": "1e3559fd-be2f-4868-eff7-f54a67276b0d"
      },
      "outputs": [
        {
          "output_type": "display_data",
          "data": {
            "application/vnd.google.colaboratory.intrinsic+json": {
              "type": "string"
            },
            "text/plain": [
              "'The Shape of The DataSet is (11852, 19)'"
            ]
          },
          "metadata": {}
        },
        {
          "output_type": "display_data",
          "data": {
            "text/html": [
              "\n",
              "  <div id=\"df-f69d2660-0e79-45ab-bf2d-94873043fa10\">\n",
              "    <div class=\"colab-df-container\">\n",
              "      <div>\n",
              "<style scoped>\n",
              "    .dataframe tbody tr th:only-of-type {\n",
              "        vertical-align: middle;\n",
              "    }\n",
              "\n",
              "    .dataframe tbody tr th {\n",
              "        vertical-align: top;\n",
              "    }\n",
              "\n",
              "    .dataframe thead th {\n",
              "        text-align: right;\n",
              "    }\n",
              "</style>\n",
              "<table border=\"1\" class=\"dataframe\">\n",
              "  <thead>\n",
              "    <tr style=\"text-align: right;\">\n",
              "      <th></th>\n",
              "      <th>CUSTOMER</th>\n",
              "      <th>Age</th>\n",
              "      <th>Gender</th>\n",
              "      <th>Postcode</th>\n",
              "      <th>District</th>\n",
              "      <th>Constituency</th>\n",
              "      <th>latitude</th>\n",
              "      <th>longitude</th>\n",
              "      <th>Current_Status</th>\n",
              "      <th>Total_Household_Income</th>\n",
              "      <th>How often you attend Entertaining events in a year?</th>\n",
              "      <th>Social_Media</th>\n",
              "      <th>How many hours are you willing to travel to attend an event?</th>\n",
              "      <th>Do you enjoy adrenaline-rush activities?</th>\n",
              "      <th>Are food areas, coffee areas, bars &amp; toilets important to you?</th>\n",
              "      <th>What is your favourite attraction from below:</th>\n",
              "      <th>Were you satisfied with the last event you attended with us?</th>\n",
              "      <th>Would you recommend our events to other people?</th>\n",
              "      <th>Did you find our events value for money?</th>\n",
              "    </tr>\n",
              "  </thead>\n",
              "  <tbody>\n",
              "    <tr>\n",
              "      <th>0</th>\n",
              "      <td>1</td>\n",
              "      <td>40-49</td>\n",
              "      <td>Female</td>\n",
              "      <td>AL9 7BN</td>\n",
              "      <td>Welwyn Hatfield</td>\n",
              "      <td>Welwyn Hatfield</td>\n",
              "      <td>51.727429</td>\n",
              "      <td>-0.183648</td>\n",
              "      <td>Married with children</td>\n",
              "      <td>50,000 to 74,999</td>\n",
              "      <td>4 Times a Year</td>\n",
              "      <td>Up to 1 hour</td>\n",
              "      <td>3 hours</td>\n",
              "      <td>Entirely disagree</td>\n",
              "      <td>Entirely agree</td>\n",
              "      <td>Ice Bar</td>\n",
              "      <td>Somewhat agree</td>\n",
              "      <td>Somewhat Unlikely</td>\n",
              "      <td>Somewhat disagree</td>\n",
              "    </tr>\n",
              "    <tr>\n",
              "      <th>1</th>\n",
              "      <td>2</td>\n",
              "      <td>60-64</td>\n",
              "      <td>Male</td>\n",
              "      <td>AL7 1ZW</td>\n",
              "      <td>Welwyn Hatfield</td>\n",
              "      <td>Welwyn Hatfield</td>\n",
              "      <td>51.804482</td>\n",
              "      <td>-0.195898</td>\n",
              "      <td>Married with children</td>\n",
              "      <td>35,000 to 49,999</td>\n",
              "      <td>3 Times a Year</td>\n",
              "      <td>Up to 1 hour</td>\n",
              "      <td>5 hours</td>\n",
              "      <td>Somewhat disagree</td>\n",
              "      <td>Entirely agree</td>\n",
              "      <td>Happy Rollercoaster</td>\n",
              "      <td>Mostly agree</td>\n",
              "      <td>Somewhat Likely</td>\n",
              "      <td>Entirely disagree</td>\n",
              "    </tr>\n",
              "    <tr>\n",
              "      <th>2</th>\n",
              "      <td>3</td>\n",
              "      <td>50-59</td>\n",
              "      <td>Male</td>\n",
              "      <td>AB4 5JX</td>\n",
              "      <td>Aberdeenshire</td>\n",
              "      <td>Banff and Buchan</td>\n",
              "      <td>57.692200</td>\n",
              "      <td>-2.022295</td>\n",
              "      <td>Married with children</td>\n",
              "      <td>75,000 to 99,999</td>\n",
              "      <td>3 Times a Year</td>\n",
              "      <td>I don't spend any time at all</td>\n",
              "      <td>5 hours</td>\n",
              "      <td>Somewhat disagree</td>\n",
              "      <td>Somewhat agree</td>\n",
              "      <td>Happy Rollercoaster</td>\n",
              "      <td>Mostly agree</td>\n",
              "      <td>Mostly Unlikely</td>\n",
              "      <td>Entirely disagree</td>\n",
              "    </tr>\n",
              "    <tr>\n",
              "      <th>3</th>\n",
              "      <td>4</td>\n",
              "      <td>50-59</td>\n",
              "      <td>Female</td>\n",
              "      <td>B24 0DL</td>\n",
              "      <td>Birmingham</td>\n",
              "      <td>Birmingham, Erdington</td>\n",
              "      <td>52.526595</td>\n",
              "      <td>-1.822211</td>\n",
              "      <td>Married without children</td>\n",
              "      <td>35,000 to 49,999</td>\n",
              "      <td>1 Times a Year</td>\n",
              "      <td>Half a day</td>\n",
              "      <td>1 hour</td>\n",
              "      <td>Entirely agree</td>\n",
              "      <td>Neither agree nor disagree</td>\n",
              "      <td>Crazy rollercoaster ride</td>\n",
              "      <td>Somewhat agree</td>\n",
              "      <td>Somewhat Likely</td>\n",
              "      <td>Somewhat disagree</td>\n",
              "    </tr>\n",
              "    <tr>\n",
              "      <th>4</th>\n",
              "      <td>5</td>\n",
              "      <td>60-64</td>\n",
              "      <td>Male</td>\n",
              "      <td>E17 5QP</td>\n",
              "      <td>Waltham Forest</td>\n",
              "      <td>Walthamstow</td>\n",
              "      <td>51.593979</td>\n",
              "      <td>-0.040803</td>\n",
              "      <td>Married with children</td>\n",
              "      <td>100,000 to 149,999</td>\n",
              "      <td>3 Times a Year</td>\n",
              "      <td>Up to 1 hour</td>\n",
              "      <td>6 hours plus</td>\n",
              "      <td>Mostly disagree</td>\n",
              "      <td>Neither agree nor disagree</td>\n",
              "      <td>Kids Playground</td>\n",
              "      <td>Entirely agree</td>\n",
              "      <td>Very Unlikely</td>\n",
              "      <td>Entirely agree</td>\n",
              "    </tr>\n",
              "    <tr>\n",
              "      <th>5</th>\n",
              "      <td>6</td>\n",
              "      <td>65 or older</td>\n",
              "      <td>Male</td>\n",
              "      <td>AL7 9AJ</td>\n",
              "      <td>Welwyn Hatfield</td>\n",
              "      <td>Welwyn Hatfield</td>\n",
              "      <td>51.804196</td>\n",
              "      <td>-0.205381</td>\n",
              "      <td>Married with children</td>\n",
              "      <td>35,000 to 49,999</td>\n",
              "      <td>3 Times a Year</td>\n",
              "      <td>Up to 1 hour</td>\n",
              "      <td>4 hours</td>\n",
              "      <td>Mostly disagree</td>\n",
              "      <td>Neither agree nor disagree</td>\n",
              "      <td>Wooden Bar</td>\n",
              "      <td>Mostly agree</td>\n",
              "      <td>Somewhat Unlikely</td>\n",
              "      <td>Somewhat agree</td>\n",
              "    </tr>\n",
              "    <tr>\n",
              "      <th>6</th>\n",
              "      <td>7</td>\n",
              "      <td>50-59</td>\n",
              "      <td>Female</td>\n",
              "      <td>BL1 4NW</td>\n",
              "      <td>Bolton</td>\n",
              "      <td>Bolton West</td>\n",
              "      <td>53.581008</td>\n",
              "      <td>-2.455316</td>\n",
              "      <td>Living with partner</td>\n",
              "      <td>50,000 to 74,999</td>\n",
              "      <td>4 Times a Year</td>\n",
              "      <td>Up to 1 hour</td>\n",
              "      <td>4 hours</td>\n",
              "      <td>Mostly disagree</td>\n",
              "      <td>Mostly agree</td>\n",
              "      <td>Ice Bar</td>\n",
              "      <td>Mostly agree</td>\n",
              "      <td>Mostly Unlikely</td>\n",
              "      <td>Somewhat agree</td>\n",
              "    </tr>\n",
              "    <tr>\n",
              "      <th>7</th>\n",
              "      <td>8</td>\n",
              "      <td>33-39</td>\n",
              "      <td>Male</td>\n",
              "      <td>DA1 9GL</td>\n",
              "      <td>Dartford</td>\n",
              "      <td>Dartford</td>\n",
              "      <td>51.444500</td>\n",
              "      <td>0.209755</td>\n",
              "      <td>Married with children</td>\n",
              "      <td>100,000 to 149,999</td>\n",
              "      <td>3 Times a Year</td>\n",
              "      <td>Up to 1 hour</td>\n",
              "      <td>6 hours plus</td>\n",
              "      <td>Mostly disagree</td>\n",
              "      <td>Entirely agree</td>\n",
              "      <td>Kids Playground</td>\n",
              "      <td>Entirely agree</td>\n",
              "      <td>Very Unlikely</td>\n",
              "      <td>Entirely agree</td>\n",
              "    </tr>\n",
              "    <tr>\n",
              "      <th>8</th>\n",
              "      <td>9</td>\n",
              "      <td>33-39</td>\n",
              "      <td>Female</td>\n",
              "      <td>BL9 9GP</td>\n",
              "      <td>Bury</td>\n",
              "      <td>Bury North</td>\n",
              "      <td>53.580693</td>\n",
              "      <td>-2.283884</td>\n",
              "      <td>Divorced</td>\n",
              "      <td>35,000 to 49,999</td>\n",
              "      <td>1 Times a Year</td>\n",
              "      <td>Half a day</td>\n",
              "      <td>1 hour</td>\n",
              "      <td>Entirely agree</td>\n",
              "      <td>Neither agree nor disagree</td>\n",
              "      <td>Crazy rollercoaster ride</td>\n",
              "      <td>Somewhat agree</td>\n",
              "      <td>Somewhat Likely</td>\n",
              "      <td>Somewhat disagree</td>\n",
              "    </tr>\n",
              "    <tr>\n",
              "      <th>9</th>\n",
              "      <td>10</td>\n",
              "      <td>33-39</td>\n",
              "      <td>Male</td>\n",
              "      <td>HP22 5ZF</td>\n",
              "      <td>Aylesbury Vale</td>\n",
              "      <td>Aylesbury</td>\n",
              "      <td>51.803390</td>\n",
              "      <td>-0.724381</td>\n",
              "      <td>Married with children</td>\n",
              "      <td>50,000 to 74,999</td>\n",
              "      <td>3 Times a Year</td>\n",
              "      <td>Up to 1 hour</td>\n",
              "      <td>6 hours plus</td>\n",
              "      <td>Somewhat disagree</td>\n",
              "      <td>Mostly agree</td>\n",
              "      <td>Ice Bar</td>\n",
              "      <td>Neither agree nor disagree</td>\n",
              "      <td>Mostly Unlikely</td>\n",
              "      <td>Somewhat disagree</td>\n",
              "    </tr>\n",
              "  </tbody>\n",
              "</table>\n",
              "</div>\n",
              "      <button class=\"colab-df-convert\" onclick=\"convertToInteractive('df-f69d2660-0e79-45ab-bf2d-94873043fa10')\"\n",
              "              title=\"Convert this dataframe to an interactive table.\"\n",
              "              style=\"display:none;\">\n",
              "        \n",
              "  <svg xmlns=\"http://www.w3.org/2000/svg\" height=\"24px\"viewBox=\"0 0 24 24\"\n",
              "       width=\"24px\">\n",
              "    <path d=\"M0 0h24v24H0V0z\" fill=\"none\"/>\n",
              "    <path d=\"M18.56 5.44l.94 2.06.94-2.06 2.06-.94-2.06-.94-.94-2.06-.94 2.06-2.06.94zm-11 1L8.5 8.5l.94-2.06 2.06-.94-2.06-.94L8.5 2.5l-.94 2.06-2.06.94zm10 10l.94 2.06.94-2.06 2.06-.94-2.06-.94-.94-2.06-.94 2.06-2.06.94z\"/><path d=\"M17.41 7.96l-1.37-1.37c-.4-.4-.92-.59-1.43-.59-.52 0-1.04.2-1.43.59L10.3 9.45l-7.72 7.72c-.78.78-.78 2.05 0 2.83L4 21.41c.39.39.9.59 1.41.59.51 0 1.02-.2 1.41-.59l7.78-7.78 2.81-2.81c.8-.78.8-2.07 0-2.86zM5.41 20L4 18.59l7.72-7.72 1.47 1.35L5.41 20z\"/>\n",
              "  </svg>\n",
              "      </button>\n",
              "      \n",
              "  <style>\n",
              "    .colab-df-container {\n",
              "      display:flex;\n",
              "      flex-wrap:wrap;\n",
              "      gap: 12px;\n",
              "    }\n",
              "\n",
              "    .colab-df-convert {\n",
              "      background-color: #E8F0FE;\n",
              "      border: none;\n",
              "      border-radius: 50%;\n",
              "      cursor: pointer;\n",
              "      display: none;\n",
              "      fill: #1967D2;\n",
              "      height: 32px;\n",
              "      padding: 0 0 0 0;\n",
              "      width: 32px;\n",
              "    }\n",
              "\n",
              "    .colab-df-convert:hover {\n",
              "      background-color: #E2EBFA;\n",
              "      box-shadow: 0px 1px 2px rgba(60, 64, 67, 0.3), 0px 1px 3px 1px rgba(60, 64, 67, 0.15);\n",
              "      fill: #174EA6;\n",
              "    }\n",
              "\n",
              "    [theme=dark] .colab-df-convert {\n",
              "      background-color: #3B4455;\n",
              "      fill: #D2E3FC;\n",
              "    }\n",
              "\n",
              "    [theme=dark] .colab-df-convert:hover {\n",
              "      background-color: #434B5C;\n",
              "      box-shadow: 0px 1px 3px 1px rgba(0, 0, 0, 0.15);\n",
              "      filter: drop-shadow(0px 1px 2px rgba(0, 0, 0, 0.3));\n",
              "      fill: #FFFFFF;\n",
              "    }\n",
              "  </style>\n",
              "\n",
              "      <script>\n",
              "        const buttonEl =\n",
              "          document.querySelector('#df-f69d2660-0e79-45ab-bf2d-94873043fa10 button.colab-df-convert');\n",
              "        buttonEl.style.display =\n",
              "          google.colab.kernel.accessAllowed ? 'block' : 'none';\n",
              "\n",
              "        async function convertToInteractive(key) {\n",
              "          const element = document.querySelector('#df-f69d2660-0e79-45ab-bf2d-94873043fa10');\n",
              "          const dataTable =\n",
              "            await google.colab.kernel.invokeFunction('convertToInteractive',\n",
              "                                                     [key], {});\n",
              "          if (!dataTable) return;\n",
              "\n",
              "          const docLinkHtml = 'Like what you see? Visit the ' +\n",
              "            '<a target=\"_blank\" href=https://colab.research.google.com/notebooks/data_table.ipynb>data table notebook</a>'\n",
              "            + ' to learn more about interactive tables.';\n",
              "          element.innerHTML = '';\n",
              "          dataTable['output_type'] = 'display_data';\n",
              "          await google.colab.output.renderOutput(dataTable, element);\n",
              "          const docLink = document.createElement('div');\n",
              "          docLink.innerHTML = docLinkHtml;\n",
              "          element.appendChild(docLink);\n",
              "        }\n",
              "      </script>\n",
              "    </div>\n",
              "  </div>\n",
              "  "
            ],
            "text/plain": [
              "   CUSTOMER  ... Did you find our events value for money?\n",
              "0         1  ...                        Somewhat disagree\n",
              "1         2  ...                        Entirely disagree\n",
              "2         3  ...                        Entirely disagree\n",
              "3         4  ...                        Somewhat disagree\n",
              "4         5  ...                           Entirely agree\n",
              "5         6  ...                           Somewhat agree\n",
              "6         7  ...                           Somewhat agree\n",
              "7         8  ...                           Entirely agree\n",
              "8         9  ...                        Somewhat disagree\n",
              "9        10  ...                        Somewhat disagree\n",
              "\n",
              "[10 rows x 19 columns]"
            ]
          },
          "metadata": {}
        }
      ],
      "source": [
        "# Reading the Data With Pandas\n",
        "Raw_Data = pd.read_excel(\"Customers_Raw_Data.xlsx\")\n",
        "\n",
        "# Viewing the First 5 rows of the DataSet & Its Shape\n",
        "display(\"The Shape of The DataSet is {}\".format(Raw_Data.shape), Raw_Data.head(10))"
      ]
    },
    {
      "cell_type": "code",
      "execution_count": null,
      "metadata": {
        "colab": {
          "base_uri": "https://localhost:8080/"
        },
        "id": "-j4McghqPIa4",
        "outputId": "e01fc927-b236-4e67-bcbd-24383e342ee6"
      },
      "outputs": [
        {
          "name": "stdout",
          "output_type": "stream",
          "text": [
            "Requirement already satisfied: pyodbc in /usr/local/lib/python3.7/dist-packages (4.0.32)\n"
          ]
        }
      ],
      "source": [
        "# pip install pyodbc"
      ]
    },
    {
      "cell_type": "code",
      "execution_count": null,
      "metadata": {
        "id": "CaveEe1AtFiu"
      },
      "outputs": [],
      "source": [
        "# ### Getting The Data Using SQL Server\n",
        "# import pyodbc as podbc\n",
        "\n",
        "# connection = podbc.connect(\"Driver = {SQL Server Native Client 11.0};\"\n",
        "#                            \"Server = LAPTOP-A5MD8D65\\SQLEXPRESS;\"\n",
        "#                            \"Database = CustomerSegmentationDB;\"\n",
        "#                            \"Trusted_Connection = yes;\")\n",
        "\n",
        "# # Running SQL Queries we are needing\n",
        "# SQL_Query = pd.read_sql_query('''SELECT *\n",
        "# FROM CustomerSegmentationDB.dbo.Customers_Raw_Data''', connection)\n",
        "\n",
        "# # Connection Close\n",
        "\n",
        "\n",
        "# # Viz The Data\n",
        "# SQL_Query.head()"
      ]
    },
    {
      "cell_type": "markdown",
      "metadata": {
        "id": "5YUEItXhT_yR"
      },
      "source": [
        "#### Copying The Data for Security"
      ]
    },
    {
      "cell_type": "code",
      "execution_count": 6,
      "metadata": {
        "colab": {
          "base_uri": "https://localhost:8080/",
          "height": 433
        },
        "id": "gTea1KLTtFly",
        "outputId": "239c95e1-6f1a-42c7-c3df-ec792956c197"
      },
      "outputs": [
        {
          "output_type": "execute_result",
          "data": {
            "text/html": [
              "\n",
              "  <div id=\"df-a2795145-83c2-49fd-a454-fc116bfb1340\">\n",
              "    <div class=\"colab-df-container\">\n",
              "      <div>\n",
              "<style scoped>\n",
              "    .dataframe tbody tr th:only-of-type {\n",
              "        vertical-align: middle;\n",
              "    }\n",
              "\n",
              "    .dataframe tbody tr th {\n",
              "        vertical-align: top;\n",
              "    }\n",
              "\n",
              "    .dataframe thead th {\n",
              "        text-align: right;\n",
              "    }\n",
              "</style>\n",
              "<table border=\"1\" class=\"dataframe\">\n",
              "  <thead>\n",
              "    <tr style=\"text-align: right;\">\n",
              "      <th></th>\n",
              "      <th>CUSTOMER</th>\n",
              "      <th>Age</th>\n",
              "      <th>Gender</th>\n",
              "      <th>Postcode</th>\n",
              "      <th>District</th>\n",
              "      <th>Constituency</th>\n",
              "      <th>latitude</th>\n",
              "      <th>longitude</th>\n",
              "      <th>Current_Status</th>\n",
              "      <th>Total_Household_Income</th>\n",
              "      <th>How often you attend Entertaining events in a year?</th>\n",
              "      <th>Social_Media</th>\n",
              "      <th>How many hours are you willing to travel to attend an event?</th>\n",
              "      <th>Do you enjoy adrenaline-rush activities?</th>\n",
              "      <th>Are food areas, coffee areas, bars &amp; toilets important to you?</th>\n",
              "      <th>What is your favourite attraction from below:</th>\n",
              "      <th>Were you satisfied with the last event you attended with us?</th>\n",
              "      <th>Would you recommend our events to other people?</th>\n",
              "      <th>Did you find our events value for money?</th>\n",
              "    </tr>\n",
              "  </thead>\n",
              "  <tbody>\n",
              "    <tr>\n",
              "      <th>0</th>\n",
              "      <td>1</td>\n",
              "      <td>40-49</td>\n",
              "      <td>Female</td>\n",
              "      <td>AL9 7BN</td>\n",
              "      <td>Welwyn Hatfield</td>\n",
              "      <td>Welwyn Hatfield</td>\n",
              "      <td>51.727429</td>\n",
              "      <td>-0.183648</td>\n",
              "      <td>Married with children</td>\n",
              "      <td>50,000 to 74,999</td>\n",
              "      <td>4 Times a Year</td>\n",
              "      <td>Up to 1 hour</td>\n",
              "      <td>3 hours</td>\n",
              "      <td>Entirely disagree</td>\n",
              "      <td>Entirely agree</td>\n",
              "      <td>Ice Bar</td>\n",
              "      <td>Somewhat agree</td>\n",
              "      <td>Somewhat Unlikely</td>\n",
              "      <td>Somewhat disagree</td>\n",
              "    </tr>\n",
              "    <tr>\n",
              "      <th>1</th>\n",
              "      <td>2</td>\n",
              "      <td>60-64</td>\n",
              "      <td>Male</td>\n",
              "      <td>AL7 1ZW</td>\n",
              "      <td>Welwyn Hatfield</td>\n",
              "      <td>Welwyn Hatfield</td>\n",
              "      <td>51.804482</td>\n",
              "      <td>-0.195898</td>\n",
              "      <td>Married with children</td>\n",
              "      <td>35,000 to 49,999</td>\n",
              "      <td>3 Times a Year</td>\n",
              "      <td>Up to 1 hour</td>\n",
              "      <td>5 hours</td>\n",
              "      <td>Somewhat disagree</td>\n",
              "      <td>Entirely agree</td>\n",
              "      <td>Happy Rollercoaster</td>\n",
              "      <td>Mostly agree</td>\n",
              "      <td>Somewhat Likely</td>\n",
              "      <td>Entirely disagree</td>\n",
              "    </tr>\n",
              "    <tr>\n",
              "      <th>2</th>\n",
              "      <td>3</td>\n",
              "      <td>50-59</td>\n",
              "      <td>Male</td>\n",
              "      <td>AB4 5JX</td>\n",
              "      <td>Aberdeenshire</td>\n",
              "      <td>Banff and Buchan</td>\n",
              "      <td>57.692200</td>\n",
              "      <td>-2.022295</td>\n",
              "      <td>Married with children</td>\n",
              "      <td>75,000 to 99,999</td>\n",
              "      <td>3 Times a Year</td>\n",
              "      <td>I don't spend any time at all</td>\n",
              "      <td>5 hours</td>\n",
              "      <td>Somewhat disagree</td>\n",
              "      <td>Somewhat agree</td>\n",
              "      <td>Happy Rollercoaster</td>\n",
              "      <td>Mostly agree</td>\n",
              "      <td>Mostly Unlikely</td>\n",
              "      <td>Entirely disagree</td>\n",
              "    </tr>\n",
              "  </tbody>\n",
              "</table>\n",
              "</div>\n",
              "      <button class=\"colab-df-convert\" onclick=\"convertToInteractive('df-a2795145-83c2-49fd-a454-fc116bfb1340')\"\n",
              "              title=\"Convert this dataframe to an interactive table.\"\n",
              "              style=\"display:none;\">\n",
              "        \n",
              "  <svg xmlns=\"http://www.w3.org/2000/svg\" height=\"24px\"viewBox=\"0 0 24 24\"\n",
              "       width=\"24px\">\n",
              "    <path d=\"M0 0h24v24H0V0z\" fill=\"none\"/>\n",
              "    <path d=\"M18.56 5.44l.94 2.06.94-2.06 2.06-.94-2.06-.94-.94-2.06-.94 2.06-2.06.94zm-11 1L8.5 8.5l.94-2.06 2.06-.94-2.06-.94L8.5 2.5l-.94 2.06-2.06.94zm10 10l.94 2.06.94-2.06 2.06-.94-2.06-.94-.94-2.06-.94 2.06-2.06.94z\"/><path d=\"M17.41 7.96l-1.37-1.37c-.4-.4-.92-.59-1.43-.59-.52 0-1.04.2-1.43.59L10.3 9.45l-7.72 7.72c-.78.78-.78 2.05 0 2.83L4 21.41c.39.39.9.59 1.41.59.51 0 1.02-.2 1.41-.59l7.78-7.78 2.81-2.81c.8-.78.8-2.07 0-2.86zM5.41 20L4 18.59l7.72-7.72 1.47 1.35L5.41 20z\"/>\n",
              "  </svg>\n",
              "      </button>\n",
              "      \n",
              "  <style>\n",
              "    .colab-df-container {\n",
              "      display:flex;\n",
              "      flex-wrap:wrap;\n",
              "      gap: 12px;\n",
              "    }\n",
              "\n",
              "    .colab-df-convert {\n",
              "      background-color: #E8F0FE;\n",
              "      border: none;\n",
              "      border-radius: 50%;\n",
              "      cursor: pointer;\n",
              "      display: none;\n",
              "      fill: #1967D2;\n",
              "      height: 32px;\n",
              "      padding: 0 0 0 0;\n",
              "      width: 32px;\n",
              "    }\n",
              "\n",
              "    .colab-df-convert:hover {\n",
              "      background-color: #E2EBFA;\n",
              "      box-shadow: 0px 1px 2px rgba(60, 64, 67, 0.3), 0px 1px 3px 1px rgba(60, 64, 67, 0.15);\n",
              "      fill: #174EA6;\n",
              "    }\n",
              "\n",
              "    [theme=dark] .colab-df-convert {\n",
              "      background-color: #3B4455;\n",
              "      fill: #D2E3FC;\n",
              "    }\n",
              "\n",
              "    [theme=dark] .colab-df-convert:hover {\n",
              "      background-color: #434B5C;\n",
              "      box-shadow: 0px 1px 3px 1px rgba(0, 0, 0, 0.15);\n",
              "      filter: drop-shadow(0px 1px 2px rgba(0, 0, 0, 0.3));\n",
              "      fill: #FFFFFF;\n",
              "    }\n",
              "  </style>\n",
              "\n",
              "      <script>\n",
              "        const buttonEl =\n",
              "          document.querySelector('#df-a2795145-83c2-49fd-a454-fc116bfb1340 button.colab-df-convert');\n",
              "        buttonEl.style.display =\n",
              "          google.colab.kernel.accessAllowed ? 'block' : 'none';\n",
              "\n",
              "        async function convertToInteractive(key) {\n",
              "          const element = document.querySelector('#df-a2795145-83c2-49fd-a454-fc116bfb1340');\n",
              "          const dataTable =\n",
              "            await google.colab.kernel.invokeFunction('convertToInteractive',\n",
              "                                                     [key], {});\n",
              "          if (!dataTable) return;\n",
              "\n",
              "          const docLinkHtml = 'Like what you see? Visit the ' +\n",
              "            '<a target=\"_blank\" href=https://colab.research.google.com/notebooks/data_table.ipynb>data table notebook</a>'\n",
              "            + ' to learn more about interactive tables.';\n",
              "          element.innerHTML = '';\n",
              "          dataTable['output_type'] = 'display_data';\n",
              "          await google.colab.output.renderOutput(dataTable, element);\n",
              "          const docLink = document.createElement('div');\n",
              "          docLink.innerHTML = docLinkHtml;\n",
              "          element.appendChild(docLink);\n",
              "        }\n",
              "      </script>\n",
              "    </div>\n",
              "  </div>\n",
              "  "
            ],
            "text/plain": [
              "   CUSTOMER  ... Did you find our events value for money?\n",
              "0         1  ...                        Somewhat disagree\n",
              "1         2  ...                        Entirely disagree\n",
              "2         3  ...                        Entirely disagree\n",
              "\n",
              "[3 rows x 19 columns]"
            ]
          },
          "metadata": {},
          "execution_count": 6
        }
      ],
      "source": [
        "# Copy of the DataSet\n",
        "df = Raw_Data.copy()\n",
        "\n",
        "# Checking the New Data\n",
        "df.head(3)"
      ]
    },
    {
      "cell_type": "markdown",
      "metadata": {
        "id": "sEUy_WPbUVpE"
      },
      "source": [
        "#### Step 2 : Data Pre-processing"
      ]
    },
    {
      "cell_type": "markdown",
      "metadata": {
        "id": "2LDJbws-YRhu"
      },
      "source": [
        "Another useful function provided by pandas is describe() which provides the count, mean, standard deviation, minimum and maximum values and the quantities of the data"
      ]
    },
    {
      "cell_type": "code",
      "execution_count": 7,
      "metadata": {
        "colab": {
          "base_uri": "https://localhost:8080/",
          "height": 300
        },
        "id": "_Mpf9YL9tFo6",
        "outputId": "d11da6a2-b884-4730-ca8a-12588dc7960b"
      },
      "outputs": [
        {
          "output_type": "execute_result",
          "data": {
            "text/html": [
              "\n",
              "  <div id=\"df-4d406172-6d34-4bf3-ba8e-4522087d7e0c\">\n",
              "    <div class=\"colab-df-container\">\n",
              "      <div>\n",
              "<style scoped>\n",
              "    .dataframe tbody tr th:only-of-type {\n",
              "        vertical-align: middle;\n",
              "    }\n",
              "\n",
              "    .dataframe tbody tr th {\n",
              "        vertical-align: top;\n",
              "    }\n",
              "\n",
              "    .dataframe thead th {\n",
              "        text-align: right;\n",
              "    }\n",
              "</style>\n",
              "<table border=\"1\" class=\"dataframe\">\n",
              "  <thead>\n",
              "    <tr style=\"text-align: right;\">\n",
              "      <th></th>\n",
              "      <th>CUSTOMER</th>\n",
              "      <th>latitude</th>\n",
              "      <th>longitude</th>\n",
              "    </tr>\n",
              "  </thead>\n",
              "  <tbody>\n",
              "    <tr>\n",
              "      <th>count</th>\n",
              "      <td>11852.000000</td>\n",
              "      <td>11852.000000</td>\n",
              "      <td>11852.000000</td>\n",
              "    </tr>\n",
              "    <tr>\n",
              "      <th>mean</th>\n",
              "      <td>6533.609349</td>\n",
              "      <td>52.688012</td>\n",
              "      <td>-1.985162</td>\n",
              "    </tr>\n",
              "    <tr>\n",
              "      <th>std</th>\n",
              "      <td>3770.698812</td>\n",
              "      <td>3.955425</td>\n",
              "      <td>1.800613</td>\n",
              "    </tr>\n",
              "    <tr>\n",
              "      <th>min</th>\n",
              "      <td>1.000000</td>\n",
              "      <td>0.000000</td>\n",
              "      <td>-8.140132</td>\n",
              "    </tr>\n",
              "    <tr>\n",
              "      <th>25%</th>\n",
              "      <td>3265.750000</td>\n",
              "      <td>51.503408</td>\n",
              "      <td>-2.981688</td>\n",
              "    </tr>\n",
              "    <tr>\n",
              "      <th>50%</th>\n",
              "      <td>6551.500000</td>\n",
              "      <td>52.401214</td>\n",
              "      <td>-1.931265</td>\n",
              "    </tr>\n",
              "    <tr>\n",
              "      <th>75%</th>\n",
              "      <td>9818.250000</td>\n",
              "      <td>54.057439</td>\n",
              "      <td>-0.409754</td>\n",
              "    </tr>\n",
              "    <tr>\n",
              "      <th>max</th>\n",
              "      <td>13042.000000</td>\n",
              "      <td>58.241169</td>\n",
              "      <td>12.496366</td>\n",
              "    </tr>\n",
              "  </tbody>\n",
              "</table>\n",
              "</div>\n",
              "      <button class=\"colab-df-convert\" onclick=\"convertToInteractive('df-4d406172-6d34-4bf3-ba8e-4522087d7e0c')\"\n",
              "              title=\"Convert this dataframe to an interactive table.\"\n",
              "              style=\"display:none;\">\n",
              "        \n",
              "  <svg xmlns=\"http://www.w3.org/2000/svg\" height=\"24px\"viewBox=\"0 0 24 24\"\n",
              "       width=\"24px\">\n",
              "    <path d=\"M0 0h24v24H0V0z\" fill=\"none\"/>\n",
              "    <path d=\"M18.56 5.44l.94 2.06.94-2.06 2.06-.94-2.06-.94-.94-2.06-.94 2.06-2.06.94zm-11 1L8.5 8.5l.94-2.06 2.06-.94-2.06-.94L8.5 2.5l-.94 2.06-2.06.94zm10 10l.94 2.06.94-2.06 2.06-.94-2.06-.94-.94-2.06-.94 2.06-2.06.94z\"/><path d=\"M17.41 7.96l-1.37-1.37c-.4-.4-.92-.59-1.43-.59-.52 0-1.04.2-1.43.59L10.3 9.45l-7.72 7.72c-.78.78-.78 2.05 0 2.83L4 21.41c.39.39.9.59 1.41.59.51 0 1.02-.2 1.41-.59l7.78-7.78 2.81-2.81c.8-.78.8-2.07 0-2.86zM5.41 20L4 18.59l7.72-7.72 1.47 1.35L5.41 20z\"/>\n",
              "  </svg>\n",
              "      </button>\n",
              "      \n",
              "  <style>\n",
              "    .colab-df-container {\n",
              "      display:flex;\n",
              "      flex-wrap:wrap;\n",
              "      gap: 12px;\n",
              "    }\n",
              "\n",
              "    .colab-df-convert {\n",
              "      background-color: #E8F0FE;\n",
              "      border: none;\n",
              "      border-radius: 50%;\n",
              "      cursor: pointer;\n",
              "      display: none;\n",
              "      fill: #1967D2;\n",
              "      height: 32px;\n",
              "      padding: 0 0 0 0;\n",
              "      width: 32px;\n",
              "    }\n",
              "\n",
              "    .colab-df-convert:hover {\n",
              "      background-color: #E2EBFA;\n",
              "      box-shadow: 0px 1px 2px rgba(60, 64, 67, 0.3), 0px 1px 3px 1px rgba(60, 64, 67, 0.15);\n",
              "      fill: #174EA6;\n",
              "    }\n",
              "\n",
              "    [theme=dark] .colab-df-convert {\n",
              "      background-color: #3B4455;\n",
              "      fill: #D2E3FC;\n",
              "    }\n",
              "\n",
              "    [theme=dark] .colab-df-convert:hover {\n",
              "      background-color: #434B5C;\n",
              "      box-shadow: 0px 1px 3px 1px rgba(0, 0, 0, 0.15);\n",
              "      filter: drop-shadow(0px 1px 2px rgba(0, 0, 0, 0.3));\n",
              "      fill: #FFFFFF;\n",
              "    }\n",
              "  </style>\n",
              "\n",
              "      <script>\n",
              "        const buttonEl =\n",
              "          document.querySelector('#df-4d406172-6d34-4bf3-ba8e-4522087d7e0c button.colab-df-convert');\n",
              "        buttonEl.style.display =\n",
              "          google.colab.kernel.accessAllowed ? 'block' : 'none';\n",
              "\n",
              "        async function convertToInteractive(key) {\n",
              "          const element = document.querySelector('#df-4d406172-6d34-4bf3-ba8e-4522087d7e0c');\n",
              "          const dataTable =\n",
              "            await google.colab.kernel.invokeFunction('convertToInteractive',\n",
              "                                                     [key], {});\n",
              "          if (!dataTable) return;\n",
              "\n",
              "          const docLinkHtml = 'Like what you see? Visit the ' +\n",
              "            '<a target=\"_blank\" href=https://colab.research.google.com/notebooks/data_table.ipynb>data table notebook</a>'\n",
              "            + ' to learn more about interactive tables.';\n",
              "          element.innerHTML = '';\n",
              "          dataTable['output_type'] = 'display_data';\n",
              "          await google.colab.output.renderOutput(dataTable, element);\n",
              "          const docLink = document.createElement('div');\n",
              "          docLink.innerHTML = docLinkHtml;\n",
              "          element.appendChild(docLink);\n",
              "        }\n",
              "      </script>\n",
              "    </div>\n",
              "  </div>\n",
              "  "
            ],
            "text/plain": [
              "           CUSTOMER      latitude     longitude\n",
              "count  11852.000000  11852.000000  11852.000000\n",
              "mean    6533.609349     52.688012     -1.985162\n",
              "std     3770.698812      3.955425      1.800613\n",
              "min        1.000000      0.000000     -8.140132\n",
              "25%     3265.750000     51.503408     -2.981688\n",
              "50%     6551.500000     52.401214     -1.931265\n",
              "75%     9818.250000     54.057439     -0.409754\n",
              "max    13042.000000     58.241169     12.496366"
            ]
          },
          "metadata": {},
          "execution_count": 7
        }
      ],
      "source": [
        "df.describe()"
      ]
    },
    {
      "cell_type": "code",
      "execution_count": 8,
      "metadata": {
        "colab": {
          "base_uri": "https://localhost:8080/"
        },
        "id": "Gt8TwQJatFsF",
        "outputId": "4d559558-0828-4848-86f0-819dc3d357df"
      },
      "outputs": [
        {
          "output_type": "execute_result",
          "data": {
            "text/plain": [
              "CUSTOMER                                                          0\n",
              "Age                                                               0\n",
              "Gender                                                            0\n",
              "Postcode                                                          0\n",
              "District                                                          0\n",
              "Constituency                                                      0\n",
              "latitude                                                          0\n",
              "longitude                                                         0\n",
              "Current_Status                                                    0\n",
              "Total_Household_Income                                            5\n",
              "How often you attend Entertaining events in a year?               5\n",
              "Social_Media                                                      5\n",
              "How many hours are you willing to travel to attend an event?      5\n",
              "Do you enjoy adrenaline-rush activities?                          5\n",
              "Are food areas, coffee areas, bars & toilets important to you?    5\n",
              "What is your favourite attraction from below:                     5\n",
              "Were you satisfied with the last event you attended with us?      5\n",
              "Would you recommend our events to other people?                   5\n",
              "Did you find our events value for money?                          6\n",
              "dtype: int64"
            ]
          },
          "metadata": {},
          "execution_count": 8
        }
      ],
      "source": [
        "### Checking for missing data\n",
        "df.isnull().sum()"
      ]
    },
    {
      "cell_type": "markdown",
      "metadata": {
        "id": "0CJXe8OkKjXk"
      },
      "source": [
        "**Comment : ** By looking at the precedent output, we have a bunch of missing data in the DataSet, in the following fields:\n",
        "       *'How often you attend Entertaining events in a year?', 'Social_Media',\n",
        "       'How many hours are you willing to travel to attend an event?',\n",
        "       'Do you enjoy adrenaline-rush activities?',\n",
        "       'Are food areas, coffee areas, bars & toilets important to you?',\n",
        "       'What is your favourite attraction from below:',\n",
        "       'Were you satisfied with the last event you attended with us?',\n",
        "       'Would you recommend our events to other people?',\n",
        "       'Did you find our events value for money?'*"
      ]
    },
    {
      "cell_type": "code",
      "execution_count": null,
      "metadata": {
        "colab": {
          "base_uri": "https://localhost:8080/"
        },
        "id": "qNeAr-Y-tFva",
        "outputId": "eb6f226f-16bc-4d44-eabe-9b619e44796d"
      },
      "outputs": [
        {
          "data": {
            "text/plain": [
              "Index(['CUSTOMER', 'Age', 'Gender', 'Postcode', 'District', 'Constituency',\n",
              "       'latitude', 'longitude', 'Current_Status', 'Total_Household_Income',\n",
              "       'How often you attend Entertaining events in a year?', 'Social_Media',\n",
              "       'How many hours are you willing to travel to attend an event?',\n",
              "       'Do you enjoy adrenaline-rush activities?',\n",
              "       'Are food areas, coffee areas, bars & toilets important to you?',\n",
              "       'What is your favourite attraction from below:',\n",
              "       'Were you satisfied with the last event you attended with us?',\n",
              "       'Would you recommend our events to other people?',\n",
              "       'Did you find our events value for money?'],\n",
              "      dtype='object')"
            ]
          },
          "execution_count": 11,
          "metadata": {},
          "output_type": "execute_result"
        }
      ],
      "source": [
        "df.columns"
      ]
    },
    {
      "cell_type": "code",
      "execution_count": 9,
      "metadata": {
        "colab": {
          "base_uri": "https://localhost:8080/"
        },
        "id": "v9EwK-4BtFzZ",
        "outputId": "afc13a9a-a8c1-41d0-a3ed-b5d439b81084"
      },
      "outputs": [
        {
          "output_type": "stream",
          "name": "stdout",
          "text": [
            "<class 'pandas.core.frame.DataFrame'>\n",
            "RangeIndex: 11852 entries, 0 to 11851\n",
            "Data columns (total 19 columns):\n",
            " #   Column                                                          Non-Null Count  Dtype  \n",
            "---  ------                                                          --------------  -----  \n",
            " 0   CUSTOMER                                                        11852 non-null  int64  \n",
            " 1   Age                                                             11852 non-null  object \n",
            " 2   Gender                                                          11852 non-null  object \n",
            " 3   Postcode                                                        11852 non-null  object \n",
            " 4   District                                                        11852 non-null  object \n",
            " 5   Constituency                                                    11852 non-null  object \n",
            " 6   latitude                                                        11852 non-null  float64\n",
            " 7   longitude                                                       11852 non-null  float64\n",
            " 8   Current_Status                                                  11852 non-null  object \n",
            " 9   Total_Household_Income                                          11847 non-null  object \n",
            " 10  How often you attend Entertaining events in a year?             11847 non-null  object \n",
            " 11  Social_Media                                                    11847 non-null  object \n",
            " 12  How many hours are you willing to travel to attend an event?    11847 non-null  object \n",
            " 13  Do you enjoy adrenaline-rush activities?                        11847 non-null  object \n",
            " 14  Are food areas, coffee areas, bars & toilets important to you?  11847 non-null  object \n",
            " 15  What is your favourite attraction from below:                   11847 non-null  object \n",
            " 16  Were you satisfied with the last event you attended with us?    11847 non-null  object \n",
            " 17  Would you recommend our events to other people?                 11847 non-null  object \n",
            " 18  Did you find our events value for money?                        11846 non-null  object \n",
            "dtypes: float64(2), int64(1), object(16)\n",
            "memory usage: 1.7+ MB\n",
            "********************************************************************************\n"
          ]
        },
        {
          "output_type": "execute_result",
          "data": {
            "text/plain": [
              "CUSTOMER                                                            int64\n",
              "Age                                                                object\n",
              "Gender                                                             object\n",
              "Postcode                                                           object\n",
              "District                                                           object\n",
              "Constituency                                                       object\n",
              "latitude                                                          float64\n",
              "longitude                                                         float64\n",
              "Current_Status                                                     object\n",
              "Total_Household_Income                                             object\n",
              "How often you attend Entertaining events in a year?                object\n",
              "Social_Media                                                       object\n",
              "How many hours are you willing to travel to attend an event?       object\n",
              "Do you enjoy adrenaline-rush activities?                           object\n",
              "Are food areas, coffee areas, bars & toilets important to you?     object\n",
              "What is your favourite attraction from below:                      object\n",
              "Were you satisfied with the last event you attended with us?       object\n",
              "Would you recommend our events to other people?                    object\n",
              "Did you find our events value for money?                           object\n",
              "dtype: object"
            ]
          },
          "metadata": {},
          "execution_count": 9
        }
      ],
      "source": [
        "### Cheking the Data Types\n",
        "df.info()\n",
        "\n",
        "### Organize the outputs\n",
        "print('****'*20)\n",
        "\n",
        "### OR \n",
        "df.dtypes"
      ]
    },
    {
      "cell_type": "markdown",
      "metadata": {
        "id": "Li3CMVd-Lirq"
      },
      "source": [
        "**Dropping Duplicate Rows**"
      ]
    },
    {
      "cell_type": "code",
      "execution_count": 10,
      "metadata": {
        "colab": {
          "base_uri": "https://localhost:8080/",
          "height": 54
        },
        "id": "tpdaKXELk3xZ",
        "outputId": "fb831087-ee6e-41a5-fa27-c6616258d5ce"
      },
      "outputs": [
        {
          "output_type": "stream",
          "name": "stdout",
          "text": [
            "The Shape of the Data Before removing duplicate rows is (11852, 19)\n"
          ]
        },
        {
          "output_type": "display_data",
          "data": {
            "application/vnd.google.colaboratory.intrinsic+json": {
              "type": "string"
            },
            "text/plain": [
              "'The Shape of the Duplicate Rows DataFrame is (0, 19)'"
            ]
          },
          "metadata": {}
        }
      ],
      "source": [
        "### Checking for the DataSet shape before removing the Data\n",
        "print(\"The Shape of the Data Before removing duplicate rows is {}\".format(df.shape))\n",
        "\n",
        "### The Code to remove the duplicate rows\n",
        "duplicate_rows_df = df[df.duplicated()]\n",
        "\n",
        "### Displaying the Duplicate rows DataFrame\n",
        "display(\"The Shape of the Duplicate Rows DataFrame is {}\".format(duplicate_rows_df.shape))"
      ]
    },
    {
      "cell_type": "markdown",
      "metadata": {
        "id": "7pCHcQqpMnVZ"
      },
      "source": [
        "**Comment:** So the DataFrame doesn't contain any duplicate rows.\n",
        "BAAM!!"
      ]
    },
    {
      "cell_type": "code",
      "execution_count": 14,
      "metadata": {
        "colab": {
          "base_uri": "https://localhost:8080/"
        },
        "id": "RQahDUygk37B",
        "outputId": "76c1b412-37d4-4c9d-b1b5-c4c16d758d5e"
      },
      "outputs": [
        {
          "output_type": "stream",
          "name": "stdout",
          "text": [
            "The Number of values for the Feature CUSTOMER : 11847\n",
            "The Number of values for the Feature Age : 14\n",
            "The Number of Values for the Feature Gender : ['Female' 'Male'] ---- 2\n",
            "The Number of values for the Feature Postcode : 11785\n",
            "The Number of values for the Feature District : 221\n",
            "The Number of values for the Feature Constituency : 355\n",
            "The Number of values for the Feature latitude : 10731\n",
            "The Number of values for the Feature longitude : 10752\n",
            "The Number of values for the Feature Current_Status : 8\n",
            "The Number of values for the Feature Total_Household_Income : 9\n",
            "The Number of Values for the Feature How often you attend Entertaining events in a year? : ['4 Times a Year' '3 Times a Year' '1 Times a Year' '2 Times a Year' nan\n",
            " '5+ Times a Year'] ---- 6\n",
            "The Number of Values for the Feature Social_Media : ['Up to 1 hour' \"I don't spend any time at all\" 'Half a day' nan\n",
            " 'Up to 2 hours' 'More than half a day'] ---- 6\n",
            "The Number of values for the Feature How many hours are you willing to travel to attend an event? : 8\n",
            "The Number of values for the Feature Do you enjoy adrenaline-rush activities? : 8\n",
            "The Number of values for the Feature Are food areas, coffee areas, bars & toilets important to you? : 8\n",
            "The Number of values for the Feature What is your favourite attraction from below: : 8\n",
            "The Number of values for the Feature Were you satisfied with the last event you attended with us? : 8\n",
            "The Number of values for the Feature Would you recommend our events to other people? : 9\n",
            "The Number of values for the Feature Did you find our events value for money? : 8\n"
          ]
        }
      ],
      "source": [
        "### Data Pre-processing\n",
        "## Determining the Unique Values in the Dataset\n",
        "\n",
        "for column in df:\n",
        "  if len(df[column].unique()) < 7:\n",
        "    print('The Number of Values for the Feature {} : {} ---- {}'.format(column, df[column].unique(), len(df[column].unique())))\n",
        "  else:\n",
        "    print('The Number of values for the Feature {} : {}'.format(column, len(df[column].unique())))\n",
        "\n"
      ]
    },
    {
      "cell_type": "markdown",
      "metadata": {
        "id": "TIy0D5jdZPsn"
      },
      "source": [
        "##### **Finding out Outliers**\n",
        "\n",
        "Find out Outliers: We know Q3 AND Q1 AND IQR=Q3-Q1, any data point which is less than Q1–1.5IQR or Q3+1.5IQR are consider as outlier"
      ]
    },
    {
      "cell_type": "code",
      "execution_count": 15,
      "metadata": {
        "colab": {
          "base_uri": "https://localhost:8080/",
          "height": 327
        },
        "id": "wpVSyb3zk3-2",
        "outputId": "ce286a57-3f77-4c94-e69b-fdf978ea9d3b"
      },
      "outputs": [
        {
          "output_type": "display_data",
          "data": {
            "text/plain": [
              "0    51.727429\n",
              "1    51.804482\n",
              "2    57.692200\n",
              "3    52.526595\n",
              "4    51.593979\n",
              "Name: latitude, dtype: float64"
            ]
          },
          "metadata": {}
        },
        {
          "output_type": "display_data",
          "data": {
            "text/plain": [
              "0   -0.183648\n",
              "1   -0.195898\n",
              "2   -2.022295\n",
              "3   -1.822211\n",
              "4   -0.040803\n",
              "Name: longitude, dtype: float64"
            ]
          },
          "metadata": {}
        },
        {
          "output_type": "stream",
          "name": "stdout",
          "text": [
            "The Max Value 58.24116899999999\n",
            "The Min Value 0.0\n",
            "Q1 50.726950949999996\n",
            "Q3 50.726950949999996\n",
            "InterQuartile Range IQR 3.3304885499999983\n"
          ]
        }
      ],
      "source": [
        "display(df.latitude.head(), df.longitude.head())\n",
        "\n",
        "### defining the IQR of the Latitude\n",
        "Q1_latitude = df.latitude.quantile(.025)\n",
        "Q3_latitude = df.latitude.quantile(.75)\n",
        "IQR_Latitude = Q3_latitude - Q1_latitude\n",
        "lower_limit = Q1_latitude - 1.5*IQR_Latitude\n",
        "upper_limit = Q3_latitude + 1.5*IQR_Latitude\n",
        "\n",
        "### Printing the Statistical Values\n",
        "print(\"The Max Value\", df.latitude.max())\n",
        "print(\"The Min Value\", df.latitude.min())\n",
        "print(\"Q1\", Q1_latitude)\n",
        "print(\"Q3\", Q1_latitude)\n",
        "print(\"InterQuartile Range IQR\", IQR_Latitude)"
      ]
    },
    {
      "cell_type": "markdown",
      "metadata": {
        "id": "LK4hY78fc9rd"
      },
      "source": [
        "Here is the function which will return outliers values given column"
      ]
    },
    {
      "cell_type": "code",
      "execution_count": 16,
      "metadata": {
        "colab": {
          "base_uri": "https://localhost:8080/"
        },
        "id": "tADK2M7-k4Cs",
        "outputId": "6eb7e29a-84cb-452a-ad59-8480b0262060"
      },
      "outputs": [
        {
          "output_type": "stream",
          "name": "stdout",
          "text": [
            "The Number of rows containing outliers 958\n",
            "The Remaining Data Which is not considered as outlier is 10894\n"
          ]
        }
      ],
      "source": [
        "def OutiliersDetection(column):\n",
        "  outliers = []\n",
        "  Q1 = column.quantile(.25)\n",
        "  Q3 = column.quantile(.75)\n",
        "  IQR = Q3 - Q1\n",
        "  lower_limit = Q1 - 0.25*IQR\n",
        "  upper_limit = Q3 + 1.5*IQR\n",
        "  for value in column:\n",
        "    if value < lower_limit or value > upper_limit:\n",
        "      outliers.append(value)\n",
        "  return list(outliers)\n",
        "\n",
        "# Checking the function with the Latitude column\n",
        "OutiliersDetection(df.latitude)\n",
        "\n",
        "print(\"The Number of rows containing outliers\", len(OutiliersDetection(df.latitude)))\n",
        "print(\"The Remaining Data Which is not considered as outlier is\", len(df.latitude) - len(OutiliersDetection(df.latitude)))"
      ]
    },
    {
      "cell_type": "markdown",
      "metadata": {
        "id": "O4QqGbx2fC01"
      },
      "source": [
        "#### **Step 3 : Data Visualization**"
      ]
    },
    {
      "cell_type": "markdown",
      "metadata": {
        "id": "v4qG2MfLfP9F"
      },
      "source": [
        "##### Check for missing values visually"
      ]
    },
    {
      "cell_type": "code",
      "execution_count": 17,
      "metadata": {
        "colab": {
          "base_uri": "https://localhost:8080/",
          "height": 797
        },
        "id": "3KmVdHiYk4G_",
        "outputId": "5083c497-5f3c-48b3-a18d-0c6af4c52e79"
      },
      "outputs": [
        {
          "output_type": "execute_result",
          "data": {
            "text/plain": [
              "<matplotlib.axes._subplots.AxesSubplot at 0x7fc4d3032c90>"
            ]
          },
          "metadata": {},
          "execution_count": 17
        },
        {
          "output_type": "display_data",
          "data": {
            "image/png": "[encoded data removed]",
            "text/plain": [
              "<Figure size 576x576 with 1 Axes>"
            ]
          },
          "metadata": {
            "needs_background": "light"
          }
        }
      ],
      "source": [
        "import seaborn as sns\n",
        "fig, ax = plt.subplots(figsize=(8,8))\n",
        "sns.heatmap(df.isnull(), cbar = False, yticklabels = False, cmap = 'viridis', ax = ax)"
      ]
    },
    {
      "cell_type": "markdown",
      "metadata": {
        "id": "8wspe6QnkvIH"
      },
      "source": [
        "**Comment** : From above we can see there is no missing values in the dataset. Incase if there is any, we would have seen figure represented by different color shade on purple background."
      ]
    },
    {
      "cell_type": "markdown",
      "metadata": {
        "id": "bxeZcpIemrJx"
      },
      "source": [
        "##### Categorical Variables Analysis: \n",
        "Categorical variable analysis — Now we will understand how data is distributed in categorical feature."
      ]
    },
    {
      "cell_type": "code",
      "execution_count": null,
      "metadata": {
        "id": "s5v4bwLscyz4"
      },
      "outputs": [],
      "source": [
        "### Defining a new DataFrame with only categorical variables"
      ]
    },
    {
      "cell_type": "code",
      "execution_count": 18,
      "metadata": {
        "colab": {
          "base_uri": "https://localhost:8080/",
          "height": 965
        },
        "id": "tVKyuC4ucy2h",
        "outputId": "55fb270c-6c3d-4c23-a7c4-9485e90317dc"
      },
      "outputs": [
        {
          "output_type": "stream",
          "name": "stdout",
          "text": [
            "<class 'pandas.core.frame.DataFrame'>\n",
            "RangeIndex: 11852 entries, 0 to 11851\n",
            "Data columns (total 16 columns):\n",
            " #   Column                                                          Non-Null Count  Dtype \n",
            "---  ------                                                          --------------  ----- \n",
            " 0   Age                                                             11852 non-null  object\n",
            " 1   Gender                                                          11852 non-null  object\n",
            " 2   Postcode                                                        11852 non-null  object\n",
            " 3   District                                                        11852 non-null  object\n",
            " 4   Constituency                                                    11852 non-null  object\n",
            " 5   Current_Status                                                  11852 non-null  object\n",
            " 6   Total_Household_Income                                          11847 non-null  object\n",
            " 7   How often you attend Entertaining events in a year?             11847 non-null  object\n",
            " 8   Social_Media                                                    11847 non-null  object\n",
            " 9   How many hours are you willing to travel to attend an event?    11847 non-null  object\n",
            " 10  Do you enjoy adrenaline-rush activities?                        11847 non-null  object\n",
            " 11  Are food areas, coffee areas, bars & toilets important to you?  11847 non-null  object\n",
            " 12  What is your favourite attraction from below:                   11847 non-null  object\n",
            " 13  Were you satisfied with the last event you attended with us?    11847 non-null  object\n",
            " 14  Would you recommend our events to other people?                 11847 non-null  object\n",
            " 15  Did you find our events value for money?                        11846 non-null  object\n",
            "dtypes: object(16)\n",
            "memory usage: 1.4+ MB\n"
          ]
        },
        {
          "output_type": "display_data",
          "data": {
            "text/plain": [
              "None"
            ]
          },
          "metadata": {}
        },
        {
          "output_type": "display_data",
          "data": {
            "text/html": [
              "\n",
              "  <div id=\"df-f6f776fa-3787-4f71-9552-1167b15e1eec\">\n",
              "    <div class=\"colab-df-container\">\n",
              "      <div>\n",
              "<style scoped>\n",
              "    .dataframe tbody tr th:only-of-type {\n",
              "        vertical-align: middle;\n",
              "    }\n",
              "\n",
              "    .dataframe tbody tr th {\n",
              "        vertical-align: top;\n",
              "    }\n",
              "\n",
              "    .dataframe thead th {\n",
              "        text-align: right;\n",
              "    }\n",
              "</style>\n",
              "<table border=\"1\" class=\"dataframe\">\n",
              "  <thead>\n",
              "    <tr style=\"text-align: right;\">\n",
              "      <th></th>\n",
              "      <th>Age</th>\n",
              "      <th>Gender</th>\n",
              "      <th>Postcode</th>\n",
              "      <th>District</th>\n",
              "      <th>Constituency</th>\n",
              "      <th>Current_Status</th>\n",
              "      <th>Total_Household_Income</th>\n",
              "      <th>How often you attend Entertaining events in a year?</th>\n",
              "      <th>Social_Media</th>\n",
              "      <th>How many hours are you willing to travel to attend an event?</th>\n",
              "      <th>Do you enjoy adrenaline-rush activities?</th>\n",
              "      <th>Are food areas, coffee areas, bars &amp; toilets important to you?</th>\n",
              "      <th>What is your favourite attraction from below:</th>\n",
              "      <th>Were you satisfied with the last event you attended with us?</th>\n",
              "      <th>Would you recommend our events to other people?</th>\n",
              "      <th>Did you find our events value for money?</th>\n",
              "    </tr>\n",
              "  </thead>\n",
              "  <tbody>\n",
              "    <tr>\n",
              "      <th>0</th>\n",
              "      <td>40-49</td>\n",
              "      <td>Female</td>\n",
              "      <td>AL9 7BN</td>\n",
              "      <td>Welwyn Hatfield</td>\n",
              "      <td>Welwyn Hatfield</td>\n",
              "      <td>Married with children</td>\n",
              "      <td>50,000 to 74,999</td>\n",
              "      <td>4 Times a Year</td>\n",
              "      <td>Up to 1 hour</td>\n",
              "      <td>3 hours</td>\n",
              "      <td>Entirely disagree</td>\n",
              "      <td>Entirely agree</td>\n",
              "      <td>Ice Bar</td>\n",
              "      <td>Somewhat agree</td>\n",
              "      <td>Somewhat Unlikely</td>\n",
              "      <td>Somewhat disagree</td>\n",
              "    </tr>\n",
              "    <tr>\n",
              "      <th>1</th>\n",
              "      <td>60-64</td>\n",
              "      <td>Male</td>\n",
              "      <td>AL7 1ZW</td>\n",
              "      <td>Welwyn Hatfield</td>\n",
              "      <td>Welwyn Hatfield</td>\n",
              "      <td>Married with children</td>\n",
              "      <td>35,000 to 49,999</td>\n",
              "      <td>3 Times a Year</td>\n",
              "      <td>Up to 1 hour</td>\n",
              "      <td>5 hours</td>\n",
              "      <td>Somewhat disagree</td>\n",
              "      <td>Entirely agree</td>\n",
              "      <td>Happy Rollercoaster</td>\n",
              "      <td>Mostly agree</td>\n",
              "      <td>Somewhat Likely</td>\n",
              "      <td>Entirely disagree</td>\n",
              "    </tr>\n",
              "    <tr>\n",
              "      <th>2</th>\n",
              "      <td>50-59</td>\n",
              "      <td>Male</td>\n",
              "      <td>AB4 5JX</td>\n",
              "      <td>Aberdeenshire</td>\n",
              "      <td>Banff and Buchan</td>\n",
              "      <td>Married with children</td>\n",
              "      <td>75,000 to 99,999</td>\n",
              "      <td>3 Times a Year</td>\n",
              "      <td>I don't spend any time at all</td>\n",
              "      <td>5 hours</td>\n",
              "      <td>Somewhat disagree</td>\n",
              "      <td>Somewhat agree</td>\n",
              "      <td>Happy Rollercoaster</td>\n",
              "      <td>Mostly agree</td>\n",
              "      <td>Mostly Unlikely</td>\n",
              "      <td>Entirely disagree</td>\n",
              "    </tr>\n",
              "    <tr>\n",
              "      <th>3</th>\n",
              "      <td>50-59</td>\n",
              "      <td>Female</td>\n",
              "      <td>B24 0DL</td>\n",
              "      <td>Birmingham</td>\n",
              "      <td>Birmingham, Erdington</td>\n",
              "      <td>Married without children</td>\n",
              "      <td>35,000 to 49,999</td>\n",
              "      <td>1 Times a Year</td>\n",
              "      <td>Half a day</td>\n",
              "      <td>1 hour</td>\n",
              "      <td>Entirely agree</td>\n",
              "      <td>Neither agree nor disagree</td>\n",
              "      <td>Crazy rollercoaster ride</td>\n",
              "      <td>Somewhat agree</td>\n",
              "      <td>Somewhat Likely</td>\n",
              "      <td>Somewhat disagree</td>\n",
              "    </tr>\n",
              "    <tr>\n",
              "      <th>4</th>\n",
              "      <td>60-64</td>\n",
              "      <td>Male</td>\n",
              "      <td>E17 5QP</td>\n",
              "      <td>Waltham Forest</td>\n",
              "      <td>Walthamstow</td>\n",
              "      <td>Married with children</td>\n",
              "      <td>100,000 to 149,999</td>\n",
              "      <td>3 Times a Year</td>\n",
              "      <td>Up to 1 hour</td>\n",
              "      <td>6 hours plus</td>\n",
              "      <td>Mostly disagree</td>\n",
              "      <td>Neither agree nor disagree</td>\n",
              "      <td>Kids Playground</td>\n",
              "      <td>Entirely agree</td>\n",
              "      <td>Very Unlikely</td>\n",
              "      <td>Entirely agree</td>\n",
              "    </tr>\n",
              "  </tbody>\n",
              "</table>\n",
              "</div>\n",
              "      <button class=\"colab-df-convert\" onclick=\"convertToInteractive('df-f6f776fa-3787-4f71-9552-1167b15e1eec')\"\n",
              "              title=\"Convert this dataframe to an interactive table.\"\n",
              "              style=\"display:none;\">\n",
              "        \n",
              "  <svg xmlns=\"http://www.w3.org/2000/svg\" height=\"24px\"viewBox=\"0 0 24 24\"\n",
              "       width=\"24px\">\n",
              "    <path d=\"M0 0h24v24H0V0z\" fill=\"none\"/>\n",
              "    <path d=\"M18.56 5.44l.94 2.06.94-2.06 2.06-.94-2.06-.94-.94-2.06-.94 2.06-2.06.94zm-11 1L8.5 8.5l.94-2.06 2.06-.94-2.06-.94L8.5 2.5l-.94 2.06-2.06.94zm10 10l.94 2.06.94-2.06 2.06-.94-2.06-.94-.94-2.06-.94 2.06-2.06.94z\"/><path d=\"M17.41 7.96l-1.37-1.37c-.4-.4-.92-.59-1.43-.59-.52 0-1.04.2-1.43.59L10.3 9.45l-7.72 7.72c-.78.78-.78 2.05 0 2.83L4 21.41c.39.39.9.59 1.41.59.51 0 1.02-.2 1.41-.59l7.78-7.78 2.81-2.81c.8-.78.8-2.07 0-2.86zM5.41 20L4 18.59l7.72-7.72 1.47 1.35L5.41 20z\"/>\n",
              "  </svg>\n",
              "      </button>\n",
              "      \n",
              "  <style>\n",
              "    .colab-df-container {\n",
              "      display:flex;\n",
              "      flex-wrap:wrap;\n",
              "      gap: 12px;\n",
              "    }\n",
              "\n",
              "    .colab-df-convert {\n",
              "      background-color: #E8F0FE;\n",
              "      border: none;\n",
              "      border-radius: 50%;\n",
              "      cursor: pointer;\n",
              "      display: none;\n",
              "      fill: #1967D2;\n",
              "      height: 32px;\n",
              "      padding: 0 0 0 0;\n",
              "      width: 32px;\n",
              "    }\n",
              "\n",
              "    .colab-df-convert:hover {\n",
              "      background-color: #E2EBFA;\n",
              "      box-shadow: 0px 1px 2px rgba(60, 64, 67, 0.3), 0px 1px 3px 1px rgba(60, 64, 67, 0.15);\n",
              "      fill: #174EA6;\n",
              "    }\n",
              "\n",
              "    [theme=dark] .colab-df-convert {\n",
              "      background-color: #3B4455;\n",
              "      fill: #D2E3FC;\n",
              "    }\n",
              "\n",
              "    [theme=dark] .colab-df-convert:hover {\n",
              "      background-color: #434B5C;\n",
              "      box-shadow: 0px 1px 3px 1px rgba(0, 0, 0, 0.15);\n",
              "      filter: drop-shadow(0px 1px 2px rgba(0, 0, 0, 0.3));\n",
              "      fill: #FFFFFF;\n",
              "    }\n",
              "  </style>\n",
              "\n",
              "      <script>\n",
              "        const buttonEl =\n",
              "          document.querySelector('#df-f6f776fa-3787-4f71-9552-1167b15e1eec button.colab-df-convert');\n",
              "        buttonEl.style.display =\n",
              "          google.colab.kernel.accessAllowed ? 'block' : 'none';\n",
              "\n",
              "        async function convertToInteractive(key) {\n",
              "          const element = document.querySelector('#df-f6f776fa-3787-4f71-9552-1167b15e1eec');\n",
              "          const dataTable =\n",
              "            await google.colab.kernel.invokeFunction('convertToInteractive',\n",
              "                                                     [key], {});\n",
              "          if (!dataTable) return;\n",
              "\n",
              "          const docLinkHtml = 'Like what you see? Visit the ' +\n",
              "            '<a target=\"_blank\" href=https://colab.research.google.com/notebooks/data_table.ipynb>data table notebook</a>'\n",
              "            + ' to learn more about interactive tables.';\n",
              "          element.innerHTML = '';\n",
              "          dataTable['output_type'] = 'display_data';\n",
              "          await google.colab.output.renderOutput(dataTable, element);\n",
              "          const docLink = document.createElement('div');\n",
              "          docLink.innerHTML = docLinkHtml;\n",
              "          element.appendChild(docLink);\n",
              "        }\n",
              "      </script>\n",
              "    </div>\n",
              "  </div>\n",
              "  "
            ],
            "text/plain": [
              "     Age  ... Did you find our events value for money?\n",
              "0  40-49  ...                        Somewhat disagree\n",
              "1  60-64  ...                        Entirely disagree\n",
              "2  50-59  ...                        Entirely disagree\n",
              "3  50-59  ...                        Somewhat disagree\n",
              "4  60-64  ...                           Entirely agree\n",
              "\n",
              "[5 rows x 16 columns]"
            ]
          },
          "metadata": {}
        }
      ],
      "source": [
        "categorical_df = df.select_dtypes(\"object\")\n",
        "display(categorical_df.info(), categorical_df.head())"
      ]
    },
    {
      "cell_type": "code",
      "source": [
        "df.District.unique()\n",
        "\n"
      ],
      "metadata": {
        "colab": {
          "base_uri": "https://localhost:8080/"
        },
        "id": "nSfP-WeaNR0C",
        "outputId": "4a76314b-75fa-49e8-84a8-dbfbbb707d33"
      },
      "execution_count": 20,
      "outputs": [
        {
          "output_type": "execute_result",
          "data": {
            "text/plain": [
              "array(['Welwyn Hatfield', 'Aberdeenshire', 'Birmingham', 'Waltham Forest',\n",
              "       'Bolton', 'Dartford', 'Bury', 'Aylesbury Vale', 'Colchester',\n",
              "       'Bassetlaw', 'Midlothian', 'Carlisle', 'Angus', 'County Durham',\n",
              "       'Waverley', 'South Derbyshire', 'Glasgow City', 'Enfield',\n",
              "       'Wealden', 'Merton', 'Bournemouth, Christchurch and Poole',\n",
              "       'Renfrewshire', 'Hart', 'Allerdale', 'North Lincolnshire', 'Dover',\n",
              "       'Falkirk', 'Maldon', 'Nuneaton and Bedworth', 'Solihull',\n",
              "       'Chelmsford', 'Hackney', 'Newry, Mourne and Down', 'Gloucester',\n",
              "       'Armagh City, Banbridge and Craigavon', 'Warwick', 'Croydon',\n",
              "       'Camden', 'Folkestone and Hythe', 'Babergh',\n",
              "       'Herefordshire, County of', 'Belfast', 'Aberdeen City',\n",
              "       'City of Edinburgh', 'Clackmannanshire', 'Rhondda Cynon Taf',\n",
              "       'Dorset', 'Braintree', 'East Dunbartonshire',\n",
              "       'Fermanagh and Omagh', 'Cheshire West and Chester',\n",
              "       'North East Lincolnshire', 'Antrim and Newtownabbey', 'Cardiff',\n",
              "       'Eden', 'Scottish Borders', 'Newham', 'Harrogate', 'Cambridge',\n",
              "       'Rugby', 'Uttlesford', 'Mid Devon', 'Torridge', 'Canterbury',\n",
              "       'Craven', 'Amber Valley', 'Ards and North Down', 'Teignbridge',\n",
              "       'Lisburn and Castlereagh', 'Stroud', 'South Somerset', 'Derby',\n",
              "       'Tamworth', 'Coventry', 'Derry City and Strabane', 'Lewes',\n",
              "       'Hertsmere', 'Mid Ulster', 'Barnet', 'North Somerset', 'Bradford',\n",
              "       'St Albans', 'Bristol, City of', 'Islington', 'Bexley',\n",
              "       'Blackburn with Darwen', 'Wirral', 'Hambleton',\n",
              "       'Dumfries and Galloway', 'Bath and North East Somerset',\n",
              "       'East Riding of Yorkshire', 'Broxbourne', 'Harrow',\n",
              "       'East Cambridgeshire', 'Worthing', 'Wycombe',\n",
              "       'South Gloucestershire', 'Fylde', 'Forest of Dean',\n",
              "       'Merthyr Tydfil', 'Vale of Glamorgan', 'West Suffolk', 'Sutton',\n",
              "       'Bromsgrove', 'Bromley', 'Doncaster', 'Thanet', 'Rushmoor',\n",
              "       'Kirklees', 'West Lothian', 'Guildford', 'Sunderland', 'Sedgemoor',\n",
              "       'Basildon', 'Dudley', 'Surrey Heath', 'City of London',\n",
              "       'Brentwood', 'Epping Forest', 'Burnley', 'Copeland',\n",
              "       'Kingston upon Hull, City of', 'Gravesham', 'Stirling',\n",
              "       'Cheshire East', 'West Devon', 'Blackpool', 'Denbighshire',\n",
              "       'Darlington', 'Dundee City', 'Tendring', 'Cheltenham',\n",
              "       'Bracknell Forest', 'Wiltshire', 'Exeter', 'South Bucks',\n",
              "       'Flintshire', 'South Lanarkshire', 'Lichfield', 'Tower Hamlets',\n",
              "       'Mendip', 'Sandwell', 'Caerphilly', 'Causeway Coast and Glens',\n",
              "       'East Staffordshire', 'Stratford-on-Avon', 'East Devon',\n",
              "       'Bridgend', 'East Hampshire', 'Cotswold', 'East Hertfordshire',\n",
              "       'Tewkesbury', 'East Lothian', 'West Dunbartonshire',\n",
              "       'Ribble Valley', 'Brighton and Hove', 'Erewash', 'Adur',\n",
              "       'Tandridge', 'Harlow', 'Arun', 'West Lindsey', 'Rochdale',\n",
              "       'Redditch', 'Hyndburn', 'Wyre', 'South Cambridgeshire', 0,\n",
              "       'Redbridge', 'Moray', 'Dacorum', 'Derbyshire Dales',\n",
              "       'North Lanarkshire', 'East Renfrewshire', 'Mid and East Antrim',\n",
              "       'Fife', 'Bolsover', 'Horsham', 'Chichester',\n",
              "       'North West Leicestershire', 'Eastbourne', 'Calderdale', 'Pendle',\n",
              "       'Wyre Forest', 'Lewisham', 'North Warwickshire', 'Sevenoaks',\n",
              "       'Chiltern', 'North Devon', 'Brent', 'North East Derbyshire',\n",
              "       'Argyll and Bute', 'Shropshire', 'New Forest',\n",
              "       'Newcastle-under-Lyme', 'Rossendale', 'Three Rivers', 'Hillingdon',\n",
              "       'Richmondshire', 'Perth and Kinross', 'Woking',\n",
              "       'Reigate and Banstead', 'Na h-Eileanan Siar', 'Walsall',\n",
              "       'Runnymede', 'Winchester', 'Gateshead', 'Cornwall', 'Mid Sussex',\n",
              "       'Malvern Hills', 'Greenwich', 'Powys', 'Selby', 'Newport',\n",
              "       'Hinckley and Bosworth', 'Wychavon', 'Northumberland',\n",
              "       'East Lindsey', 'South Staffordshire', 'Chorley', 'Daventry'],\n",
              "      dtype=object)"
            ]
          },
          "metadata": {},
          "execution_count": 20
        }
      ]
    },
    {
      "cell_type": "code",
      "execution_count": 68,
      "metadata": {
        "colab": {
          "base_uri": "https://localhost:8080/",
          "height": 1000
        },
        "id": "4GHmEhgCcy5C",
        "outputId": "acee07e5-e31b-449a-c5a9-80ed70fd3db3"
      },
      "outputs": [
        {
          "output_type": "stream",
          "name": "stderr",
          "text": [
            "/usr/local/lib/python3.7/dist-packages/seaborn/categorical.py:3717: UserWarning: The `factorplot` function has been renamed to `catplot`. The original name will be removed in a future release. Please update your code. Note that the default `kind` in `factorplot` (`'point'`) has changed `'strip'` in `catplot`.\n",
            "  warnings.warn(msg)\n",
            "/usr/local/lib/python3.7/dist-packages/seaborn/_decorators.py:43: FutureWarning: Pass the following variable as a keyword arg: x. From version 0.12, the only valid positional argument will be `data`, and passing other arguments without an explicit keyword will result in an error or misinterpretation.\n",
            "  FutureWarning\n",
            "/usr/local/lib/python3.7/dist-packages/seaborn/categorical.py:3717: UserWarning: The `factorplot` function has been renamed to `catplot`. The original name will be removed in a future release. Please update your code. Note that the default `kind` in `factorplot` (`'point'`) has changed `'strip'` in `catplot`.\n",
            "  warnings.warn(msg)\n",
            "/usr/local/lib/python3.7/dist-packages/seaborn/_decorators.py:43: FutureWarning: Pass the following variable as a keyword arg: x. From version 0.12, the only valid positional argument will be `data`, and passing other arguments without an explicit keyword will result in an error or misinterpretation.\n",
            "  FutureWarning\n",
            "/usr/local/lib/python3.7/dist-packages/seaborn/categorical.py:3717: UserWarning: The `factorplot` function has been renamed to `catplot`. The original name will be removed in a future release. Please update your code. Note that the default `kind` in `factorplot` (`'point'`) has changed `'strip'` in `catplot`.\n",
            "  warnings.warn(msg)\n",
            "/usr/local/lib/python3.7/dist-packages/seaborn/_decorators.py:43: FutureWarning: Pass the following variable as a keyword arg: x. From version 0.12, the only valid positional argument will be `data`, and passing other arguments without an explicit keyword will result in an error or misinterpretation.\n",
            "  FutureWarning\n",
            "/usr/local/lib/python3.7/dist-packages/seaborn/categorical.py:3717: UserWarning: The `factorplot` function has been renamed to `catplot`. The original name will be removed in a future release. Please update your code. Note that the default `kind` in `factorplot` (`'point'`) has changed `'strip'` in `catplot`.\n",
            "  warnings.warn(msg)\n",
            "/usr/local/lib/python3.7/dist-packages/seaborn/_decorators.py:43: FutureWarning: Pass the following variable as a keyword arg: x. From version 0.12, the only valid positional argument will be `data`, and passing other arguments without an explicit keyword will result in an error or misinterpretation.\n",
            "  FutureWarning\n"
          ]
        },
        {
          "output_type": "display_data",
          "data": {
            "image/png": "[encoded data removed]",
            "text/plain": [
              "<Figure size 1080x576 with 1 Axes>"
            ]
          },
          "metadata": {
            "needs_background": "light"
          }
        },
        {
          "output_type": "display_data",
          "data": {
            "image/png": "[encoded data removed]",
            "text/plain": [
              "<Figure size 1080x576 with 1 Axes>"
            ]
          },
          "metadata": {
            "needs_background": "light"
          }
        },
        {
          "output_type": "display_data",
          "data": {
            "image/png": "[encoded data removed]",
            "text/plain": [
              "<Figure size 1080x576 with 1 Axes>"
            ]
          },
          "metadata": {
            "needs_background": "light"
          }
        },
        {
          "output_type": "display_data",
          "data": {
            "image/png": "[encoded data removed]",
            "text/plain": [
              "<Figure size 1080x576 with 1 Axes>"
            ]
          },
          "metadata": {
            "needs_background": "light"
          }
        }
      ],
      "source": [
        "## Checking for The Gender Count\n",
        "import seaborn as sns\n",
        "from matplotlib import rcParams\n",
        "fields = ['Age', 'Gender', 'Postcode', 'Constituency']\n",
        "\n",
        "# figure size in inches\n",
        "rcParams['figure.figsize'] = 11.7,8.27\n",
        "\n",
        "for field in fields:\n",
        "  sns.factorplot(field, data = categorical_df, kind = 'count')\n",
        "  plt.gcf().set_size_inches(15, 8)"
      ]
    },
    {
      "cell_type": "code",
      "execution_count": null,
      "metadata": {
        "colab": {
          "base_uri": "https://localhost:8080/",
          "height": 372
        },
        "id": "fwdyev3ocy7j",
        "outputId": "93edc35a-7b3c-49f5-a753-68874c9eb63a"
      },
      "outputs": [
        {
          "data": {
            "image/png": "[encoded data removed]",
            "text/plain": [
              "<Figure size 432x288 with 1 Axes>"
            ]
          },
          "metadata": {},
          "output_type": "display_data"
        }
      ],
      "source": [
        "### Visualizing the relationships between variables \n",
        "\n",
        "for column in df:\n",
        "  sns.countplot(x = column, data = df, palette = 'Set3')\n",
        "  plt.xticks(rotation = 45)\n",
        "  plt.show"
      ]
    },
    {
      "cell_type": "code",
      "execution_count": 28,
      "metadata": {
        "id": "2P4bb3xlcy-V"
      },
      "outputs": [],
      "source": [
        "# ## Making the Categorical Data into Numerical one\n",
        "# categorical_df.head()\n",
        "\n",
        "# Dummy_cat_df = pd.get_dummies(categorical_df)\n",
        "\n",
        "# # print(\"The Shape of the Categorical DataSet {} \".format(categorical_df.shape()))\n",
        "# # print(\"The Shape of the dummy Data {} \".format(Dummy_cat_df.shape()))\n",
        "\n",
        "# Dummy_cat_df\n",
        "\n",
        "# df_model = Dummy_cat_df\n",
        "\n",
        "# df_model"
      ]
    },
    {
      "cell_type": "markdown",
      "source": [
        "**Precision** : in order to be able to analyse the Data and make customers into clusters, based on the behaviors of each customer, we need to drop the location columns."
      ],
      "metadata": {
        "id": "Vbw4Gj1cUIhD"
      }
    },
    {
      "cell_type": "code",
      "source": [
        "## Columns to drop from the dataset\n",
        "location_columns = ['CUSTOMER', 'Postcode', 'District', 'latitude', 'longitude']\n",
        "\n",
        "data_to_convert = df.copy()\n",
        "# for location in location_columns:\n",
        "#   data_to_convert = df.drop(location, axis = 1, inplace = True)\n",
        "\n",
        "dummy_data = pd.get_dummies(data_to_convert)\n",
        "\n",
        "# Checking for the dummy data\n",
        "i = 0\n",
        "for column in dummy_data:\n",
        "  if (dummy_data[column].unique() == [0, 1]).any():\n",
        "    print(\"Go Ahead and Create Your Machine Learning Model\")\n",
        "  else:\n",
        "    print(\"Try Again Reconverting your Data it seems that there's an issue\")\n",
        "  \n",
        "\n",
        "for column in dummy_data:\n",
        "  print(\"The Values of the Column {} are {}\".format(column, dummy_data[column].unique()))\n"
      ],
      "metadata": {
        "colab": {
          "base_uri": "https://localhost:8080/"
        },
        "id": "8eUH15SqR4xK",
        "outputId": "84959f88-752b-400c-dd45-e2b2bd60c76c"
      },
      "execution_count": 88,
      "outputs": [
        {
          "output_type": "stream",
          "name": "stdout",
          "text": [
            "Go Ahead and Create Your Machine Learning Model\n",
            "Go Ahead and Create Your Machine Learning Model\n",
            "Go Ahead and Create Your Machine Learning Model\n",
            "Go Ahead and Create Your Machine Learning Model\n",
            "Go Ahead and Create Your Machine Learning Model\n",
            "Try Again Reconverting your Data it seems that there's an issue\n",
            "Go Ahead and Create Your Machine Learning Model\n",
            "Go Ahead and Create Your Machine Learning Model\n",
            "Go Ahead and Create Your Machine Learning Model\n",
            "Go Ahead and Create Your Machine Learning Model\n",
            "Go Ahead and Create Your Machine Learning Model\n",
            "Go Ahead and Create Your Machine Learning Model\n",
            "Go Ahead and Create Your Machine Learning Model\n",
            "Go Ahead and Create Your Machine Learning Model\n",
            "Try Again Reconverting your Data it seems that there's an issue\n",
            "Go Ahead and Create Your Machine Learning Model\n",
            "Go Ahead and Create Your Machine Learning Model\n",
            "Go Ahead and Create Your Machine Learning Model\n",
            "Go Ahead and Create Your Machine Learning Model\n",
            "Go Ahead and Create Your Machine Learning Model\n",
            "Go Ahead and Create Your Machine Learning Model\n",
            "Go Ahead and Create Your Machine Learning Model\n",
            "Go Ahead and Create Your Machine Learning Model\n",
            "Go Ahead and Create Your Machine Learning Model\n",
            "Go Ahead and Create Your Machine Learning Model\n",
            "Go Ahead and Create Your Machine Learning Model\n",
            "Go Ahead and Create Your Machine Learning Model\n",
            "Go Ahead and Create Your Machine Learning Model\n",
            "Go Ahead and Create Your Machine Learning Model\n",
            "Go Ahead and Create Your Machine Learning Model\n",
            "Go Ahead and Create Your Machine Learning Model\n",
            "Go Ahead and Create Your Machine Learning Model\n",
            "Go Ahead and Create Your Machine Learning Model\n",
            "Go Ahead and Create Your Machine Learning Model\n",
            "Go Ahead and Create Your Machine Learning Model\n",
            "Go Ahead and Create Your Machine Learning Model\n",
            "Go Ahead and Create Your Machine Learning Model\n",
            "Go Ahead and Create Your Machine Learning Model\n",
            "Go Ahead and Create Your Machine Learning Model\n",
            "Go Ahead and Create Your Machine Learning Model\n",
            "Go Ahead and Create Your Machine Learning Model\n",
            "Go Ahead and Create Your Machine Learning Model\n",
            "Go Ahead and Create Your Machine Learning Model\n",
            "Go Ahead and Create Your Machine Learning Model\n",
            "Go Ahead and Create Your Machine Learning Model\n",
            "Go Ahead and Create Your Machine Learning Model\n",
            "Go Ahead and Create Your Machine Learning Model\n",
            "Go Ahead and Create Your Machine Learning Model\n",
            "Go Ahead and Create Your Machine Learning Model\n",
            "Go Ahead and Create Your Machine Learning Model\n",
            "Go Ahead and Create Your Machine Learning Model\n",
            "Go Ahead and Create Your Machine Learning Model\n",
            "Go Ahead and Create Your Machine Learning Model\n",
            "Go Ahead and Create Your Machine Learning Model\n",
            "Go Ahead and Create Your Machine Learning Model\n",
            "Go Ahead and Create Your Machine Learning Model\n",
            "Go Ahead and Create Your Machine Learning Model\n",
            "Go Ahead and Create Your Machine Learning Model\n",
            "Go Ahead and Create Your Machine Learning Model\n",
            "Go Ahead and Create Your Machine Learning Model\n",
            "Go Ahead and Create Your Machine Learning Model\n",
            "Go Ahead and Create Your Machine Learning Model\n",
            "Go Ahead and Create Your Machine Learning Model\n",
            "Go Ahead and Create Your Machine Learning Model\n",
            "Go Ahead and Create Your Machine Learning Model\n",
            "Go Ahead and Create Your Machine Learning Model\n",
            "Go Ahead and Create Your Machine Learning Model\n",
            "Go Ahead and Create Your Machine Learning Model\n",
            "Go Ahead and Create Your Machine Learning Model\n",
            "Go Ahead and Create Your Machine Learning Model\n",
            "Go Ahead and Create Your Machine Learning Model\n",
            "Go Ahead and Create Your Machine Learning Model\n",
            "Go Ahead and Create Your Machine Learning Model\n",
            "Go Ahead and Create Your Machine Learning Model\n",
            "Go Ahead and Create Your Machine Learning Model\n",
            "Go Ahead and Create Your Machine Learning Model\n",
            "Go Ahead and Create Your Machine Learning Model\n",
            "Go Ahead and Create Your Machine Learning Model\n",
            "Go Ahead and Create Your Machine Learning Model\n",
            "Go Ahead and Create Your Machine Learning Model\n",
            "Go Ahead and Create Your Machine Learning Model\n",
            "Go Ahead and Create Your Machine Learning Model\n",
            "Go Ahead and Create Your Machine Learning Model\n",
            "Go Ahead and Create Your Machine Learning Model\n",
            "Go Ahead and Create Your Machine Learning Model\n",
            "Go Ahead and Create Your Machine Learning Model\n",
            "Go Ahead and Create Your Machine Learning Model\n",
            "Go Ahead and Create Your Machine Learning Model\n",
            "Go Ahead and Create Your Machine Learning Model\n",
            "Go Ahead and Create Your Machine Learning Model\n",
            "Go Ahead and Create Your Machine Learning Model\n",
            "Go Ahead and Create Your Machine Learning Model\n",
            "Go Ahead and Create Your Machine Learning Model\n",
            "Go Ahead and Create Your Machine Learning Model\n",
            "Go Ahead and Create Your Machine Learning Model\n",
            "Go Ahead and Create Your Machine Learning Model\n",
            "Go Ahead and Create Your Machine Learning Model\n",
            "Go Ahead and Create Your Machine Learning Model\n",
            "Go Ahead and Create Your Machine Learning Model\n",
            "Go Ahead and Create Your Machine Learning Model\n",
            "Go Ahead and Create Your Machine Learning Model\n",
            "Go Ahead and Create Your Machine Learning Model\n",
            "Go Ahead and Create Your Machine Learning Model\n",
            "Go Ahead and Create Your Machine Learning Model\n",
            "Go Ahead and Create Your Machine Learning Model\n",
            "Go Ahead and Create Your Machine Learning Model\n",
            "Go Ahead and Create Your Machine Learning Model\n",
            "Go Ahead and Create Your Machine Learning Model\n",
            "Go Ahead and Create Your Machine Learning Model\n",
            "Go Ahead and Create Your Machine Learning Model\n",
            "Go Ahead and Create Your Machine Learning Model\n",
            "Go Ahead and Create Your Machine Learning Model\n",
            "Go Ahead and Create Your Machine Learning Model\n",
            "Go Ahead and Create Your Machine Learning Model\n",
            "Go Ahead and Create Your Machine Learning Model\n",
            "Go Ahead and Create Your Machine Learning Model\n",
            "Go Ahead and Create Your Machine Learning Model\n",
            "Go Ahead and Create Your Machine Learning Model\n",
            "Go Ahead and Create Your Machine Learning Model\n",
            "Go Ahead and Create Your Machine Learning Model\n",
            "Go Ahead and Create Your Machine Learning Model\n",
            "Go Ahead and Create Your Machine Learning Model\n",
            "Go Ahead and Create Your Machine Learning Model\n",
            "Go Ahead and Create Your Machine Learning Model\n",
            "Go Ahead and Create Your Machine Learning Model\n",
            "Go Ahead and Create Your Machine Learning Model\n",
            "Go Ahead and Create Your Machine Learning Model\n",
            "Go Ahead and Create Your Machine Learning Model\n",
            "Go Ahead and Create Your Machine Learning Model\n",
            "Go Ahead and Create Your Machine Learning Model\n",
            "Go Ahead and Create Your Machine Learning Model\n",
            "Go Ahead and Create Your Machine Learning Model\n",
            "Go Ahead and Create Your Machine Learning Model\n",
            "Go Ahead and Create Your Machine Learning Model\n",
            "Go Ahead and Create Your Machine Learning Model\n",
            "Go Ahead and Create Your Machine Learning Model\n",
            "Go Ahead and Create Your Machine Learning Model\n",
            "Go Ahead and Create Your Machine Learning Model\n",
            "Go Ahead and Create Your Machine Learning Model\n",
            "Go Ahead and Create Your Machine Learning Model\n",
            "Go Ahead and Create Your Machine Learning Model\n",
            "Go Ahead and Create Your Machine Learning Model\n",
            "Go Ahead and Create Your Machine Learning Model\n",
            "Go Ahead and Create Your Machine Learning Model\n",
            "Go Ahead and Create Your Machine Learning Model\n",
            "Go Ahead and Create Your Machine Learning Model\n",
            "Go Ahead and Create Your Machine Learning Model\n",
            "Go Ahead and Create Your Machine Learning Model\n",
            "Go Ahead and Create Your Machine Learning Model\n",
            "Go Ahead and Create Your Machine Learning Model\n",
            "Go Ahead and Create Your Machine Learning Model\n",
            "Go Ahead and Create Your Machine Learning Model\n",
            "Go Ahead and Create Your Machine Learning Model\n",
            "Go Ahead and Create Your Machine Learning Model\n",
            "Go Ahead and Create Your Machine Learning Model\n",
            "Go Ahead and Create Your Machine Learning Model\n",
            "Go Ahead and Create Your Machine Learning Model\n",
            "Go Ahead and Create Your Machine Learning Model\n",
            "Go Ahead and Create Your Machine Learning Model\n",
            "Go Ahead and Create Your Machine Learning Model\n",
            "Go Ahead and Create Your Machine Learning Model\n",
            "Go Ahead and Create Your Machine Learning Model\n",
            "Go Ahead and Create Your Machine Learning Model\n",
            "Go Ahead and Create Your Machine Learning Model\n",
            "Go Ahead and Create Your Machine Learning Model\n",
            "Go Ahead and Create Your Machine Learning Model\n",
            "Go Ahead and Create Your Machine Learning Model\n",
            "Go Ahead and Create Your Machine Learning Model\n",
            "Go Ahead and Create Your Machine Learning Model\n",
            "Go Ahead and Create Your Machine Learning Model\n",
            "Go Ahead and Create Your Machine Learning Model\n",
            "Go Ahead and Create Your Machine Learning Model\n",
            "Go Ahead and Create Your Machine Learning Model\n",
            "Go Ahead and Create Your Machine Learning Model\n",
            "Go Ahead and Create Your Machine Learning Model\n",
            "Go Ahead and Create Your Machine Learning Model\n",
            "Go Ahead and Create Your Machine Learning Model\n",
            "Go Ahead and Create Your Machine Learning Model\n",
            "Go Ahead and Create Your Machine Learning Model\n",
            "Go Ahead and Create Your Machine Learning Model\n",
            "Go Ahead and Create Your Machine Learning Model\n",
            "Go Ahead and Create Your Machine Learning Model\n",
            "Go Ahead and Create Your Machine Learning Model\n",
            "Go Ahead and Create Your Machine Learning Model\n",
            "Go Ahead and Create Your Machine Learning Model\n",
            "Go Ahead and Create Your Machine Learning Model\n",
            "Go Ahead and Create Your Machine Learning Model\n",
            "Go Ahead and Create Your Machine Learning Model\n",
            "Go Ahead and Create Your Machine Learning Model\n",
            "Go Ahead and Create Your Machine Learning Model\n",
            "Go Ahead and Create Your Machine Learning Model\n",
            "Go Ahead and Create Your Machine Learning Model\n",
            "Go Ahead and Create Your Machine Learning Model\n",
            "Go Ahead and Create Your Machine Learning Model\n",
            "Go Ahead and Create Your Machine Learning Model\n",
            "Go Ahead and Create Your Machine Learning Model\n",
            "Go Ahead and Create Your Machine Learning Model\n",
            "Go Ahead and Create Your Machine Learning Model\n",
            "Go Ahead and Create Your Machine Learning Model\n",
            "Go Ahead and Create Your Machine Learning Model\n",
            "Go Ahead and Create Your Machine Learning Model\n",
            "Go Ahead and Create Your Machine Learning Model\n",
            "Go Ahead and Create Your Machine Learning Model\n",
            "Go Ahead and Create Your Machine Learning Model\n",
            "Go Ahead and Create Your Machine Learning Model\n",
            "Go Ahead and Create Your Machine Learning Model\n",
            "Go Ahead and Create Your Machine Learning Model\n",
            "Go Ahead and Create Your Machine Learning Model\n",
            "Go Ahead and Create Your Machine Learning Model\n",
            "Go Ahead and Create Your Machine Learning Model\n",
            "Go Ahead and Create Your Machine Learning Model\n",
            "Go Ahead and Create Your Machine Learning Model\n",
            "Go Ahead and Create Your Machine Learning Model\n",
            "Go Ahead and Create Your Machine Learning Model\n",
            "Go Ahead and Create Your Machine Learning Model\n",
            "Go Ahead and Create Your Machine Learning Model\n",
            "Go Ahead and Create Your Machine Learning Model\n",
            "Go Ahead and Create Your Machine Learning Model\n",
            "Go Ahead and Create Your Machine Learning Model\n",
            "Go Ahead and Create Your Machine Learning Model\n",
            "Go Ahead and Create Your Machine Learning Model\n",
            "Go Ahead and Create Your Machine Learning Model\n",
            "Go Ahead and Create Your Machine Learning Model\n",
            "Go Ahead and Create Your Machine Learning Model\n",
            "Go Ahead and Create Your Machine Learning Model\n",
            "Go Ahead and Create Your Machine Learning Model\n",
            "Go Ahead and Create Your Machine Learning Model\n",
            "Go Ahead and Create Your Machine Learning Model\n",
            "Go Ahead and Create Your Machine Learning Model\n",
            "Go Ahead and Create Your Machine Learning Model\n",
            "Go Ahead and Create Your Machine Learning Model\n",
            "Go Ahead and Create Your Machine Learning Model\n",
            "Go Ahead and Create Your Machine Learning Model\n",
            "Go Ahead and Create Your Machine Learning Model\n",
            "Go Ahead and Create Your Machine Learning Model\n",
            "Go Ahead and Create Your Machine Learning Model\n",
            "Go Ahead and Create Your Machine Learning Model\n",
            "Go Ahead and Create Your Machine Learning Model\n",
            "Go Ahead and Create Your Machine Learning Model\n",
            "Go Ahead and Create Your Machine Learning Model\n",
            "Go Ahead and Create Your Machine Learning Model\n",
            "Go Ahead and Create Your Machine Learning Model\n",
            "Go Ahead and Create Your Machine Learning Model\n",
            "Go Ahead and Create Your Machine Learning Model\n",
            "Go Ahead and Create Your Machine Learning Model\n",
            "Go Ahead and Create Your Machine Learning Model\n",
            "Go Ahead and Create Your Machine Learning Model\n",
            "Go Ahead and Create Your Machine Learning Model\n",
            "Go Ahead and Create Your Machine Learning Model\n",
            "Go Ahead and Create Your Machine Learning Model\n",
            "Go Ahead and Create Your Machine Learning Model\n",
            "Go Ahead and Create Your Machine Learning Model\n",
            "Go Ahead and Create Your Machine Learning Model\n",
            "Go Ahead and Create Your Machine Learning Model\n",
            "Go Ahead and Create Your Machine Learning Model\n",
            "Go Ahead and Create Your Machine Learning Model\n",
            "Go Ahead and Create Your Machine Learning Model\n",
            "Go Ahead and Create Your Machine Learning Model\n",
            "Go Ahead and Create Your Machine Learning Model\n",
            "Go Ahead and Create Your Machine Learning Model\n",
            "Go Ahead and Create Your Machine Learning Model\n",
            "Go Ahead and Create Your Machine Learning Model\n",
            "Go Ahead and Create Your Machine Learning Model\n",
            "Go Ahead and Create Your Machine Learning Model\n",
            "Go Ahead and Create Your Machine Learning Model\n",
            "Go Ahead and Create Your Machine Learning Model\n",
            "Go Ahead and Create Your Machine Learning Model\n",
            "Go Ahead and Create Your Machine Learning Model\n",
            "Go Ahead and Create Your Machine Learning Model\n",
            "Go Ahead and Create Your Machine Learning Model\n",
            "Go Ahead and Create Your Machine Learning Model\n",
            "Go Ahead and Create Your Machine Learning Model\n",
            "Go Ahead and Create Your Machine Learning Model\n",
            "Go Ahead and Create Your Machine Learning Model\n",
            "Go Ahead and Create Your Machine Learning Model\n",
            "Go Ahead and Create Your Machine Learning Model\n",
            "Go Ahead and Create Your Machine Learning Model\n",
            "Go Ahead and Create Your Machine Learning Model\n",
            "Go Ahead and Create Your Machine Learning Model\n",
            "Go Ahead and Create Your Machine Learning Model\n",
            "Go Ahead and Create Your Machine Learning Model\n",
            "Go Ahead and Create Your Machine Learning Model\n",
            "Go Ahead and Create Your Machine Learning Model\n",
            "Go Ahead and Create Your Machine Learning Model\n",
            "Go Ahead and Create Your Machine Learning Model\n",
            "Go Ahead and Create Your Machine Learning Model\n",
            "Go Ahead and Create Your Machine Learning Model\n",
            "Go Ahead and Create Your Machine Learning Model\n",
            "Go Ahead and Create Your Machine Learning Model\n",
            "Go Ahead and Create Your Machine Learning Model\n",
            "Go Ahead and Create Your Machine Learning Model\n",
            "Go Ahead and Create Your Machine Learning Model\n",
            "Go Ahead and Create Your Machine Learning Model\n",
            "Go Ahead and Create Your Machine Learning Model\n",
            "Go Ahead and Create Your Machine Learning Model\n",
            "Go Ahead and Create Your Machine Learning Model\n",
            "Go Ahead and Create Your Machine Learning Model\n",
            "Go Ahead and Create Your Machine Learning Model\n",
            "Go Ahead and Create Your Machine Learning Model\n",
            "Go Ahead and Create Your Machine Learning Model\n",
            "Go Ahead and Create Your Machine Learning Model\n",
            "Go Ahead and Create Your Machine Learning Model\n",
            "Go Ahead and Create Your Machine Learning Model\n",
            "Go Ahead and Create Your Machine Learning Model\n",
            "Go Ahead and Create Your Machine Learning Model\n",
            "Go Ahead and Create Your Machine Learning Model\n",
            "Go Ahead and Create Your Machine Learning Model\n",
            "Go Ahead and Create Your Machine Learning Model\n",
            "Go Ahead and Create Your Machine Learning Model\n",
            "Go Ahead and Create Your Machine Learning Model\n",
            "Go Ahead and Create Your Machine Learning Model\n",
            "Go Ahead and Create Your Machine Learning Model\n",
            "Go Ahead and Create Your Machine Learning Model\n",
            "Go Ahead and Create Your Machine Learning Model\n",
            "Go Ahead and Create Your Machine Learning Model\n",
            "Go Ahead and Create Your Machine Learning Model\n",
            "Go Ahead and Create Your Machine Learning Model\n",
            "Go Ahead and Create Your Machine Learning Model\n",
            "Go Ahead and Create Your Machine Learning Model\n",
            "Go Ahead and Create Your Machine Learning Model\n",
            "Go Ahead and Create Your Machine Learning Model\n",
            "Go Ahead and Create Your Machine Learning Model\n",
            "Go Ahead and Create Your Machine Learning Model\n",
            "Go Ahead and Create Your Machine Learning Model\n",
            "Go Ahead and Create Your Machine Learning Model\n",
            "Go Ahead and Create Your Machine Learning Model\n",
            "Go Ahead and Create Your Machine Learning Model\n",
            "Go Ahead and Create Your Machine Learning Model\n",
            "Go Ahead and Create Your Machine Learning Model\n",
            "Go Ahead and Create Your Machine Learning Model\n",
            "Go Ahead and Create Your Machine Learning Model\n",
            "Go Ahead and Create Your Machine Learning Model\n",
            "Go Ahead and Create Your Machine Learning Model\n",
            "Go Ahead and Create Your Machine Learning Model\n",
            "Go Ahead and Create Your Machine Learning Model\n",
            "Go Ahead and Create Your Machine Learning Model\n",
            "Go Ahead and Create Your Machine Learning Model\n",
            "Go Ahead and Create Your Machine Learning Model\n",
            "Go Ahead and Create Your Machine Learning Model\n",
            "Go Ahead and Create Your Machine Learning Model\n",
            "Go Ahead and Create Your Machine Learning Model\n",
            "Go Ahead and Create Your Machine Learning Model\n",
            "Go Ahead and Create Your Machine Learning Model\n",
            "Go Ahead and Create Your Machine Learning Model\n",
            "Go Ahead and Create Your Machine Learning Model\n",
            "Go Ahead and Create Your Machine Learning Model\n",
            "Go Ahead and Create Your Machine Learning Model\n",
            "Go Ahead and Create Your Machine Learning Model\n",
            "Go Ahead and Create Your Machine Learning Model\n",
            "Go Ahead and Create Your Machine Learning Model\n",
            "Try Again Reconverting your Data it seems that there's an issue\n",
            "Go Ahead and Create Your Machine Learning Model\n",
            "Go Ahead and Create Your Machine Learning Model\n",
            "Go Ahead and Create Your Machine Learning Model\n",
            "Go Ahead and Create Your Machine Learning Model\n",
            "Go Ahead and Create Your Machine Learning Model\n",
            "Go Ahead and Create Your Machine Learning Model\n",
            "Go Ahead and Create Your Machine Learning Model\n",
            "Go Ahead and Create Your Machine Learning Model\n",
            "Go Ahead and Create Your Machine Learning Model\n",
            "Go Ahead and Create Your Machine Learning Model\n",
            "Go Ahead and Create Your Machine Learning Model\n",
            "Go Ahead and Create Your Machine Learning Model\n",
            "Go Ahead and Create Your Machine Learning Model\n",
            "Go Ahead and Create Your Machine Learning Model\n",
            "Go Ahead and Create Your Machine Learning Model\n",
            "Go Ahead and Create Your Machine Learning Model\n",
            "Go Ahead and Create Your Machine Learning Model\n",
            "Go Ahead and Create Your Machine Learning Model\n",
            "Go Ahead and Create Your Machine Learning Model\n",
            "Go Ahead and Create Your Machine Learning Model\n",
            "Go Ahead and Create Your Machine Learning Model\n",
            "Go Ahead and Create Your Machine Learning Model\n",
            "Try Again Reconverting your Data it seems that there's an issue\n",
            "Go Ahead and Create Your Machine Learning Model\n",
            "Go Ahead and Create Your Machine Learning Model\n",
            "Go Ahead and Create Your Machine Learning Model\n",
            "Go Ahead and Create Your Machine Learning Model\n",
            "Go Ahead and Create Your Machine Learning Model\n",
            "Go Ahead and Create Your Machine Learning Model\n",
            "Go Ahead and Create Your Machine Learning Model\n",
            "Go Ahead and Create Your Machine Learning Model\n",
            "Go Ahead and Create Your Machine Learning Model\n",
            "Go Ahead and Create Your Machine Learning Model\n",
            "Try Again Reconverting your Data it seems that there's an issue\n",
            "Go Ahead and Create Your Machine Learning Model\n",
            "Go Ahead and Create Your Machine Learning Model\n",
            "Go Ahead and Create Your Machine Learning Model\n",
            "Go Ahead and Create Your Machine Learning Model\n",
            "Go Ahead and Create Your Machine Learning Model\n",
            "Try Again Reconverting your Data it seems that there's an issue\n",
            "Go Ahead and Create Your Machine Learning Model\n",
            "Go Ahead and Create Your Machine Learning Model\n",
            "Go Ahead and Create Your Machine Learning Model\n",
            "Go Ahead and Create Your Machine Learning Model\n",
            "Try Again Reconverting your Data it seems that there's an issue\n",
            "Go Ahead and Create Your Machine Learning Model\n",
            "Go Ahead and Create Your Machine Learning Model\n",
            "Go Ahead and Create Your Machine Learning Model\n",
            "Try Again Reconverting your Data it seems that there's an issue\n",
            "Go Ahead and Create Your Machine Learning Model\n",
            "Go Ahead and Create Your Machine Learning Model\n",
            "Go Ahead and Create Your Machine Learning Model\n",
            "Go Ahead and Create Your Machine Learning Model\n",
            "Go Ahead and Create Your Machine Learning Model\n",
            "Try Again Reconverting your Data it seems that there's an issue\n",
            "Go Ahead and Create Your Machine Learning Model\n",
            "Go Ahead and Create Your Machine Learning Model\n",
            "Go Ahead and Create Your Machine Learning Model\n",
            "Go Ahead and Create Your Machine Learning Model\n",
            "Go Ahead and Create Your Machine Learning Model\n",
            "Try Again Reconverting your Data it seems that there's an issue\n",
            "Go Ahead and Create Your Machine Learning Model\n",
            "Go Ahead and Create Your Machine Learning Model\n",
            "Go Ahead and Create Your Machine Learning Model\n",
            "Go Ahead and Create Your Machine Learning Model\n",
            "Go Ahead and Create Your Machine Learning Model\n",
            "Go Ahead and Create Your Machine Learning Model\n",
            "Go Ahead and Create Your Machine Learning Model\n",
            "Go Ahead and Create Your Machine Learning Model\n",
            "Try Again Reconverting your Data it seems that there's an issue\n",
            "Go Ahead and Create Your Machine Learning Model\n",
            "Go Ahead and Create Your Machine Learning Model\n",
            "Go Ahead and Create Your Machine Learning Model\n",
            "Go Ahead and Create Your Machine Learning Model\n",
            "Go Ahead and Create Your Machine Learning Model\n",
            "Go Ahead and Create Your Machine Learning Model\n",
            "Go Ahead and Create Your Machine Learning Model\n",
            "Go Ahead and Create Your Machine Learning Model\n",
            "Go Ahead and Create Your Machine Learning Model\n",
            "Try Again Reconverting your Data it seems that there's an issue\n",
            "Go Ahead and Create Your Machine Learning Model\n",
            "Go Ahead and Create Your Machine Learning Model\n",
            "Go Ahead and Create Your Machine Learning Model\n",
            "Go Ahead and Create Your Machine Learning Model\n",
            "Go Ahead and Create Your Machine Learning Model\n",
            "Go Ahead and Create Your Machine Learning Model\n",
            "Try Again Reconverting your Data it seems that there's an issue\n",
            "Go Ahead and Create Your Machine Learning Model\n",
            "Go Ahead and Create Your Machine Learning Model\n",
            "The Values of the Column Age_17 or younger are [0 1]\n",
            "The Values of the Column Age_18-20 are [0 1]\n",
            "The Values of the Column Age_21-25 are [0 1]\n",
            "The Values of the Column Age_26-32 are [0 1]\n",
            "The Values of the Column Age_33-39 are [0 1]\n",
            "The Values of the Column Age_40-49 are [1 0]\n",
            "The Values of the Column Age_50-59 are [0 1]\n",
            "The Values of the Column Age_50-60 are [0 1]\n",
            "The Values of the Column Age_50-61 are [0 1]\n",
            "The Values of the Column Age_50-62 are [0 1]\n",
            "The Values of the Column Age_50-63 are [0 1]\n",
            "The Values of the Column Age_50-64 are [0 1]\n",
            "The Values of the Column Age_60-64 are [0 1]\n",
            "The Values of the Column Age_65 or older are [0 1]\n",
            "The Values of the Column Gender_Female are [1 0]\n",
            "The Values of the Column Gender_Male are [0 1]\n",
            "The Values of the Column Constituency_0 are [0 1]\n",
            "The Values of the Column Constituency_Aberdeen North are [0 1]\n",
            "The Values of the Column Constituency_Aberdeen South are [0 1]\n",
            "The Values of the Column Constituency_Airdrie and Shotts are [0 1]\n",
            "The Values of the Column Constituency_Aldershot are [0 1]\n",
            "The Values of the Column Constituency_Aldridge-Brownhills are [0 1]\n",
            "The Values of the Column Constituency_Alyn and Deeside are [0 1]\n",
            "The Values of the Column Constituency_Amber Valley are [0 1]\n",
            "The Values of the Column Constituency_Angus are [0 1]\n",
            "The Values of the Column Constituency_Argyll and Bute are [0 1]\n",
            "The Values of the Column Constituency_Arundel and South Downs are [0 1]\n",
            "The Values of the Column Constituency_Aylesbury are [0 1]\n",
            "The Values of the Column Constituency_Banff and Buchan are [0 1]\n",
            "The Values of the Column Constituency_Basildon and Billericay are [0 1]\n",
            "The Values of the Column Constituency_Bassetlaw are [0 1]\n",
            "The Values of the Column Constituency_Bath are [0 1]\n",
            "The Values of the Column Constituency_Batley and Spen are [0 1]\n",
            "The Values of the Column Constituency_Beaconsfield are [0 1]\n",
            "The Values of the Column Constituency_Beckenham are [0 1]\n",
            "The Values of the Column Constituency_Belfast East are [0 1]\n",
            "The Values of the Column Constituency_Belfast North are [0 1]\n",
            "The Values of the Column Constituency_Belfast South are [0 1]\n",
            "The Values of the Column Constituency_Belfast West are [0 1]\n",
            "The Values of the Column Constituency_Berwickshire, Roxburgh and Selkirk are [0 1]\n",
            "The Values of the Column Constituency_Bethnal Green and Bow are [0 1]\n",
            "The Values of the Column Constituency_Beverley and Holderness are [0 1]\n",
            "The Values of the Column Constituency_Bexhill and Battle are [0 1]\n",
            "The Values of the Column Constituency_Bexleyheath and Crayford are [0 1]\n",
            "The Values of the Column Constituency_Birkenhead are [0 1]\n",
            "The Values of the Column Constituency_Birmingham, Edgbaston are [0 1]\n",
            "The Values of the Column Constituency_Birmingham, Erdington are [0 1]\n",
            "The Values of the Column Constituency_Birmingham, Hall Green are [0 1]\n",
            "The Values of the Column Constituency_Birmingham, Hodge Hill are [0 1]\n",
            "The Values of the Column Constituency_Birmingham, Ladywood are [0 1]\n",
            "The Values of the Column Constituency_Birmingham, Northfield are [0 1]\n",
            "The Values of the Column Constituency_Birmingham, Perry Barr are [0 1]\n",
            "The Values of the Column Constituency_Birmingham, Selly Oak are [0 1]\n",
            "The Values of the Column Constituency_Birmingham, Yardley are [0 1]\n",
            "The Values of the Column Constituency_Bishop Auckland are [0 1]\n",
            "The Values of the Column Constituency_Blackburn are [0 1]\n",
            "The Values of the Column Constituency_Blackpool North and Cleveleys are [0 1]\n",
            "The Values of the Column Constituency_Blackpool South are [0 1]\n",
            "The Values of the Column Constituency_Blaydon are [0 1]\n",
            "The Values of the Column Constituency_Bognor Regis and Littlehampton are [0 1]\n",
            "The Values of the Column Constituency_Bolsover are [0 1]\n",
            "The Values of the Column Constituency_Bolton North East are [0 1]\n",
            "The Values of the Column Constituency_Bolton South East are [0 1]\n",
            "The Values of the Column Constituency_Bolton West are [0 1]\n",
            "The Values of the Column Constituency_Bosworth are [0 1]\n",
            "The Values of the Column Constituency_Bournemouth East are [0 1]\n",
            "The Values of the Column Constituency_Bournemouth West are [0 1]\n",
            "The Values of the Column Constituency_Bracknell are [0 1]\n",
            "The Values of the Column Constituency_Bradford East are [0 1]\n",
            "The Values of the Column Constituency_Bradford South are [0 1]\n",
            "The Values of the Column Constituency_Bradford West are [0 1]\n",
            "The Values of the Column Constituency_Braintree are [0 1]\n",
            "The Values of the Column Constituency_Brecon and Radnorshire are [0 1]\n",
            "The Values of the Column Constituency_Brent Central are [0 1]\n",
            "The Values of the Column Constituency_Brent North are [0 1]\n",
            "The Values of the Column Constituency_Brentwood and Ongar are [0 1]\n",
            "The Values of the Column Constituency_Bridgend are [0 1]\n",
            "The Values of the Column Constituency_Brigg and Goole are [0 1]\n",
            "The Values of the Column Constituency_Brighton, Kemptown are [0 1]\n",
            "The Values of the Column Constituency_Brighton, Pavilion are [0 1]\n",
            "The Values of the Column Constituency_Bristol East are [0 1]\n",
            "The Values of the Column Constituency_Bristol North West are [0 1]\n",
            "The Values of the Column Constituency_Bristol South are [0 1]\n",
            "The Values of the Column Constituency_Bristol West are [0 1]\n",
            "The Values of the Column Constituency_Bromley and Chislehurst are [0 1]\n",
            "The Values of the Column Constituency_Bromsgrove are [0 1]\n",
            "The Values of the Column Constituency_Broxbourne are [0 1]\n",
            "The Values of the Column Constituency_Buckingham are [0 1]\n",
            "The Values of the Column Constituency_Burnley are [0 1]\n",
            "The Values of the Column Constituency_Burton are [0 1]\n",
            "The Values of the Column Constituency_Bury North are [0 1]\n",
            "The Values of the Column Constituency_Bury South are [0 1]\n",
            "The Values of the Column Constituency_Caerphilly are [0 1]\n",
            "The Values of the Column Constituency_Calder Valley are [0 1]\n",
            "The Values of the Column Constituency_Cambridge are [0 1]\n",
            "The Values of the Column Constituency_Canterbury are [0 1]\n",
            "The Values of the Column Constituency_Cardiff Central are [0 1]\n",
            "The Values of the Column Constituency_Cardiff North are [0 1]\n",
            "The Values of the Column Constituency_Cardiff South and Penarth are [0 1]\n",
            "The Values of the Column Constituency_Cardiff West are [0 1]\n",
            "The Values of the Column Constituency_Carlisle are [0 1]\n",
            "The Values of the Column Constituency_Carshalton and Wallington are [0 1]\n",
            "The Values of the Column Constituency_Central Devon are [0 1]\n",
            "The Values of the Column Constituency_Chelmsford are [0 1]\n",
            "The Values of the Column Constituency_Cheltenham are [0 1]\n",
            "The Values of the Column Constituency_Chesham and Amersham are [0 1]\n",
            "The Values of the Column Constituency_Chichester are [0 1]\n",
            "The Values of the Column Constituency_Chingford and Woodford Green are [0 1]\n",
            "The Values of the Column Constituency_Chippenham are [0 1]\n",
            "The Values of the Column Constituency_Chipping Barnet are [0 1]\n",
            "The Values of the Column Constituency_Chorley are [0 1]\n",
            "The Values of the Column Constituency_Christchurch are [0 1]\n",
            "The Values of the Column Constituency_Cities of London and Westminster are [0 1]\n",
            "The Values of the Column Constituency_City of Chester are [0 1]\n",
            "The Values of the Column Constituency_City of Durham are [0 1]\n",
            "The Values of the Column Constituency_Clacton are [0 1]\n",
            "The Values of the Column Constituency_Cleethorpes are [0 1]\n",
            "The Values of the Column Constituency_Clwyd West are [0 1]\n",
            "The Values of the Column Constituency_Coatbridge, Chryston and Bellshill are [0 1]\n",
            "The Values of the Column Constituency_Colchester are [0 1]\n",
            "The Values of the Column Constituency_Colne Valley are [0 1]\n",
            "The Values of the Column Constituency_Congleton are [0 1]\n",
            "The Values of the Column Constituency_Copeland are [0 1]\n",
            "The Values of the Column Constituency_Coventry North East are [0 1]\n",
            "The Values of the Column Constituency_Coventry North West are [0 1]\n",
            "The Values of the Column Constituency_Coventry South are [0 1]\n",
            "The Values of the Column Constituency_Crewe and Nantwich are [0 1]\n",
            "The Values of the Column Constituency_Croydon Central are [0 1]\n",
            "The Values of the Column Constituency_Croydon North are [0 1]\n",
            "The Values of the Column Constituency_Croydon South are [0 1]\n",
            "The Values of the Column Constituency_Cumbernauld, Kilsyth and Kirkintilloch East are [0 1]\n",
            "The Values of the Column Constituency_Cynon Valley are [0 1]\n",
            "The Values of the Column Constituency_Darlington are [0 1]\n",
            "The Values of the Column Constituency_Dartford are [0 1]\n",
            "The Values of the Column Constituency_Daventry are [0 1]\n",
            "The Values of the Column Constituency_Delyn are [0 1]\n",
            "The Values of the Column Constituency_Derby North are [0 1]\n",
            "The Values of the Column Constituency_Derby South are [0 1]\n",
            "The Values of the Column Constituency_Derbyshire Dales are [0 1]\n",
            "The Values of the Column Constituency_Dewsbury are [0 1]\n",
            "The Values of the Column Constituency_Don Valley are [0 1]\n",
            "The Values of the Column Constituency_Doncaster Central are [0 1]\n",
            "The Values of the Column Constituency_Doncaster North are [0 1]\n",
            "The Values of the Column Constituency_Dover are [0 1]\n",
            "The Values of the Column Constituency_Dudley North are [0 1]\n",
            "The Values of the Column Constituency_Dudley South are [0 1]\n",
            "The Values of the Column Constituency_Dumfries and Galloway are [0 1]\n",
            "The Values of the Column Constituency_Dumfriesshire, Clydesdale and Tweeddale are [0 1]\n",
            "The Values of the Column Constituency_Dundee East are [0 1]\n",
            "The Values of the Column Constituency_Dundee West are [0 1]\n",
            "The Values of the Column Constituency_Easington are [0 1]\n",
            "The Values of the Column Constituency_East Antrim are [0 1]\n",
            "The Values of the Column Constituency_East Devon are [0 1]\n",
            "The Values of the Column Constituency_East Dunbartonshire are [0 1]\n",
            "The Values of the Column Constituency_East Ham are [0 1]\n",
            "The Values of the Column Constituency_East Hampshire are [0 1]\n",
            "The Values of the Column Constituency_East Kilbride, Strathaven and Lesmahagow are [0 1]\n",
            "The Values of the Column Constituency_East Londonderry are [0 1]\n",
            "The Values of the Column Constituency_East Lothian are [0 1]\n",
            "The Values of the Column Constituency_East Renfrewshire are [0 1]\n",
            "The Values of the Column Constituency_East Surrey are [0 1]\n",
            "The Values of the Column Constituency_East Worthing and Shoreham are [0 1]\n",
            "The Values of the Column Constituency_Eastbourne are [0 1]\n",
            "The Values of the Column Constituency_Eddisbury are [0 1]\n",
            "The Values of the Column Constituency_Edinburgh East are [0 1]\n",
            "The Values of the Column Constituency_Edinburgh North and Leith are [0 1]\n",
            "The Values of the Column Constituency_Edinburgh South are [0 1]\n",
            "The Values of the Column Constituency_Edinburgh South West are [0 1]\n",
            "The Values of the Column Constituency_Edinburgh West are [0 1]\n",
            "The Values of the Column Constituency_Edmonton are [0 1]\n",
            "The Values of the Column Constituency_Ellesmere Port and Neston are [0 1]\n",
            "The Values of the Column Constituency_Eltham are [0 1]\n",
            "The Values of the Column Constituency_Enfield North are [0 1]\n",
            "The Values of the Column Constituency_Enfield, Southgate are [0 1]\n",
            "The Values of the Column Constituency_Epping Forest are [0 1]\n",
            "The Values of the Column Constituency_Erewash are [0 1]\n",
            "The Values of the Column Constituency_Erith and Thamesmead are [0 1]\n",
            "The Values of the Column Constituency_Exeter are [0 1]\n",
            "The Values of the Column Constituency_Falkirk are [0 1]\n",
            "The Values of the Column Constituency_Fermanagh and South Tyrone are [0 1]\n",
            "The Values of the Column Constituency_Filton and Bradley Stoke are [0 1]\n",
            "The Values of the Column Constituency_Folkestone and Hythe are [0 1]\n",
            "The Values of the Column Constituency_Forest of Dean are [0 1]\n",
            "The Values of the Column Constituency_Foyle are [0 1]\n",
            "The Values of the Column Constituency_Fylde are [0 1]\n",
            "The Values of the Column Constituency_Gainsborough are [0 1]\n",
            "The Values of the Column Constituency_Glasgow Central are [0 1]\n",
            "The Values of the Column Constituency_Glasgow East are [0 1]\n",
            "The Values of the Column Constituency_Glasgow North are [0 1]\n",
            "The Values of the Column Constituency_Glasgow North East are [0 1]\n",
            "The Values of the Column Constituency_Glasgow North West are [0 1]\n",
            "The Values of the Column Constituency_Glasgow South are [0 1]\n",
            "The Values of the Column Constituency_Glasgow South West are [0 1]\n",
            "The Values of the Column Constituency_Gloucester are [0 1]\n",
            "The Values of the Column Constituency_Gordon are [0 1]\n",
            "The Values of the Column Constituency_Gravesham are [0 1]\n",
            "The Values of the Column Constituency_Great Grimsby are [0 1]\n",
            "The Values of the Column Constituency_Guildford are [0 1]\n",
            "The Values of the Column Constituency_Hackney North and Stoke Newington are [0 1]\n",
            "The Values of the Column Constituency_Hackney South and Shoreditch are [0 1]\n",
            "The Values of the Column Constituency_Halesowen and Rowley Regis are [0 1]\n",
            "The Values of the Column Constituency_Haltemprice and Howden are [0 1]\n",
            "The Values of the Column Constituency_Harlow are [0 1]\n",
            "The Values of the Column Constituency_Harrogate and Knaresborough are [0 1]\n",
            "The Values of the Column Constituency_Harrow East are [0 1]\n",
            "The Values of the Column Constituency_Harrow West are [0 1]\n",
            "The Values of the Column Constituency_Harwich and North Essex are [0 1]\n",
            "The Values of the Column Constituency_Hemel Hempstead are [0 1]\n",
            "The Values of the Column Constituency_Hendon are [0 1]\n",
            "The Values of the Column Constituency_Hereford and South Herefordshire are [0 1]\n",
            "The Values of the Column Constituency_Hertford and Stortford are [0 1]\n",
            "The Values of the Column Constituency_Hertsmere are [0 1]\n",
            "The Values of the Column Constituency_Hexham are [0 1]\n",
            "The Values of the Column Constituency_Heywood and Middleton are [0 1]\n",
            "The Values of the Column Constituency_Hitchin and Harpenden are [0 1]\n",
            "The Values of the Column Constituency_Holborn and St Pancras are [0 1]\n",
            "The Values of the Column Constituency_Houghton and Sunderland South are [0 1]\n",
            "The Values of the Column Constituency_Hove are [0 1]\n",
            "The Values of the Column Constituency_Huddersfield are [0 1]\n",
            "The Values of the Column Constituency_Hyndburn are [0 1]\n",
            "The Values of the Column Constituency_Ilford North are [0 1]\n",
            "The Values of the Column Constituency_Islington South and Finsbury are [0 1]\n",
            "The Values of the Column Constituency_Islwyn are [0 1]\n",
            "The Values of the Column Constituency_Keighley are [0 1]\n",
            "The Values of the Column Constituency_Kenilworth and Southam are [0 1]\n",
            "The Values of the Column Constituency_Kingston upon Hull East are [0 1]\n",
            "The Values of the Column Constituency_Kingston upon Hull North are [0 1]\n",
            "The Values of the Column Constituency_Kingston upon Hull West and Hessle are [0 1]\n",
            "The Values of the Column Constituency_Kingswood are [0 1]\n",
            "The Values of the Column Constituency_Lagan Valley are [0 1]\n",
            "The Values of the Column Constituency_Lanark and Hamilton East are [0 1]\n",
            "The Values of the Column Constituency_Lancaster and Fleetwood are [0 1]\n",
            "The Values of the Column Constituency_Lewes are [0 1]\n",
            "The Values of the Column Constituency_Lewisham East are [0 1]\n",
            "The Values of the Column Constituency_Lewisham West and Penge are [0 1]\n",
            "The Values of the Column Constituency_Leyton and Wanstead are [0 1]\n",
            "The Values of the Column Constituency_Lichfield are [0 1]\n",
            "The Values of the Column Constituency_Linlithgow and East Falkirk are [0 1]\n",
            "The Values of the Column Constituency_Livingston are [0 1]\n",
            "The Values of the Column Constituency_Louth and Horncastle are [0 1]\n",
            "The Values of the Column Constituency_Ludlow are [0 1]\n",
            "The Values of the Column Constituency_Macclesfield are [0 1]\n",
            "The Values of the Column Constituency_Maldon are [0 1]\n",
            "The Values of the Column Constituency_Meon Valley are [0 1]\n",
            "The Values of the Column Constituency_Meriden are [0 1]\n",
            "The Values of the Column Constituency_Merthyr Tydfil and Rhymney are [0 1]\n",
            "The Values of the Column Constituency_Mid Derbyshire are [0 1]\n",
            "The Values of the Column Constituency_Mid Dorset and North Poole are [0 1]\n",
            "The Values of the Column Constituency_Mid Sussex are [0 1]\n",
            "The Values of the Column Constituency_Mid Ulster are [0 1]\n",
            "The Values of the Column Constituency_Mid Worcestershire are [0 1]\n",
            "The Values of the Column Constituency_Midlothian are [0 1]\n",
            "The Values of the Column Constituency_Mitcham and Morden are [0 1]\n",
            "The Values of the Column Constituency_Mole Valley are [0 1]\n",
            "The Values of the Column Constituency_Moray are [0 1]\n",
            "The Values of the Column Constituency_Na h-Eileanan an Iar are [0 1]\n",
            "The Values of the Column Constituency_New Forest West are [0 1]\n",
            "The Values of the Column Constituency_Newark are [0 1]\n",
            "The Values of the Column Constituency_Newcastle-under-Lyme are [0 1]\n",
            "The Values of the Column Constituency_Newport West are [0 1]\n",
            "The Values of the Column Constituency_Newry and Armagh are [0 1]\n",
            "The Values of the Column Constituency_Newton Abbot are [0 1]\n",
            "The Values of the Column Constituency_North Antrim are [0 1]\n",
            "The Values of the Column Constituency_North Cornwall are [0 1]\n",
            "The Values of the Column Constituency_North Devon are [0 1]\n",
            "The Values of the Column Constituency_North Dorset are [0 1]\n",
            "The Values of the Column Constituency_North Down are [0 1]\n",
            "The Values of the Column Constituency_North Durham are [0 1]\n",
            "The Values of the Column Constituency_North East Cambridgeshire are [0 1]\n",
            "The Values of the Column Constituency_North East Fife are [0 1]\n",
            "The Values of the Column Constituency_North East Hampshire are [0 1]\n",
            "The Values of the Column Constituency_North East Somerset are [0 1]\n",
            "The Values of the Column Constituency_North Herefordshire are [0 1]\n",
            "The Values of the Column Constituency_North Somerset are [0 1]\n",
            "The Values of the Column Constituency_North Thanet are [0 1]\n",
            "The Values of the Column Constituency_North Warwickshire are [0 1]\n",
            "The Values of the Column Constituency_North West Durham are [0 1]\n",
            "The Values of the Column Constituency_North West Leicestershire are [0 1]\n",
            "The Values of the Column Constituency_Nuneaton are [0 1]\n",
            "The Values of the Column Constituency_Ochil and South Perthshire are [0 1]\n",
            "The Values of the Column Constituency_Ogmore are [0 1]\n",
            "The Values of the Column Constituency_Old Bexley and Sidcup are [0 1]\n",
            "The Values of the Column Constituency_Orpington are [0 1]\n",
            "The Values of the Column Constituency_Paisley and Renfrewshire North are [0 1]\n",
            "The Values of the Column Constituency_Pendle are [0 1]\n",
            "The Values of the Column Constituency_Penrith and The Border are [0 1]\n",
            "The Values of the Column Constituency_Perth and North Perthshire are [0 1]\n",
            "The Values of the Column Constituency_Pontypridd are [0 1]\n",
            "The Values of the Column Constituency_Poole are [0 1]\n",
            "The Values of the Column Constituency_Poplar and Limehouse are [0 1]\n",
            "The Values of the Column Constituency_Redditch are [0 1]\n",
            "The Values of the Column Constituency_Reigate are [0 1]\n",
            "The Values of the Column Constituency_Rhondda are [0 1]\n",
            "The Values of the Column Constituency_Ribble Valley are [0 1]\n",
            "The Values of the Column Constituency_Richmond (Yorks) are [0 1]\n",
            "The Values of the Column Constituency_Rossendale and Darwen are [0 1]\n",
            "The Values of the Column Constituency_Rugby are [0 1]\n",
            "The Values of the Column Constituency_Ruislip, Northwood and Pinner are [0 1]\n",
            "The Values of the Column Constituency_Runnymede and Weybridge are [0 1]\n",
            "The Values of the Column Constituency_Rutherglen and Hamilton West are [0 1]\n",
            "The Values of the Column Constituency_Saffron Walden are [0 1]\n",
            "The Values of the Column Constituency_Scunthorpe are [0 1]\n",
            "The Values of the Column Constituency_Sedgefield are [0 1]\n",
            "The Values of the Column Constituency_Selby and Ainsty are [0 1]\n",
            "The Values of the Column Constituency_Sevenoaks are [0 1]\n",
            "The Values of the Column Constituency_Shipley are [0 1]\n",
            "The Values of the Column Constituency_Skipton and Ripon are [0 1]\n",
            "The Values of the Column Constituency_Solihull are [0 1]\n",
            "The Values of the Column Constituency_Somerton and Frome are [0 1]\n",
            "The Values of the Column Constituency_South Antrim are [0 1]\n",
            "The Values of the Column Constituency_South Cambridgeshire are [0 1]\n",
            "The Values of the Column Constituency_South Derbyshire are [0 1]\n",
            "The Values of the Column Constituency_South Dorset are [0 1]\n",
            "The Values of the Column Constituency_South Down are [0 1]\n",
            "The Values of the Column Constituency_South East Cambridgeshire are [0 1]\n",
            "The Values of the Column Constituency_South Staffordshire are [0 1]\n",
            "The Values of the Column Constituency_South Suffolk are [0 1]\n",
            "The Values of the Column Constituency_South Thanet are [0 1]\n",
            "The Values of the Column Constituency_South West Hertfordshire are [0 1]\n",
            "The Values of the Column Constituency_South West Surrey are [0 1]\n",
            "The Values of the Column Constituency_South West Wiltshire are [0 1]\n",
            "The Values of the Column Constituency_St Albans are [0 1]\n",
            "The Values of the Column Constituency_Stevenage are [0 1]\n",
            "The Values of the Column Constituency_Stirling are [0 1]\n",
            "The Values of the Column Constituency_Stone are [0 1]\n",
            "The Values of the Column Constituency_Stourbridge are [0 1]\n",
            "The Values of the Column Constituency_Strangford are [0 1]\n",
            "The Values of the Column Constituency_Stratford-on-Avon are [0 1]\n",
            "The Values of the Column Constituency_Stroud are [0 1]\n",
            "The Values of the Column Constituency_Surrey Heath are [0 1]\n",
            "The Values of the Column Constituency_Sutton Coldfield are [0 1]\n",
            "The Values of the Column Constituency_Tamworth are [0 1]\n",
            "The Values of the Column Constituency_Tatton are [0 1]\n",
            "The Values of the Column Constituency_Tewkesbury are [0 1]\n",
            "The Values of the Column Constituency_The Cotswolds are [0 1]\n",
            "The Values of the Column Constituency_Thirsk and Malton are [0 1]\n",
            "The Values of the Column Constituency_Thornbury and Yate are [0 1]\n",
            "The Values of the Column Constituency_Tiverton and Honiton are [0 1]\n",
            "The Values of the Column Constituency_Torridge and West Devon are [0 1]\n",
            "The Values of the Column Constituency_Upper Bann are [0 1]\n",
            "The Values of the Column Constituency_Uxbridge and South Ruislip are [0 1]\n",
            "The Values of the Column Constituency_Vale of Glamorgan are [0 1]\n",
            "The Values of the Column Constituency_Wallasey are [0 1]\n",
            "The Values of the Column Constituency_Walsall South are [0 1]\n",
            "The Values of the Column Constituency_Walthamstow are [0 1]\n",
            "The Values of the Column Constituency_Warley are [0 1]\n",
            "The Values of the Column Constituency_Warwick and Leamington are [0 1]\n",
            "The Values of the Column Constituency_Wealden are [0 1]\n",
            "The Values of the Column Constituency_Weaver Vale are [0 1]\n",
            "The Values of the Column Constituency_Wells are [0 1]\n",
            "The Values of the Column Constituency_Welwyn Hatfield are [1 0]\n",
            "The Values of the Column Constituency_West Aberdeenshire and Kincardine are [0 1]\n",
            "The Values of the Column Constituency_West Bromwich East are [0 1]\n",
            "The Values of the Column Constituency_West Bromwich West are [0 1]\n",
            "The Values of the Column Constituency_West Dorset are [0 1]\n",
            "The Values of the Column Constituency_West Dunbartonshire are [0 1]\n",
            "The Values of the Column Constituency_West Ham are [0 1]\n",
            "The Values of the Column Constituency_West Suffolk are [0 1]\n",
            "The Values of the Column Constituency_West Tyrone are [0 1]\n",
            "The Values of the Column Constituency_West Worcestershire are [0 1]\n",
            "The Values of the Column Constituency_Weston-Super-Mare are [0 1]\n",
            "The Values of the Column Constituency_Wirral South are [0 1]\n",
            "The Values of the Column Constituency_Wirral West are [0 1]\n",
            "The Values of the Column Constituency_Witham are [0 1]\n",
            "The Values of the Column Constituency_Woking are [0 1]\n",
            "The Values of the Column Constituency_Workington are [0 1]\n",
            "The Values of the Column Constituency_Worthing West are [0 1]\n",
            "The Values of the Column Constituency_Wycombe are [0 1]\n",
            "The Values of the Column Constituency_Wyre Forest are [0 1]\n",
            "The Values of the Column Constituency_Wyre and Preston North are [0 1]\n",
            "The Values of the Column Constituency_Yeovil are [0 1]\n",
            "The Values of the Column Current_Status_Divorced are [0 1]\n",
            "The Values of the Column Current_Status_Living with partner are [0 1]\n",
            "The Values of the Column Current_Status_Married with children are [1 0]\n",
            "The Values of the Column Current_Status_Married without children are [0 1]\n",
            "The Values of the Column Current_Status_Separated are [0 1]\n",
            "The Values of the Column Current_Status_Single, never married are [0 1]\n",
            "The Values of the Column Current_Status_Step parent are [0 1]\n",
            "The Values of the Column Current_Status_Widowed are [0 1]\n",
            "The Values of the Column Total_Household_Income_100,000 to 149,999 are [0 1]\n",
            "The Values of the Column Total_Household_Income_150,000 to 199,999 are [0 1]\n",
            "The Values of the Column Total_Household_Income_20,000 to 34,999 are [0 1]\n",
            "The Values of the Column Total_Household_Income_200,000 or more are [0 1]\n",
            "The Values of the Column Total_Household_Income_35,000 to 49,999 are [0 1]\n",
            "The Values of the Column Total_Household_Income_50,000 to 74,999 are [1 0]\n",
            "The Values of the Column Total_Household_Income_75,000 to 99,999 are [0 1]\n",
            "The Values of the Column Total_Household_Income_Less than 20,000 are [0 1]\n",
            "The Values of the Column How often you attend Entertaining events in a year?_1 Times a Year are [0 1]\n",
            "The Values of the Column How often you attend Entertaining events in a year?_2 Times a Year are [0 1]\n",
            "The Values of the Column How often you attend Entertaining events in a year?_3 Times a Year are [0 1]\n",
            "The Values of the Column How often you attend Entertaining events in a year?_4 Times a Year are [1 0]\n",
            "The Values of the Column How often you attend Entertaining events in a year?_5+ Times a Year are [0 1]\n",
            "The Values of the Column Social_Media_Half a day are [0 1]\n",
            "The Values of the Column Social_Media_I don't spend any time at all are [0 1]\n",
            "The Values of the Column Social_Media_More than half a day are [0 1]\n",
            "The Values of the Column Social_Media_Up to 1 hour are [1 0]\n",
            "The Values of the Column Social_Media_Up to 2 hours are [0 1]\n",
            "The Values of the Column How many hours are you willing to travel to attend an event?_1 hour are [0 1]\n",
            "The Values of the Column How many hours are you willing to travel to attend an event?_2 hours are [0 1]\n",
            "The Values of the Column How many hours are you willing to travel to attend an event?_3 hours are [1 0]\n",
            "The Values of the Column How many hours are you willing to travel to attend an event?_4 hours are [0 1]\n",
            "The Values of the Column How many hours are you willing to travel to attend an event?_5 hours are [0 1]\n",
            "The Values of the Column How many hours are you willing to travel to attend an event?_6 hours plus are [0 1]\n",
            "The Values of the Column How many hours are you willing to travel to attend an event?_Depends from the Event are [0 1]\n",
            "The Values of the Column Do you enjoy adrenaline-rush activities?_Entirely agree are [0 1]\n",
            "The Values of the Column Do you enjoy adrenaline-rush activities?_Entirely disagree are [1 0]\n",
            "The Values of the Column Do you enjoy adrenaline-rush activities?_Mostly agree are [0 1]\n",
            "The Values of the Column Do you enjoy adrenaline-rush activities?_Mostly disagree are [0 1]\n",
            "The Values of the Column Do you enjoy adrenaline-rush activities?_Neither agree nor disagree are [0 1]\n",
            "The Values of the Column Do you enjoy adrenaline-rush activities?_Somewhat agree are [0 1]\n",
            "The Values of the Column Do you enjoy adrenaline-rush activities?_Somewhat disagree are [0 1]\n",
            "The Values of the Column Are food areas, coffee areas, bars & toilets important to you?_Entirely agree are [1 0]\n",
            "The Values of the Column Are food areas, coffee areas, bars & toilets important to you?_Entirely disagree are [0 1]\n",
            "The Values of the Column Are food areas, coffee areas, bars & toilets important to you?_Mostly agree are [0 1]\n",
            "The Values of the Column Are food areas, coffee areas, bars & toilets important to you?_Mostly disagree are [0 1]\n",
            "The Values of the Column Are food areas, coffee areas, bars & toilets important to you?_Neither agree nor disagree are [0 1]\n",
            "The Values of the Column Are food areas, coffee areas, bars & toilets important to you?_Somewhat agree are [0 1]\n",
            "The Values of the Column Are food areas, coffee areas, bars & toilets important to you?_Somewhat disagree are [0 1]\n",
            "The Values of the Column What is your favourite attraction from below:_Crazy rollercoaster ride are [0 1]\n",
            "The Values of the Column What is your favourite attraction from below:_Happy Rollercoaster are [0 1]\n",
            "The Values of the Column What is your favourite attraction from below:_Ice Bar are [1 0]\n",
            "The Values of the Column What is your favourite attraction from below:_Ice skating are [0 1]\n",
            "The Values of the Column What is your favourite attraction from below:_Kids Playground are [0 1]\n",
            "The Values of the Column What is your favourite attraction from below:_Tree climbing are [0 1]\n",
            "The Values of the Column What is your favourite attraction from below:_Wooden Bar are [0 1]\n",
            "The Values of the Column Were you satisfied with the last event you attended with us?_Entirely agree are [0 1]\n",
            "The Values of the Column Were you satisfied with the last event you attended with us?_Entirely disagree are [0 1]\n",
            "The Values of the Column Were you satisfied with the last event you attended with us?_Mostly agree are [0 1]\n",
            "The Values of the Column Were you satisfied with the last event you attended with us?_Mostly disagree are [0 1]\n",
            "The Values of the Column Were you satisfied with the last event you attended with us?_Neither agree nor disagree are [0 1]\n",
            "The Values of the Column Were you satisfied with the last event you attended with us?_Somewhat agree are [1 0]\n",
            "The Values of the Column Were you satisfied with the last event you attended with us?_Somewhat disagree are [0 1]\n",
            "The Values of the Column Would you recommend our events to other people?_Mostly Likely are [0 1]\n",
            "The Values of the Column Would you recommend our events to other people?_Mostly Unlikely are [0 1]\n",
            "The Values of the Column Would you recommend our events to other people?_Neither agree nor disagree are [0 1]\n",
            "The Values of the Column Would you recommend our events to other people?_Somewhat Lik are [0 1]\n",
            "The Values of the Column Would you recommend our events to other people?_Somewhat Likely are [0 1]\n",
            "The Values of the Column Would you recommend our events to other people?_Somewhat Unlikely are [1 0]\n",
            "The Values of the Column Would you recommend our events to other people?_Very Likely are [0 1]\n",
            "The Values of the Column Would you recommend our events to other people?_Very Unlikely are [0 1]\n"
          ]
        }
      ]
    },
    {
      "cell_type": "markdown",
      "source": [
        "The Data is Ready to build our KMeans Model"
      ],
      "metadata": {
        "id": "BD9WgpINcn5C"
      }
    },
    {
      "cell_type": "markdown",
      "metadata": {
        "id": "Sx3gnLEv0UhZ"
      },
      "source": [
        "#### **Step 3** :  Creating the Machine Learning Model - K-Means"
      ]
    },
    {
      "cell_type": "markdown",
      "source": [
        "```K-means clustering``` is a way of vector quantization, originally from signal processing that aims to cluster observations based on mean. Lets start with clarifying the premise of clustering case that is explored here; to segment clients . Client segmentation is the method of partitioning an organization’s clients into clusters that reflect likeness among clients in each grouping. The objective of such dissection of clients is to determine how to identify with clients in each fragment to increase the worth of every client to the business."
      ],
      "metadata": {
        "id": "ZbU91eS5eiiu"
      }
    },
    {
      "cell_type": "code",
      "execution_count": 89,
      "metadata": {
        "colab": {
          "base_uri": "https://localhost:8080/"
        },
        "id": "ANadTdsHyN-x",
        "outputId": "6e67726c-be32-41e6-833f-ef66fbcfcc52"
      },
      "outputs": [
        {
          "output_type": "stream",
          "name": "stdout",
          "text": [
            "KMeans(n_clusters=4, random_state=450)\n"
          ]
        }
      ],
      "source": [
        "### Importing Machine Learning Libraries\n",
        "from sklearn.cluster import KMeans, k_means\n",
        "\n",
        "### Creating the Training Set\n",
        "X_train = dummy_data.values\n",
        "\n",
        "### We will start with 4 clusters\n",
        "kmeans = KMeans(n_clusters = 4, random_state = 450)\n",
        "kmeans = kmeans.fit(X_train)\n",
        "\n",
        "### Printing the model\n",
        "print(kmeans)"
      ]
    },
    {
      "cell_type": "code",
      "execution_count": 90,
      "metadata": {
        "colab": {
          "base_uri": "https://localhost:8080/"
        },
        "id": "6ZkWDzRCyOBc",
        "outputId": "fa1e5b3c-7783-48f2-b749-b82af7db23b6"
      },
      "outputs": [
        {
          "output_type": "stream",
          "name": "stdout",
          "text": [
            "The Clusters are : [1 1 1 ... 2 1 2] (11852,)\n",
            "The Inertia is :  117669.95608763059\n"
          ]
        }
      ],
      "source": [
        "# Printing the Clusters assigned to each observation\n",
        "print(\"The Clusters are : {}\".format(kmeans.labels_), kmeans.labels_.shape)\n",
        "\n",
        "# Printing the Inertia\n",
        "print(\"The Inertia is : \", kmeans.inertia_)"
      ]
    },
    {
      "cell_type": "markdown",
      "metadata": {
        "id": "nuf9PH0J6GuQ"
      },
      "source": [
        "**What is Inertia:**\n",
        "\n",
        "Inertia is the within-cluster sum of squares criterion. It is a metric that shows how internally coherent the clusters are. Inertia assumes that clusters are convex and isotropic; performs poorly elongated clusters, or manifolds with irregular shapes; better use hierarchical clustering here. Inertia also performs poorly in very high-dimensional spaces since Euclidean distances become inflated and no normalisation is applied beforehand; not a normalised metric."
      ]
    },
    {
      "cell_type": "code",
      "execution_count": 91,
      "metadata": {
        "colab": {
          "base_uri": "https://localhost:8080/",
          "height": 1000
        },
        "id": "xqlwQD1oyODq",
        "outputId": "6486b163-2488-4c3c-f795-11fe97784d69"
      },
      "outputs": [
        {
          "output_type": "stream",
          "name": "stdout",
          "text": [
            "The Inertia for 2 Clusters is 132956.8528041322\n",
            "The Inertia for 3 Clusters is 124947.07276420626\n",
            "The Inertia for 4 Clusters is 117669.95608763059\n",
            "The Inertia for 5 Clusters is 114061.44597574006\n",
            "The Inertia for 6 Clusters is 110831.25795378139\n",
            "The Inertia for 7 Clusters is 109015.8408100003\n",
            "The Inertia for 8 Clusters is 107366.96605947653\n",
            "The Inertia for 9 Clusters is 106042.07586770153\n",
            "The Inertia for 10 Clusters is 104769.17174912126\n",
            "The Inertia for 11 Clusters is 103765.97015826529\n",
            "The Inertia for 12 Clusters is 103085.85313653338\n",
            "The Inertia for 13 Clusters is 102212.30316420719\n",
            "The Inertia for 14 Clusters is 101563.2656582525\n",
            "The Inertia for 15 Clusters is 101030.2048033966\n",
            "The Inertia for 16 Clusters is 100555.18149478399\n",
            "The Inertia for 17 Clusters is 100150.74928403387\n",
            "The Inertia for 18 Clusters is 99672.53508345791\n",
            "The Inertia for 19 Clusters is 99362.42241968118\n"
          ]
        },
        {
          "output_type": "error",
          "ename": "KeyboardInterrupt",
          "evalue": "ignored",
          "traceback": [
            "\u001b[0;31m---------------------------------------------------------------------------\u001b[0m",
            "\u001b[0;31mKeyboardInterrupt\u001b[0m                         Traceback (most recent call last)",
            "\u001b[0;32m<__array_function__ internals>\u001b[0m in \u001b[0;36mwhere\u001b[0;34m(*args, **kwargs)\u001b[0m\n",
            "\u001b[0;31mKeyboardInterrupt\u001b[0m: "
          ]
        },
        {
          "output_type": "stream",
          "name": "stderr",
          "text": [
            "Exception ignored in: 'sklearn.cluster._k_means_common._relocate_empty_clusters_dense'\n",
            "Traceback (most recent call last):\n",
            "  File \"<__array_function__ internals>\", line 2, in where\n",
            "KeyboardInterrupt\n"
          ]
        },
        {
          "output_type": "stream",
          "name": "stdout",
          "text": [
            "The Inertia for 20 Clusters is 98802.7899011965\n",
            "The Inertia for 21 Clusters is 98614.00226591778\n",
            "The Inertia for 22 Clusters is 98195.44230729144\n",
            "The Inertia for 23 Clusters is 97719.98419240634\n"
          ]
        },
        {
          "output_type": "error",
          "ename": "KeyboardInterrupt",
          "evalue": "ignored",
          "traceback": [
            "\u001b[0;31m---------------------------------------------------------------------------\u001b[0m",
            "\u001b[0;31mKeyboardInterrupt\u001b[0m                         Traceback (most recent call last)",
            "\u001b[0;32m<ipython-input-91-7f892b774fcc>\u001b[0m in \u001b[0;36m<module>\u001b[0;34m()\u001b[0m\n\u001b[1;32m      8\u001b[0m \u001b[0;32mfor\u001b[0m \u001b[0mk\u001b[0m \u001b[0;32min\u001b[0m \u001b[0mnum_of_clusters\u001b[0m\u001b[0;34m:\u001b[0m\u001b[0;34m\u001b[0m\u001b[0;34m\u001b[0m\u001b[0m\n\u001b[1;32m      9\u001b[0m   \u001b[0mkmeans\u001b[0m \u001b[0;34m=\u001b[0m \u001b[0mKMeans\u001b[0m\u001b[0;34m(\u001b[0m\u001b[0mn_clusters\u001b[0m \u001b[0;34m=\u001b[0m \u001b[0mk\u001b[0m\u001b[0;34m,\u001b[0m \u001b[0mrandom_state\u001b[0m \u001b[0;34m=\u001b[0m \u001b[0;36m450\u001b[0m\u001b[0;34m)\u001b[0m\u001b[0;34m\u001b[0m\u001b[0;34m\u001b[0m\u001b[0m\n\u001b[0;32m---> 10\u001b[0;31m   \u001b[0mkmeans\u001b[0m \u001b[0;34m=\u001b[0m \u001b[0mkmeans\u001b[0m\u001b[0;34m.\u001b[0m\u001b[0mfit\u001b[0m\u001b[0;34m(\u001b[0m\u001b[0mX_train\u001b[0m\u001b[0;34m)\u001b[0m\u001b[0;34m\u001b[0m\u001b[0;34m\u001b[0m\u001b[0m\n\u001b[0m\u001b[1;32m     11\u001b[0m   \u001b[0mk_inert\u001b[0m \u001b[0;34m=\u001b[0m \u001b[0mkmeans\u001b[0m\u001b[0;34m.\u001b[0m\u001b[0minertia_\u001b[0m\u001b[0;34m\u001b[0m\u001b[0;34m\u001b[0m\u001b[0m\n\u001b[1;32m     12\u001b[0m   \u001b[0minertia\u001b[0m\u001b[0;34m.\u001b[0m\u001b[0mappend\u001b[0m\u001b[0;34m(\u001b[0m\u001b[0mk_inert\u001b[0m\u001b[0;34m)\u001b[0m\u001b[0;34m\u001b[0m\u001b[0;34m\u001b[0m\u001b[0m\n",
            "\u001b[0;32m/usr/local/lib/python3.7/dist-packages/sklearn/cluster/_kmeans.py\u001b[0m in \u001b[0;36mfit\u001b[0;34m(self, X, y, sample_weight)\u001b[0m\n\u001b[1;32m   1195\u001b[0m                 \u001b[0mtol\u001b[0m\u001b[0;34m=\u001b[0m\u001b[0mself\u001b[0m\u001b[0;34m.\u001b[0m\u001b[0m_tol\u001b[0m\u001b[0;34m,\u001b[0m\u001b[0;34m\u001b[0m\u001b[0;34m\u001b[0m\u001b[0m\n\u001b[1;32m   1196\u001b[0m                 \u001b[0mx_squared_norms\u001b[0m\u001b[0;34m=\u001b[0m\u001b[0mx_squared_norms\u001b[0m\u001b[0;34m,\u001b[0m\u001b[0;34m\u001b[0m\u001b[0;34m\u001b[0m\u001b[0m\n\u001b[0;32m-> 1197\u001b[0;31m                 \u001b[0mn_threads\u001b[0m\u001b[0;34m=\u001b[0m\u001b[0mself\u001b[0m\u001b[0;34m.\u001b[0m\u001b[0m_n_threads\u001b[0m\u001b[0;34m,\u001b[0m\u001b[0;34m\u001b[0m\u001b[0;34m\u001b[0m\u001b[0m\n\u001b[0m\u001b[1;32m   1198\u001b[0m             )\n\u001b[1;32m   1199\u001b[0m \u001b[0;34m\u001b[0m\u001b[0m\n",
            "\u001b[0;32m/usr/local/lib/python3.7/dist-packages/sklearn/cluster/_kmeans.py\u001b[0m in \u001b[0;36m_kmeans_single_elkan\u001b[0;34m(X, sample_weight, centers_init, max_iter, verbose, x_squared_norms, tol, n_threads)\u001b[0m\n\u001b[1;32m    470\u001b[0m         \u001b[0m_inertia\u001b[0m \u001b[0;34m=\u001b[0m \u001b[0m_inertia_dense\u001b[0m\u001b[0;34m\u001b[0m\u001b[0;34m\u001b[0m\u001b[0m\n\u001b[1;32m    471\u001b[0m \u001b[0;34m\u001b[0m\u001b[0m\n\u001b[0;32m--> 472\u001b[0;31m     \u001b[0minit_bounds\u001b[0m\u001b[0;34m(\u001b[0m\u001b[0mX\u001b[0m\u001b[0;34m,\u001b[0m \u001b[0mcenters\u001b[0m\u001b[0;34m,\u001b[0m \u001b[0mcenter_half_distances\u001b[0m\u001b[0;34m,\u001b[0m \u001b[0mlabels\u001b[0m\u001b[0;34m,\u001b[0m \u001b[0mupper_bounds\u001b[0m\u001b[0;34m,\u001b[0m \u001b[0mlower_bounds\u001b[0m\u001b[0;34m)\u001b[0m\u001b[0;34m\u001b[0m\u001b[0;34m\u001b[0m\u001b[0m\n\u001b[0m\u001b[1;32m    473\u001b[0m \u001b[0;34m\u001b[0m\u001b[0m\n\u001b[1;32m    474\u001b[0m     \u001b[0mstrict_convergence\u001b[0m \u001b[0;34m=\u001b[0m \u001b[0;32mFalse\u001b[0m\u001b[0;34m\u001b[0m\u001b[0;34m\u001b[0m\u001b[0m\n",
            "\u001b[0;31mKeyboardInterrupt\u001b[0m: "
          ]
        }
      ],
      "source": [
        "### Finding the Best Number of Clusters\n",
        "\n",
        "### We begin by running K Means with multiple Ks\n",
        "\n",
        "num_of_clusters = range(2, 15)\n",
        "inertia = []\n",
        "\n",
        "for k in num_of_clusters:\n",
        "  kmeans = KMeans(n_clusters = k, random_state = 450)\n",
        "  kmeans = kmeans.fit(X_train)\n",
        "  k_inert = kmeans.inertia_\n",
        "  inertia.append(k_inert)\n",
        "  print(\"The Inertia for {} Clusters is {}\".format(k, k_inert))"
      ]
    },
    {
      "cell_type": "markdown",
      "source": [
        "**Comment:** With the increase of the Number of clusters, the value of inertia decreases.\n",
        "The optimal solution is to find a model with a miminum number of clusters and the minimum value of inertia."
      ],
      "metadata": {
        "id": "5EPCoSmMl7Bz"
      }
    },
    {
      "cell_type": "markdown",
      "source": [
        "#### **Optimization of the Algorithm : Finding the Optimal K parameter**"
      ],
      "metadata": {
        "id": "miN22xMmeSMF"
      }
    },
    {
      "cell_type": "markdown",
      "source": [
        "**Method 1 : The use of K-Means ++ with differnts K's**"
      ],
      "metadata": {
        "id": "nbZQFTYhe9Rq"
      }
    },
    {
      "cell_type": "code",
      "source": [
        "from sklearn.cluster import KMeans\n",
        "from sklearn.metrics import silhouette_score\n",
        "from sklearn.metrics import calinski_harabasz_score\n",
        "\n",
        "\n",
        "num_of_clusters = range(2, 25)\n",
        "report = {}\n",
        "for k in num_of_clusters:\n",
        "  temp_dict = {}\n",
        "  kmeans = KMeans(init = 'k-means++',\n",
        "                  algorithm = 'auto',\n",
        "                  n_clusters = k,\n",
        "                  max_iter = 500,\n",
        "                  random_state = 1,\n",
        "                  verbose = 0).fit(X_train)\n",
        "  inertia = kmeans.inertia_\n",
        "  temp_dict['Sum of Squared Error'] = inertia\n",
        "  try:\n",
        "    cluster = kmeans.predict(X_train)\n",
        "    calinski_harabsz = metrics.calinski_harabasz_score(X_train, cluster)\n",
        "    silhouette = metrics.silhouette_score(X_train, cluster)\n",
        "    temp_dict['Calinski Harabasz Score'] = calinski_harabsz\n",
        "    temp_dict['Silhouette Score'] = silhouette\n",
        "    report[k] = temp_dict\n",
        "  except:\n",
        "    report[k] = temp_dict\n",
        "\n",
        "report_df = pd.DataFrame(report).\n",
        "report_df.plot(figsize = (15, 10),\n",
        "               xticks = search_range,\n",
        "               grid = True,\n",
        "               title = 'Selecting the Optimal K',\n",
        "               subplots = True,\n",
        "               marker = 'o',\n",
        "               sharex = True)\n",
        "\n",
        "plt.tight_layout()"
      ],
      "metadata": {
        "id": "rrH1IijneNMb"
      },
      "execution_count": null,
      "outputs": []
    },
    {
      "cell_type": "markdown",
      "source": [
        "Higher ```Silhouette Coefficient score``` relates to a model with better defined clusters. And higher ```Calinski-Harabasz score``` relates to a model with better defined clusters.\n",
        "\n",
        "```Silhouette score```: Silhouette score tells how far away the datapoints in one cluster are, from the datapoints in another cluster. The range of silhouette score is from -1 to 1. Score should be closer to 1 than -1."
      ],
      "metadata": {
        "id": "xtCzsBPbnSwM"
      }
    },
    {
      "cell_type": "markdown",
      "source": [
        "#### Method 2 : Using Yellowbrick package \n",
        "\n",
        "Testing K-means models with K of 2 to 10, using a random state for reproducibility and not showing timing of model fit."
      ],
      "metadata": {
        "id": "i6tdGJWEnapk"
      }
    },
    {
      "cell_type": "code",
      "source": [
        "from yellowbrick.cluster.elbow import kelbow_visualizer\n",
        "\n",
        "kelbow_visualizer(KMeans(random_state = 1),\n",
        "                  X_train, \n",
        "                  k = (2, 10),\n",
        "                  timings = False)"
      ],
      "metadata": {
        "id": "pYcld1wHnkv0"
      },
      "execution_count": null,
      "outputs": []
    },
    {
      "cell_type": "code",
      "source": [
        "from yellowbrick.cluster import intercluster_distance\n",
        "\n",
        "intercluster_distance(kmeans, \n",
        "                      X_train,\n",
        "                      embedding = 'mds',\n",
        "                      random_state = 12)"
      ],
      "metadata": {
        "id": "xgJ7UhR1n7p9"
      },
      "execution_count": null,
      "outputs": []
    },
    {
      "cell_type": "markdown",
      "source": [
        "#### Method 3 : Using ```MeanShift``` to discover cluster"
      ],
      "metadata": {
        "id": "IDT70LlooILs"
      }
    },
    {
      "cell_type": "code",
      "source": [
        "from sklearn.cluster import MeanShift, estimate_bandwidth\n",
        "\n",
        "# Using MeanShift to get an estimate\n",
        "bandwidth = estimate_bandwidth(X_train, \n",
        "                               quantile = 0.3,\n",
        "                               n_jobs = -1)\n",
        "\n",
        "mean_shift = MeanShift(bandwidth = bandwidth,\n",
        "                       bin_seeding = False,\n",
        "                       n_jobs = -1,\n",
        "                       max_iter = 500)\n",
        "\n",
        "mean_shift.fit(X_train)\n",
        "labels = mean_shift.labels_\n",
        "cluster_centers = mean_shift.cluster_centers_\n",
        "labels_unique = np.unique(labels)\n",
        "n_clusters_ len(labels_unique)\n",
        "print(f\"Number of Estimated Clusters : {n_clusters_}\")"
      ],
      "metadata": {
        "id": "BM7wV6L8odq2"
      },
      "execution_count": null,
      "outputs": []
    },
    {
      "cell_type": "code",
      "execution_count": null,
      "metadata": {
        "id": "wjm31VAnczBT"
      },
      "outputs": [],
      "source": [
        "# Computing the Elbow Method\n",
        "fig, axis = plt.subplots(1, figsize = (10, 10))\n",
        "xx = np.arange(len(num_of_clusters))\n",
        "ax1.plot(xx, inertia)\n",
        "ax1.set_xticks(xx)\n",
        "ax1.set_xticklabels(num_of_clusters, rotation = 'vertical')\n",
        "plt.xlabel(\"Number of Clusters\")\n",
        "plt.ylabel(\"Inertia Score\")\n",
        "plt.title(\"Inertia Score per K\")"
      ]
    },
    {
      "cell_type": "code",
      "execution_count": null,
      "metadata": {
        "id": "vIHo4avE8NC_"
      },
      "outputs": [],
      "source": [
        "num_of_clusters\n",
        "\n",
        "len(num_of_clusters)"
      ]
    },
    {
      "cell_type": "code",
      "execution_count": null,
      "metadata": {
        "id": "kSXeWk618hOx"
      },
      "outputs": [],
      "source": [
        ""
      ]
    },
    {
      "cell_type": "code",
      "execution_count": null,
      "metadata": {
        "id": "QmH91KH58hWf"
      },
      "outputs": [],
      "source": [
        ""
      ]
    },
    {
      "cell_type": "code",
      "execution_count": null,
      "metadata": {
        "id": "87knMq3s8hql"
      },
      "outputs": [],
      "source": [
        ""
      ]
    },
    {
      "cell_type": "code",
      "execution_count": null,
      "metadata": {
        "id": "js1qSjRq8hwK"
      },
      "outputs": [],
      "source": [
        ""
      ]
    }
  ],
  "metadata": {
    "colab": {
      "collapsed_sections": [],
      "name": "Data Science - Customer Segmentation Using K-Means .ipynb",
      "provenance": [],
      "authorship_tag": "ABX9TyO2jUYTTqoCVhnMPvmtuib/",
      "include_colab_link": true
    },
    "kernelspec": {
      "display_name": "Python 3",
      "name": "python3"
    },
    "language_info": {
      "name": "python"
    }
  },
  "nbformat": 4,
  "nbformat_minor": 0
}